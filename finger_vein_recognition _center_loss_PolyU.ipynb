{
 "cells": [
  {
   "cell_type": "markdown",
   "metadata": {},
   "source": [
    "# 指静脉识别"
   ]
  },
  {
   "cell_type": "markdown",
   "metadata": {},
   "source": [
    "## 导入数据集"
   ]
  },
  {
   "cell_type": "markdown",
   "metadata": {},
   "source": [
    "### 导入包"
   ]
  },
  {
   "cell_type": "code",
   "execution_count": 60,
   "metadata": {},
   "outputs": [],
   "source": [
    "import mxnet as mx\n",
    "from mxnet import ndarray as nd\n",
    "from mxnet import autograd as ag\n",
    "from mxnet import gluon\n",
    "from mxnet.gluon.data import vision\n",
    "from mxnet.gluon.data.vision import transforms\n",
    "from mxnet.gluon.data import DataLoader\n",
    "from mxnet.gluon.model_zoo import vision as models\n",
    "from mxnet.gluon import nn\n",
    "from mxnet import init\n",
    "%matplotlib inline\n",
    "import matplotlib as mpl\n",
    "mpl.rcParams['figure.dpi'] = 120\n",
    "import matplotlib.pyplot as plt\n",
    "import datetime\n",
    "import numpy as np\n",
    "import os\n",
    "from scipy import misc\n",
    "from sklearn import decomposition\n",
    "from sklearn.preprocessing import StandardScaler"
   ]
  },
  {
   "cell_type": "code",
   "execution_count": 61,
   "metadata": {
    "collapsed": true
   },
   "outputs": [],
   "source": [
    "transform_train = transforms.Compose([\n",
    "#     transforms.RandomFlipLeftRight(),\n",
    "#     transforms.RandomFlipTopBottom(),\n",
    "#     transforms.RandomBrightness(0.1), \n",
    "#     transforms.RandomContrast(0.1), \n",
    "    transforms.Resize(224), \n",
    "    transforms.ToTensor()\n",
    "])\n",
    "\n",
    "transform_valid = transforms.Compose([\n",
    "    transforms.Resize(224), \n",
    "    transforms.ToTensor()\n",
    "])"
   ]
  },
  {
   "cell_type": "code",
   "execution_count": 62,
   "metadata": {
    "collapsed": true
   },
   "outputs": [],
   "source": [
    "# transforms.RandomContrast??"
   ]
  },
  {
   "cell_type": "code",
   "execution_count": 63,
   "metadata": {
    "collapsed": true
   },
   "outputs": [],
   "source": [
    "data_dir = './data/PolyU/'\n",
    "batch_size = 8\n",
    "\n",
    "train_ds = vision.ImageFolderDataset(root=data_dir+'train', flag=1)\n",
    "valid_ds = vision.ImageFolderDataset(root=data_dir+'valid', flag=1)\n",
    "\n",
    "train_data = DataLoader(train_ds.transform_first(transform_train), \n",
    "                        batch_size, shuffle=True, last_batch='keep')\n",
    "valid_data = DataLoader(valid_ds.transform_first(transform_valid), \n",
    "                        batch_size, shuffle=False, last_batch='keep')"
   ]
  },
  {
   "cell_type": "code",
   "execution_count": 64,
   "metadata": {},
   "outputs": [
    {
     "name": "stdout",
     "output_type": "stream",
     "text": [
      "936\n",
      "117\n",
      "(8, 3, 224, 224) (8,)\n",
      "\n",
      "[ 23 268 233 290 204  93 224 242]\n",
      "<NDArray 8 @gpu(0)>\n"
     ]
    }
   ],
   "source": [
    "print(len(train_ds))\n",
    "\n",
    "print(len(train_data))\n",
    "for data, label in train_data:\n",
    "    print(data.shape, label.shape)\n",
    "    print(label.as_in_context(mx.gpu(0)))\n",
    "    break"
   ]
  },
  {
   "cell_type": "markdown",
   "metadata": {},
   "source": [
    "## softmax loss"
   ]
  },
  {
   "cell_type": "code",
   "execution_count": 65,
   "metadata": {
    "collapsed": true
   },
   "outputs": [],
   "source": [
    "softmax_cross_entropy = gluon.loss.SoftmaxCrossEntropyLoss()"
   ]
  },
  {
   "cell_type": "markdown",
   "metadata": {},
   "source": [
    "## center loss"
   ]
  },
  {
   "cell_type": "code",
   "execution_count": 66,
   "metadata": {
    "collapsed": true
   },
   "outputs": [],
   "source": [
    "class CenterLoss(gluon.HybridBlock):\n",
    "    r\"\"\"\n",
    "    Center Loss: A Discriminative Feature Learning Approach for Deep Face Recognition\n",
    "    \"\"\"\n",
    "    def __init__(self, num_classes, feature_size, lmbd, **kwargs):\n",
    "        super(CenterLoss, self).__init__(**kwargs)\n",
    "        self._num_classes = num_classes\n",
    "        self._feature_size = feature_size\n",
    "        self._lmda = lmbd\n",
    "        self.centers = self.params.get('centers', shape=(num_classes, feature_size))\n",
    "\n",
    "    def hybrid_forward(self, F, feature, label, centers):\n",
    "        hist = F.array(np.bincount(label.asnumpy().astype(int)))\n",
    "        centers_count = F.take(hist, label)\n",
    "        centers_selected = F.take(centers, label)\n",
    "        diff = feature - centers_selected\n",
    "        loss = self._lmda * 0.5 * F.sum(F.square(diff), 1) / centers_count\n",
    "        return F.mean(loss, axis=0, exclude=True)"
   ]
  },
  {
   "cell_type": "code",
   "execution_count": 67,
   "metadata": {
    "collapsed": true
   },
   "outputs": [],
   "source": [
    "center_loss = CenterLoss(num_classes=312, feature_size=1792, lmbd=0.2) #lmbd = 0.2 99.4595"
   ]
  },
  {
   "cell_type": "markdown",
   "metadata": {},
   "source": [
    "## triplet loss"
   ]
  },
  {
   "cell_type": "code",
   "execution_count": 68,
   "metadata": {
    "collapsed": true
   },
   "outputs": [],
   "source": [
    "# triplet_loss = gluon.loss.TripletLoss()"
   ]
  },
  {
   "cell_type": "code",
   "execution_count": 69,
   "metadata": {
    "collapsed": true
   },
   "outputs": [],
   "source": [
    "# gluon.loss.TripletLoss??"
   ]
  },
  {
   "cell_type": "markdown",
   "metadata": {},
   "source": [
    "## 定义模型 --FingerveinNet"
   ]
  },
  {
   "cell_type": "code",
   "execution_count": 70,
   "metadata": {
    "collapsed": true
   },
   "outputs": [],
   "source": [
    "class block_35(nn.HybridBlock):\n",
    "    def __init__(self, channels, **kwargs):\n",
    "        super(block_35, self).__init__(**kwargs)\n",
    "        with self.name_scope():\n",
    "            branch_1 = nn.HybridSequential()\n",
    "            branch_1.add(nn.Conv2D(channels=channels[0], kernel_size=1, \n",
    "                                   strides=1, padding=0))\n",
    "            branch_1.add(nn.BatchNorm())\n",
    "            branch_1.add(nn.Activation(activation='relu'))\n",
    "            \n",
    "            branch_2 = nn.HybridSequential()\n",
    "            branch_2.add(nn.Conv2D(channels=channels[1], kernel_size=1, \n",
    "                                   strides=1, padding=0))\n",
    "            branch_2.add(nn.BatchNorm())\n",
    "            branch_2.add(nn.Activation(activation='relu'))\n",
    "            branch_2.add(nn.Conv2D(channels=channels[2], kernel_size=3, \n",
    "                                   strides=1, padding=1))\n",
    "            branch_2.add(nn.BatchNorm())\n",
    "            branch_2.add(nn.Activation(activation='relu'))\n",
    "            \n",
    "            branch_3 = nn.HybridSequential()\n",
    "            branch_3.add(nn.Conv2D(channels=channels[3], kernel_size=1, \n",
    "                                   strides=1, padding=0))\n",
    "            branch_3.add(nn.BatchNorm())\n",
    "            branch_3.add(nn.Activation(activation='relu'))\n",
    "            branch_3.add(nn.Conv2D(channels=channels[4], kernel_size=5, \n",
    "                                   strides=1, padding=2))\n",
    "            branch_3.add(nn.BatchNorm())\n",
    "            branch_3.add(nn.Activation(activation='relu'))\n",
    "            \n",
    "#             branch_4 = nn.HybridSequential()\n",
    "#             branch_4.add(nn.MaxPool2D(pool_size=3, strides=1, padding=1))\n",
    "#             branch_4.add(nn.Conv2D(channels=channels[5], kernel_size=1, \n",
    "#                                    strides=1, padding=0))\n",
    "            \n",
    "            self.up = nn.Conv2D(channels=channels[6], kernel_size=1, \n",
    "                                strides=1, padding=0)\n",
    "            \n",
    "            self.bn = nn.BatchNorm()\n",
    "            \n",
    "        self.branch_1 = branch_1\n",
    "        self.branch_2 = branch_2\n",
    "        self.branch_3 = branch_3\n",
    "#         self.branch_4 = branch_4\n",
    "    \n",
    "    def hybrid_forward(self, F, x):\n",
    "        out1 = out2 = out3 = out4 = x\n",
    "        for layer in self.branch_1:\n",
    "            out1 = layer(out1)\n",
    "        for layer in self.branch_2:\n",
    "            out2 = layer(out2)\n",
    "        for layer in self.branch_3:\n",
    "            out3 = layer(out3)\n",
    "#         for layer in self.branch_4:\n",
    "#             out4 = layer(out4)\n",
    "#         mixed = F.concat(out1, out2, out3, out4, dim=1)\n",
    "        mixed = F.concat(out1, out2, out3, dim=1)\n",
    "        up = self.up(mixed)\n",
    "            \n",
    "        out = F.relu(self.bn(up + x))\n",
    "        \n",
    "        return out"
   ]
  },
  {
   "cell_type": "code",
   "execution_count": 71,
   "metadata": {
    "collapsed": true
   },
   "outputs": [],
   "source": [
    "class block_17(nn.HybridBlock):\n",
    "    def __init__(self, channels, **kwargs):\n",
    "        super(block_17, self).__init__(**kwargs)\n",
    "        with self.name_scope():\n",
    "            branch_1 = nn.HybridSequential()\n",
    "            branch_1.add(nn.Conv2D(channels=channels[0], kernel_size=1, \n",
    "                                   strides=1, padding=0))\n",
    "            branch_1.add(nn.BatchNorm())\n",
    "            branch_1.add(nn.Activation(activation='relu'))\n",
    "            \n",
    "            branch_2 = nn.HybridSequential()\n",
    "            branch_2.add(nn.Conv2D(channels=channels[1], kernel_size=1, \n",
    "                                   strides=1, padding=0))\n",
    "            branch_2.add(nn.BatchNorm())\n",
    "            branch_2.add(nn.Activation(activation='relu'))\n",
    "            branch_2.add(nn.Conv2D(channels=channels[2], kernel_size=(1, 7), \n",
    "                                   strides=1, padding=(0, 3)))\n",
    "            branch_2.add(nn.BatchNorm())\n",
    "            branch_2.add(nn.Activation(activation='relu'))\n",
    "            branch_2.add(nn.Conv2D(channels=channels[3], kernel_size=(7, 1), \n",
    "                                   strides=1, padding=(3, 0)))\n",
    "            branch_2.add(nn.BatchNorm())\n",
    "            branch_2.add(nn.Activation(activation='relu'))\n",
    "            \n",
    "            self.up = nn.Conv2D(channels=channels[4], kernel_size=1, \n",
    "                                strides=1, padding=0)\n",
    "            \n",
    "            self.bn = nn.BatchNorm()\n",
    "            \n",
    "        self.branch_1 = branch_1\n",
    "        self.branch_2 = branch_2\n",
    "    \n",
    "    def hybrid_forward(self, F, x):\n",
    "        out1 = out2 = x\n",
    "        for layer in self.branch_1:\n",
    "            out1 = layer(out1)\n",
    "        for layer in self.branch_2:\n",
    "            out2 = layer(out2)\n",
    "        mixed = F.concat(out1, out2, dim=1)\n",
    "        up = self.up(mixed)\n",
    "            \n",
    "        out = F.relu(self.bn(up + x))\n",
    "        \n",
    "        return out"
   ]
  },
  {
   "cell_type": "code",
   "execution_count": 72,
   "metadata": {
    "collapsed": true
   },
   "outputs": [],
   "source": [
    "class block_13(nn.HybridBlock):\n",
    "    def __init__(self, channels, **kwargs):\n",
    "        super(block_13, self).__init__(**kwargs)\n",
    "        with self.name_scope():\n",
    "            branch_1 = nn.HybridSequential()\n",
    "            branch_1.add(nn.Conv2D(channels=channels[0], kernel_size=1, \n",
    "                                   strides=1, padding=0))\n",
    "            branch_1.add(nn.BatchNorm())\n",
    "            branch_1.add(nn.Activation(activation='relu'))\n",
    "            \n",
    "            branch_2 = nn.HybridSequential()\n",
    "            branch_2.add(nn.Conv2D(channels=channels[1], kernel_size=1, \n",
    "                                   strides=1, padding=0))\n",
    "            branch_2.add(nn.BatchNorm())\n",
    "            branch_2.add(nn.Activation(activation='relu'))\n",
    "            branch_2.add(nn.Conv2D(channels=channels[2], kernel_size=(1, 3), \n",
    "                                   strides=1, padding=(0, 1)))\n",
    "            branch_2.add(nn.BatchNorm())\n",
    "            branch_2.add(nn.Activation(activation='relu'))\n",
    "            branch_2.add(nn.Conv2D(channels=channels[3], kernel_size=(3, 1), \n",
    "                                   strides=1, padding=(1, 0)))\n",
    "            branch_2.add(nn.BatchNorm())\n",
    "            branch_2.add(nn.Activation(activation='relu'))\n",
    "            \n",
    "            self.up = nn.Conv2D(channels=channels[4], kernel_size=1, \n",
    "                                strides=1, padding=0)\n",
    "            \n",
    "            self.bn = nn.BatchNorm()\n",
    "            \n",
    "        self.branch_1 = branch_1\n",
    "        self.branch_2 = branch_2\n",
    "    \n",
    "    def hybrid_forward(self, F, x):\n",
    "        out1 = out2 = x\n",
    "        for layer in self.branch_1:\n",
    "            out1 = layer(out1)\n",
    "        for layer in self.branch_2:\n",
    "            out2 = layer(out2)\n",
    "        mixed = F.concat(out1, out2, dim=1)\n",
    "        up = self.up(mixed)\n",
    "            \n",
    "        out = F.relu(self.bn(up + x))\n",
    "        \n",
    "        return out"
   ]
  },
  {
   "cell_type": "code",
   "execution_count": 73,
   "metadata": {
    "collapsed": true
   },
   "outputs": [],
   "source": [
    "class FingerveinNet(nn.HybridBlock):\n",
    "    def __init__(self, num_classes, verbose=False, **kwargs):\n",
    "        super(FingerveinNet, self).__init__(**kwargs)\n",
    "        self.verbose = verbose\n",
    "        with self.name_scope():\n",
    "            features = nn.HybridSequential()\n",
    "            # Stage 1\n",
    "            features.add(nn.Conv2D(channels=64, kernel_size=3, \n",
    "                              strides=1, padding=1))\n",
    "            features.add(nn.BatchNorm())\n",
    "            features.add(nn.Activation(activation='relu'))\n",
    "            features.add(nn.Conv2D(channels=192, kernel_size=3, \n",
    "                              strides=2, padding=1))\n",
    "            features.add(nn.BatchNorm())\n",
    "            features.add(nn.Activation(activation='relu'))\n",
    "            features.add(nn.MaxPool2D(pool_size=3, strides=2, padding=1))\n",
    "#             features.add(nn.Dropout(0.2))\n",
    "            # Stage 2\n",
    "            features.add(nn.Conv2D(channels=64, kernel_size=1, \n",
    "                              strides=1, padding=0))\n",
    "            features.add(nn.BatchNorm())\n",
    "            features.add(nn.Activation(activation='relu'))\n",
    "            features.add(nn.Conv2D(channels=256, kernel_size=3, \n",
    "                              strides=1, padding=1))\n",
    "            features.add(nn.BatchNorm())\n",
    "            features.add(nn.Activation(activation='relu'))\n",
    "            features.add(nn.MaxPool2D(pool_size=3, strides=2, padding=1))\n",
    "#             features.add(nn.Dropout(0.2))\n",
    "            # Stage 3\n",
    "            features.add(block_35(channels=[32, 32, 32, 32, 32, 32, 256]))\n",
    "#             net.add(block_35(channels=[32, 32, 32, 32, 32, 32, 256]))\n",
    "#             net.add(block_35(channels=[32, 32, 32, 32, 32, 32, 256]))\n",
    "            features.add(nn.Conv2D(channels=896, kernel_size=3, \n",
    "                              strides=1, padding=1))\n",
    "            features.add(nn.BatchNorm())\n",
    "            features.add(nn.Activation(activation='relu'))\n",
    "            features.add(nn.MaxPool2D(pool_size=3, strides=2, padding=1))\n",
    "#             features.add(nn.Dropout(0.2))\n",
    "            # Stage 4\n",
    "            features.add(block_17(channels=[128, 128, 128, 128, 896]))\n",
    "            features.add(block_17(channels=[128, 128, 128, 128, 896]))\n",
    "            features.add(block_17(channels=[128, 128, 128, 128, 896]))\n",
    "#             net.add(block_17(channels=[128, 128, 128, 128, 896]))\n",
    "#             net.add(block_17(channels=[128, 128, 128, 128, 896]))\n",
    "            features.add(nn.Conv2D(channels=1792, kernel_size=3, \n",
    "                              strides=1, padding=1))\n",
    "            features.add(nn.BatchNorm())\n",
    "            features.add(nn.Activation(activation='relu'))\n",
    "            features.add(nn.MaxPool2D(pool_size=3, strides=2, padding=1))\n",
    "#             features.add(nn.Dropout(0.2))\n",
    "            # Stage 5\n",
    "            features.add(block_13(channels=[192, 192, 192, 192, 1792]))\n",
    "#             net.add(block_13(channels=[192, 192, 192, 192, 1792]))\n",
    "#             net.add(block_13(channels=[192, 192, 192, 192, 1792]))\n",
    "            features.add(nn.AvgPool2D(pool_size=7, strides=1, padding=0))\n",
    "            # classification\n",
    "            features.add(nn.Dropout(0.2))\n",
    "            features.add(nn.Flatten())\n",
    "            \n",
    "            output = nn.Dense(num_classes)\n",
    "        \n",
    "        self.features = features\n",
    "        self.output = output\n",
    "        \n",
    "    def hybrid_forward(self, F, x):\n",
    "        for i, layer in enumerate(self.features):\n",
    "            feat = layer(x)\n",
    "            x = feat\n",
    "            if self.verbose:\n",
    "                print('Block %d, Output: %s' % (i+1, out.shape))\n",
    "        out = self.output(feat)\n",
    "        return out, feat"
   ]
  },
  {
   "cell_type": "code",
   "execution_count": 74,
   "metadata": {
    "collapsed": true
   },
   "outputs": [],
   "source": [
    "def get_net(ctx, num_classes=100):\n",
    "    net = FingerveinNet(num_classes)\n",
    "#     net = ResNet(num_classes)\n",
    "#     net = ResNet50(num_classes)\n",
    "    net.initialize(ctx=ctx, init=init.Xavier())\n",
    "    return net"
   ]
  },
  {
   "cell_type": "code",
   "execution_count": 16,
   "metadata": {},
   "outputs": [
    {
     "data": {
      "text/plain": [
       "FingerveinNet(\n",
       "  (features): HybridSequential(\n",
       "    (0): Conv2D(None -> 64, kernel_size=(3, 3), stride=(1, 1), padding=(1, 1))\n",
       "    (1): BatchNorm(axis=1, eps=1e-05, momentum=0.9, fix_gamma=False, use_global_stats=False, in_channels=None)\n",
       "    (2): Activation(relu)\n",
       "    (3): Conv2D(None -> 192, kernel_size=(3, 3), stride=(2, 2), padding=(1, 1))\n",
       "    (4): BatchNorm(axis=1, eps=1e-05, momentum=0.9, fix_gamma=False, use_global_stats=False, in_channels=None)\n",
       "    (5): Activation(relu)\n",
       "    (6): MaxPool2D(size=(3, 3), stride=(2, 2), padding=(1, 1), ceil_mode=False)\n",
       "    (7): Conv2D(None -> 64, kernel_size=(1, 1), stride=(1, 1))\n",
       "    (8): BatchNorm(axis=1, eps=1e-05, momentum=0.9, fix_gamma=False, use_global_stats=False, in_channels=None)\n",
       "    (9): Activation(relu)\n",
       "    (10): Conv2D(None -> 256, kernel_size=(3, 3), stride=(1, 1), padding=(1, 1))\n",
       "    (11): BatchNorm(axis=1, eps=1e-05, momentum=0.9, fix_gamma=False, use_global_stats=False, in_channels=None)\n",
       "    (12): Activation(relu)\n",
       "    (13): MaxPool2D(size=(3, 3), stride=(2, 2), padding=(1, 1), ceil_mode=False)\n",
       "    (14): block_35(\n",
       "      (up): Conv2D(None -> 256, kernel_size=(1, 1), stride=(1, 1))\n",
       "      (bn): BatchNorm(axis=1, eps=1e-05, momentum=0.9, fix_gamma=False, use_global_stats=False, in_channels=None)\n",
       "      (branch_1): HybridSequential(\n",
       "        (0): Conv2D(None -> 32, kernel_size=(1, 1), stride=(1, 1))\n",
       "        (1): BatchNorm(axis=1, eps=1e-05, momentum=0.9, fix_gamma=False, use_global_stats=False, in_channels=None)\n",
       "        (2): Activation(relu)\n",
       "      )\n",
       "      (branch_2): HybridSequential(\n",
       "        (0): Conv2D(None -> 32, kernel_size=(1, 1), stride=(1, 1))\n",
       "        (1): BatchNorm(axis=1, eps=1e-05, momentum=0.9, fix_gamma=False, use_global_stats=False, in_channels=None)\n",
       "        (2): Activation(relu)\n",
       "        (3): Conv2D(None -> 32, kernel_size=(3, 3), stride=(1, 1), padding=(1, 1))\n",
       "        (4): BatchNorm(axis=1, eps=1e-05, momentum=0.9, fix_gamma=False, use_global_stats=False, in_channels=None)\n",
       "        (5): Activation(relu)\n",
       "      )\n",
       "      (branch_3): HybridSequential(\n",
       "        (0): Conv2D(None -> 32, kernel_size=(1, 1), stride=(1, 1))\n",
       "        (1): BatchNorm(axis=1, eps=1e-05, momentum=0.9, fix_gamma=False, use_global_stats=False, in_channels=None)\n",
       "        (2): Activation(relu)\n",
       "        (3): Conv2D(None -> 32, kernel_size=(5, 5), stride=(1, 1), padding=(2, 2))\n",
       "        (4): BatchNorm(axis=1, eps=1e-05, momentum=0.9, fix_gamma=False, use_global_stats=False, in_channels=None)\n",
       "        (5): Activation(relu)\n",
       "      )\n",
       "    )\n",
       "    (15): Conv2D(None -> 896, kernel_size=(3, 3), stride=(1, 1), padding=(1, 1))\n",
       "    (16): BatchNorm(axis=1, eps=1e-05, momentum=0.9, fix_gamma=False, use_global_stats=False, in_channels=None)\n",
       "    (17): Activation(relu)\n",
       "    (18): MaxPool2D(size=(3, 3), stride=(2, 2), padding=(1, 1), ceil_mode=False)\n",
       "    (19): block_17(\n",
       "      (up): Conv2D(None -> 896, kernel_size=(1, 1), stride=(1, 1))\n",
       "      (bn): BatchNorm(axis=1, eps=1e-05, momentum=0.9, fix_gamma=False, use_global_stats=False, in_channels=None)\n",
       "      (branch_1): HybridSequential(\n",
       "        (0): Conv2D(None -> 128, kernel_size=(1, 1), stride=(1, 1))\n",
       "        (1): BatchNorm(axis=1, eps=1e-05, momentum=0.9, fix_gamma=False, use_global_stats=False, in_channels=None)\n",
       "        (2): Activation(relu)\n",
       "      )\n",
       "      (branch_2): HybridSequential(\n",
       "        (0): Conv2D(None -> 128, kernel_size=(1, 1), stride=(1, 1))\n",
       "        (1): BatchNorm(axis=1, eps=1e-05, momentum=0.9, fix_gamma=False, use_global_stats=False, in_channels=None)\n",
       "        (2): Activation(relu)\n",
       "        (3): Conv2D(None -> 128, kernel_size=(1, 7), stride=(1, 1), padding=(0, 3))\n",
       "        (4): BatchNorm(axis=1, eps=1e-05, momentum=0.9, fix_gamma=False, use_global_stats=False, in_channels=None)\n",
       "        (5): Activation(relu)\n",
       "        (6): Conv2D(None -> 128, kernel_size=(7, 1), stride=(1, 1), padding=(3, 0))\n",
       "        (7): BatchNorm(axis=1, eps=1e-05, momentum=0.9, fix_gamma=False, use_global_stats=False, in_channels=None)\n",
       "        (8): Activation(relu)\n",
       "      )\n",
       "    )\n",
       "    (20): block_17(\n",
       "      (up): Conv2D(None -> 896, kernel_size=(1, 1), stride=(1, 1))\n",
       "      (bn): BatchNorm(axis=1, eps=1e-05, momentum=0.9, fix_gamma=False, use_global_stats=False, in_channels=None)\n",
       "      (branch_1): HybridSequential(\n",
       "        (0): Conv2D(None -> 128, kernel_size=(1, 1), stride=(1, 1))\n",
       "        (1): BatchNorm(axis=1, eps=1e-05, momentum=0.9, fix_gamma=False, use_global_stats=False, in_channels=None)\n",
       "        (2): Activation(relu)\n",
       "      )\n",
       "      (branch_2): HybridSequential(\n",
       "        (0): Conv2D(None -> 128, kernel_size=(1, 1), stride=(1, 1))\n",
       "        (1): BatchNorm(axis=1, eps=1e-05, momentum=0.9, fix_gamma=False, use_global_stats=False, in_channels=None)\n",
       "        (2): Activation(relu)\n",
       "        (3): Conv2D(None -> 128, kernel_size=(1, 7), stride=(1, 1), padding=(0, 3))\n",
       "        (4): BatchNorm(axis=1, eps=1e-05, momentum=0.9, fix_gamma=False, use_global_stats=False, in_channels=None)\n",
       "        (5): Activation(relu)\n",
       "        (6): Conv2D(None -> 128, kernel_size=(7, 1), stride=(1, 1), padding=(3, 0))\n",
       "        (7): BatchNorm(axis=1, eps=1e-05, momentum=0.9, fix_gamma=False, use_global_stats=False, in_channels=None)\n",
       "        (8): Activation(relu)\n",
       "      )\n",
       "    )\n",
       "    (21): block_17(\n",
       "      (up): Conv2D(None -> 896, kernel_size=(1, 1), stride=(1, 1))\n",
       "      (bn): BatchNorm(axis=1, eps=1e-05, momentum=0.9, fix_gamma=False, use_global_stats=False, in_channels=None)\n",
       "      (branch_1): HybridSequential(\n",
       "        (0): Conv2D(None -> 128, kernel_size=(1, 1), stride=(1, 1))\n",
       "        (1): BatchNorm(axis=1, eps=1e-05, momentum=0.9, fix_gamma=False, use_global_stats=False, in_channels=None)\n",
       "        (2): Activation(relu)\n",
       "      )\n",
       "      (branch_2): HybridSequential(\n",
       "        (0): Conv2D(None -> 128, kernel_size=(1, 1), stride=(1, 1))\n",
       "        (1): BatchNorm(axis=1, eps=1e-05, momentum=0.9, fix_gamma=False, use_global_stats=False, in_channels=None)\n",
       "        (2): Activation(relu)\n",
       "        (3): Conv2D(None -> 128, kernel_size=(1, 7), stride=(1, 1), padding=(0, 3))\n",
       "        (4): BatchNorm(axis=1, eps=1e-05, momentum=0.9, fix_gamma=False, use_global_stats=False, in_channels=None)\n",
       "        (5): Activation(relu)\n",
       "        (6): Conv2D(None -> 128, kernel_size=(7, 1), stride=(1, 1), padding=(3, 0))\n",
       "        (7): BatchNorm(axis=1, eps=1e-05, momentum=0.9, fix_gamma=False, use_global_stats=False, in_channels=None)\n",
       "        (8): Activation(relu)\n",
       "      )\n",
       "    )\n",
       "    (22): Conv2D(None -> 1792, kernel_size=(3, 3), stride=(1, 1), padding=(1, 1))\n",
       "    (23): BatchNorm(axis=1, eps=1e-05, momentum=0.9, fix_gamma=False, use_global_stats=False, in_channels=None)\n",
       "    (24): Activation(relu)\n",
       "    (25): MaxPool2D(size=(3, 3), stride=(2, 2), padding=(1, 1), ceil_mode=False)\n",
       "    (26): block_13(\n",
       "      (up): Conv2D(None -> 1792, kernel_size=(1, 1), stride=(1, 1))\n",
       "      (bn): BatchNorm(axis=1, eps=1e-05, momentum=0.9, fix_gamma=False, use_global_stats=False, in_channels=None)\n",
       "      (branch_1): HybridSequential(\n",
       "        (0): Conv2D(None -> 192, kernel_size=(1, 1), stride=(1, 1))\n",
       "        (1): BatchNorm(axis=1, eps=1e-05, momentum=0.9, fix_gamma=False, use_global_stats=False, in_channels=None)\n",
       "        (2): Activation(relu)\n",
       "      )\n",
       "      (branch_2): HybridSequential(\n",
       "        (0): Conv2D(None -> 192, kernel_size=(1, 1), stride=(1, 1))\n",
       "        (1): BatchNorm(axis=1, eps=1e-05, momentum=0.9, fix_gamma=False, use_global_stats=False, in_channels=None)\n",
       "        (2): Activation(relu)\n",
       "        (3): Conv2D(None -> 192, kernel_size=(1, 3), stride=(1, 1), padding=(0, 1))\n",
       "        (4): BatchNorm(axis=1, eps=1e-05, momentum=0.9, fix_gamma=False, use_global_stats=False, in_channels=None)\n",
       "        (5): Activation(relu)\n",
       "        (6): Conv2D(None -> 192, kernel_size=(3, 1), stride=(1, 1), padding=(1, 0))\n",
       "        (7): BatchNorm(axis=1, eps=1e-05, momentum=0.9, fix_gamma=False, use_global_stats=False, in_channels=None)\n",
       "        (8): Activation(relu)\n",
       "      )\n",
       "    )\n",
       "    (27): AvgPool2D(size=(7, 7), stride=(1, 1), padding=(0, 0), ceil_mode=False)\n",
       "    (28): Dropout(p = 0.2)\n",
       "    (29): Flatten\n",
       "  )\n",
       "  (output): Dense(None -> 312, linear)\n",
       ")"
      ]
     },
     "execution_count": 16,
     "metadata": {},
     "output_type": "execute_result"
    }
   ],
   "source": [
    "FingerveinNet(num_classes=312, verbose=True)"
   ]
  },
  {
   "cell_type": "markdown",
   "metadata": {},
   "source": [
    "## softmax loss trainning"
   ]
  },
  {
   "cell_type": "code",
   "execution_count": 75,
   "metadata": {
    "collapsed": true
   },
   "outputs": [],
   "source": [
    "def train_softmax(train_data, valid_data, net, ctx, num_epoches, \n",
    "          learning_rate=0.01, lr_decay=0.1, lr_period=50, \n",
    "          momentum = 0.9, weight_decay=0, cost_period = 10, \n",
    "          print_cost=False):\n",
    "    costs = []\n",
    "    max_acc = 0\n",
    "#     trainer = gluon.Trainer(net.collect_params(), 'sgd', \n",
    "#                             {'learning_rate': learning_rate, \n",
    "#                              'momentum': momentum, \n",
    "#                              'wd': weight_decay})\n",
    "    trainer = gluon.Trainer(net.collect_params(), 'adam', \n",
    "                            {'learning_rate': learning_rate})\n",
    "    pre_time = datetime.datetime.now()\n",
    "#     moving_loss = 0\n",
    "#     niter = 0\n",
    "    for epoch in range(num_epoches):\n",
    "        train_loss = 0\n",
    "        train_acc = 0\n",
    "        if (epoch+1) in lr_period:\n",
    "            trainer.set_learning_rate(trainer.learning_rate * lr_decay)\n",
    "        for data, label in train_data:\n",
    "            data = data.as_in_context(ctx)\n",
    "#             label = label.as_in_context(ctx)\n",
    "            label = label.astype('float32').as_in_context(ctx)\n",
    "            with ag.record():\n",
    "                output, features = net(data)\n",
    "                loss = softmax_cross_entropy(output, label)\n",
    "            loss.backward()\n",
    "            trainer.step(batch_size)\n",
    "            train_loss += nd.mean(loss).asscalar()\n",
    "#             print(output.argmax(axis=1).astype(np.int64), label)\n",
    "            train_acc += nd.mean(output.argmax(axis=1) == label).asscalar()\n",
    "#             train_acc += nd.mean(output.argmax(axis=1).astype(np.int64) == label).asscalar()\n",
    "#             niter += 1\n",
    "#             cur_loss = nd.mean(loss).asscalar()\n",
    "#             moving_loss = 0.9 * moving_loss + 0.1 * cur_loss\n",
    "#             corr_loss = moving_loss / (1 - pow(0.9, niter))\n",
    "        cur_time = datetime.datetime.now()\n",
    "        h, remainder = divmod((cur_time - pre_time).seconds, 3600)\n",
    "        m, s = divmod(remainder, 60)\n",
    "        time_str = \"Time %02d:%02d:%02d\" % (h, m, s)\n",
    "        if valid_data is not None:\n",
    "            valid_acc = 0\n",
    "            for data, label in valid_data:\n",
    "                data = data.as_in_context(ctx)\n",
    "#                 label = label.as_in_context(ctx)\n",
    "                label = label.astype('float32').as_in_context(ctx)\n",
    "                output, features = net(data)\n",
    "#                 valid_acc += nd.mean(output.argmax(axis=1).astype(np.int64) == label).asscalar()\n",
    "                valid_acc += nd.mean(output.argmax(axis=1) == label).asscalar()\n",
    "            if valid_acc > max_acc:\n",
    "                net.save_params('fingervein_weight_softmax_PolyU_new.txt')\n",
    "                max_acc = valid_acc\n",
    "            epoch_str = \"Epoch %d, train_loss: %f, train_acc: %f, valid_acc %f, \" % (epoch+1, \n",
    "                                                                                   train_loss/len(train_data), \n",
    "                                                                                   train_acc/len(train_data), \n",
    "                                                                                   valid_acc/len(valid_data))\n",
    "        else:\n",
    "            epoch_str = \"Epoch %d, train_loss: %f, train_acc: %f, \" % (epoch+1, \n",
    "                                                                     train_loss/len(train_data), \n",
    "                                                                     train_acc/len(train_data))\n",
    "        if print_cost and (epoch+1) % cost_period == 0:\n",
    "#             costs.append(corr_loss)\n",
    "            costs.append(train_loss/len(train_data))\n",
    "        print(epoch_str + time_str + ', lr: %f' % trainer.learning_rate)\n",
    "        pre_time = cur_time\n",
    "    if print_cost:\n",
    "        x_axis = np.linspace(0, num_epoches, len(costs), endpoint = True)\n",
    "        plt.semilogy(x_axis, costs)\n",
    "        plt.xlabel('epoch')\n",
    "        plt.ylabel('loss')\n",
    "        plt.savefig('train_softmax_loss_PolyU_new.png')\n",
    "        plt.show()"
   ]
  },
  {
   "cell_type": "markdown",
   "metadata": {},
   "source": [
    "## center loss trainning"
   ]
  },
  {
   "cell_type": "code",
   "execution_count": 18,
   "metadata": {
    "collapsed": true
   },
   "outputs": [],
   "source": [
    "def train_center(train_data, valid_data, net, ctx, num_epoches, \n",
    "          learning_rate=0.01, lr_decay=0.1, lr_period=50, lr_set=[0.001, 0.0001, 0.0001], \n",
    "          momentum = 0.9, weight_decay=0, cost_period = 10, \n",
    "          print_cost=False):\n",
    "    costs = []\n",
    "    max_acc = 0\n",
    "#     trainer = gluon.Trainer(net.collect_params(), 'sgd', \n",
    "#                             {'learning_rate': learning_rate, \n",
    "#                              'momentum': momentum, \n",
    "#                              'wd': weight_decay})\n",
    "    \n",
    "    center_loss.initialize(mx.init.Xavier(), ctx=ctx)\n",
    "    trainer_center = gluon.Trainer(center_loss.collect_params(), 'adam', \n",
    "                                   {'learning_rate': learning_rate})\n",
    "#     trainer_center = gluon.Trainer(center_loss.collect_params(), 'sgd', \n",
    "#                             {'learning_rate': learning_rate, \n",
    "#                              'momentum': momentum, \n",
    "#                              'wd': weight_decay})\n",
    "    trainer = gluon.Trainer(net.collect_params(), 'adam', \n",
    "                            {'learning_rate': learning_rate})\n",
    "    pre_time = datetime.datetime.now()\n",
    "#     moving_loss = 0\n",
    "#     niter = 0\n",
    "    for epoch in range(num_epoches):\n",
    "        train_loss = 0\n",
    "        train_acc = 0\n",
    "        count = 0\n",
    "        if (epoch+1) in lr_period:\n",
    "#             trainer.set_learning_rate(trainer.learning_rate * lr_decay)\n",
    "            trainer.set_learning_rate(lr_set[count])\n",
    "            count += 1\n",
    "        for data, label in train_data:\n",
    "            data = data.as_in_context(ctx)\n",
    "#             label = label.as_in_context(ctx)\n",
    "            label = label.astype('float32').as_in_context(ctx)\n",
    "            with ag.record():\n",
    "                output, features = net(data)\n",
    "#                 loss = softmax_cross_entropy(output, label)\n",
    "                loss_softmax = softmax_cross_entropy(output, label)\n",
    "                loss_center = center_loss(features, label)\n",
    "                loss = loss_softmax + loss_center\n",
    "            loss.backward()\n",
    "            trainer.step(batch_size)\n",
    "            trainer_center.step(batch_size)\n",
    "#             loss.backward()\n",
    "#             trainer.step(batch_size)\n",
    "            train_loss += nd.mean(loss).asscalar()\n",
    "#             print(output.argmax(axis=1).astype(np.int64), label)\n",
    "            train_acc += nd.mean(output.argmax(axis=1) == label).asscalar()\n",
    "#             train_acc += nd.mean(output.argmax(axis=1).astype(np.int64) == label).asscalar()\n",
    "#             niter += 1\n",
    "#             cur_loss = nd.mean(loss).asscalar()\n",
    "#             moving_loss = 0.9 * moving_loss + 0.1 * cur_loss\n",
    "#             corr_loss = moving_loss / (1 - pow(0.9, niter))\n",
    "        cur_time = datetime.datetime.now()\n",
    "        h, remainder = divmod((cur_time - pre_time).seconds, 3600)\n",
    "        m, s = divmod(remainder, 60)\n",
    "        time_str = \"Time %02d:%02d:%02d\" % (h, m, s)\n",
    "        if valid_data is not None:\n",
    "            valid_acc = 0\n",
    "            for data, label in valid_data:\n",
    "                data = data.as_in_context(ctx)\n",
    "#                 label = label.as_in_context(ctx)\n",
    "                label = label.astype('float32').as_in_context(ctx)\n",
    "                output, features = net(data)\n",
    "#                 valid_acc += nd.mean(output.argmax(axis=1).astype(np.int64) == label).asscalar()\n",
    "                valid_acc += nd.mean(output.argmax(axis=1) == label).asscalar()\n",
    "            if valid_acc >= max_acc:\n",
    "                net.save_params('fingervein_weight_centerloss_PolyU_new.txt')\n",
    "                max_acc = valid_acc\n",
    "            epoch_str = \"Epoch %d, train_loss: %f, train_acc: %f, valid_acc %f, \" % (epoch+1, \n",
    "                                                                                   train_loss/len(train_data), \n",
    "                                                                                   train_acc/len(train_data), \n",
    "                                                                                   valid_acc/len(valid_data))\n",
    "        else:\n",
    "            epoch_str = \"Epoch %d, train_loss: %f, train_acc: %f, \" % (epoch+1, \n",
    "                                                                     train_loss/len(train_data), \n",
    "                                                                     train_acc/len(train_data))\n",
    "        if print_cost and (epoch+1) % cost_period == 0:\n",
    "#             costs.append(corr_loss)\n",
    "            costs.append(train_loss/len(train_data))\n",
    "        print(epoch_str + time_str + ', lr: %f' % trainer.learning_rate)\n",
    "        pre_time = cur_time\n",
    "    if print_cost:\n",
    "        x_axis = np.linspace(0, num_epoches, len(costs), endpoint = True)\n",
    "        plt.semilogy(x_axis, costs)\n",
    "        plt.xlabel('epoch')\n",
    "        plt.ylabel('loss')\n",
    "        plt.savefig('train_center_loss_PolyU_new.png')\n",
    "        plt.show()"
   ]
  },
  {
   "cell_type": "code",
   "execution_count": 76,
   "metadata": {
    "collapsed": true
   },
   "outputs": [],
   "source": [
    "# valid_data = None\n",
    "ctx = mx.gpu(0)\n",
    "num_epoches = 300\n",
    "learning_rate = 0.001\n",
    "lr_decay = 0.3\n",
    "lr_period = [80, 130, 200, 250]\n",
    "lr_set = [0.0003, 0.0001, 0.00003, 0.00001]\n",
    "# lr_period = [50, 100, 150, 200]\n",
    "momentum = 0.9\n",
    "weight_decay = 5e-4\n",
    "cost_period = 10"
   ]
  },
  {
   "cell_type": "markdown",
   "metadata": {},
   "source": [
    "## 从头训练"
   ]
  },
  {
   "cell_type": "code",
   "execution_count": 21,
   "metadata": {
    "scrolled": false
   },
   "outputs": [
    {
     "name": "stdout",
     "output_type": "stream",
     "text": [
      "Epoch 1, train_loss: 8.198749, train_acc: 0.001068, valid_acc 0.004274, Time 00:00:09, lr: 0.001000\n",
      "Epoch 2, train_loss: 5.893004, train_acc: 0.003205, valid_acc 0.007479, Time 00:00:11, lr: 0.001000\n",
      "Epoch 3, train_loss: 5.771493, train_acc: 0.003205, valid_acc 0.005342, Time 00:00:12, lr: 0.001000\n",
      "Epoch 4, train_loss: 5.707734, train_acc: 0.004274, valid_acc 0.013889, Time 00:00:11, lr: 0.001000\n",
      "Epoch 5, train_loss: 5.628729, train_acc: 0.005342, valid_acc 0.009615, Time 00:00:11, lr: 0.001000\n",
      "Epoch 6, train_loss: 5.511315, train_acc: 0.005342, valid_acc 0.011752, Time 00:00:11, lr: 0.001000\n",
      "Epoch 7, train_loss: 5.405708, train_acc: 0.008547, valid_acc 0.022436, Time 00:00:11, lr: 0.001000\n",
      "Epoch 8, train_loss: 5.306376, train_acc: 0.009615, valid_acc 0.043803, Time 00:00:11, lr: 0.001000\n",
      "Epoch 9, train_loss: 5.168488, train_acc: 0.020299, valid_acc 0.070513, Time 00:00:11, lr: 0.001000\n",
      "Epoch 10, train_loss: 5.018629, train_acc: 0.045940, valid_acc 0.114316, Time 00:00:11, lr: 0.001000\n",
      "Epoch 11, train_loss: 4.818941, train_acc: 0.067308, valid_acc 0.134615, Time 00:00:11, lr: 0.001000\n",
      "Epoch 12, train_loss: 4.635039, train_acc: 0.082265, valid_acc 0.143162, Time 00:00:11, lr: 0.001000\n",
      "Epoch 13, train_loss: 4.418281, train_acc: 0.114316, valid_acc 0.186966, Time 00:00:11, lr: 0.001000\n",
      "Epoch 14, train_loss: 4.240605, train_acc: 0.174145, valid_acc 0.244658, Time 00:00:11, lr: 0.001000\n",
      "Epoch 15, train_loss: 4.004215, train_acc: 0.231838, valid_acc 0.267094, Time 00:00:11, lr: 0.001000\n",
      "Epoch 16, train_loss: 3.828788, train_acc: 0.269231, valid_acc 0.232906, Time 00:00:11, lr: 0.001000\n",
      "Epoch 17, train_loss: 3.594323, train_acc: 0.324786, valid_acc 0.397436, Time 00:00:11, lr: 0.001000\n",
      "Epoch 18, train_loss: 3.282233, train_acc: 0.410256, valid_acc 0.309829, Time 00:00:11, lr: 0.001000\n",
      "Epoch 19, train_loss: 3.117040, train_acc: 0.440171, valid_acc 0.469017, Time 00:00:11, lr: 0.001000\n",
      "Epoch 20, train_loss: 2.836907, train_acc: 0.529915, valid_acc 0.491453, Time 00:00:11, lr: 0.001000\n",
      "Epoch 21, train_loss: 2.646152, train_acc: 0.587607, valid_acc 0.486111, Time 00:00:11, lr: 0.001000\n",
      "Epoch 22, train_loss: 2.493867, train_acc: 0.630342, valid_acc 0.529915, Time 00:00:11, lr: 0.001000\n",
      "Epoch 23, train_loss: 2.126630, train_acc: 0.720085, valid_acc 0.613248, Time 00:00:11, lr: 0.001000\n",
      "Epoch 24, train_loss: 1.858159, train_acc: 0.818376, valid_acc 0.666667, Time 00:00:12, lr: 0.001000\n",
      "Epoch 25, train_loss: 1.662849, train_acc: 0.845085, valid_acc 0.650641, Time 00:00:11, lr: 0.001000\n",
      "Epoch 26, train_loss: 1.510736, train_acc: 0.885684, valid_acc 0.727564, Time 00:00:11, lr: 0.001000\n",
      "Epoch 27, train_loss: 1.354096, train_acc: 0.914530, valid_acc 0.742521, Time 00:00:11, lr: 0.001000\n",
      "Epoch 28, train_loss: 1.214528, train_acc: 0.931624, valid_acc 0.763889, Time 00:00:11, lr: 0.001000\n",
      "Epoch 29, train_loss: 1.047302, train_acc: 0.955128, valid_acc 0.777778, Time 00:00:11, lr: 0.001000\n",
      "Epoch 30, train_loss: 0.943658, train_acc: 0.974359, valid_acc 0.814103, Time 00:00:11, lr: 0.001000\n",
      "Epoch 31, train_loss: 0.848927, train_acc: 0.987179, valid_acc 0.855769, Time 00:00:11, lr: 0.001000\n",
      "Epoch 32, train_loss: 0.794603, train_acc: 0.986111, valid_acc 0.858974, Time 00:00:11, lr: 0.001000\n",
      "Epoch 33, train_loss: 0.738176, train_acc: 0.994658, valid_acc 0.866453, Time 00:00:11, lr: 0.001000\n",
      "Epoch 34, train_loss: 0.625917, train_acc: 0.998932, valid_acc 0.875000, Time 00:00:11, lr: 0.001000\n",
      "Epoch 35, train_loss: 0.613693, train_acc: 0.995726, valid_acc 0.870726, Time 00:00:12, lr: 0.001000\n",
      "Epoch 36, train_loss: 0.530473, train_acc: 1.000000, valid_acc 0.898504, Time 00:00:11, lr: 0.001000\n",
      "Epoch 37, train_loss: 0.493079, train_acc: 1.000000, valid_acc 0.902778, Time 00:00:11, lr: 0.001000\n",
      "Epoch 38, train_loss: 0.454212, train_acc: 1.000000, valid_acc 0.897436, Time 00:00:11, lr: 0.001000\n",
      "Epoch 39, train_loss: 0.429813, train_acc: 1.000000, valid_acc 0.920940, Time 00:00:11, lr: 0.001000\n",
      "Epoch 40, train_loss: 0.414766, train_acc: 1.000000, valid_acc 0.919872, Time 00:00:11, lr: 0.001000\n",
      "Epoch 41, train_loss: 0.428526, train_acc: 1.000000, valid_acc 0.911325, Time 00:00:11, lr: 0.001000\n",
      "Epoch 42, train_loss: 0.381139, train_acc: 1.000000, valid_acc 0.917735, Time 00:00:11, lr: 0.001000\n",
      "Epoch 43, train_loss: 0.368180, train_acc: 1.000000, valid_acc 0.910256, Time 00:00:11, lr: 0.001000\n",
      "Epoch 44, train_loss: 0.355005, train_acc: 1.000000, valid_acc 0.934829, Time 00:00:11, lr: 0.001000\n",
      "Epoch 45, train_loss: 0.325341, train_acc: 1.000000, valid_acc 0.933761, Time 00:00:12, lr: 0.001000\n",
      "Epoch 46, train_loss: 0.306214, train_acc: 1.000000, valid_acc 0.949786, Time 00:00:11, lr: 0.001000\n",
      "Epoch 47, train_loss: 0.308362, train_acc: 1.000000, valid_acc 0.943376, Time 00:00:11, lr: 0.001000\n",
      "Epoch 48, train_loss: 0.320986, train_acc: 1.000000, valid_acc 0.924145, Time 00:00:11, lr: 0.001000\n",
      "Epoch 49, train_loss: 0.295349, train_acc: 1.000000, valid_acc 0.943376, Time 00:00:11, lr: 0.001000\n",
      "Epoch 50, train_loss: 0.264102, train_acc: 1.000000, valid_acc 0.951923, Time 00:00:11, lr: 0.001000\n",
      "Epoch 51, train_loss: 0.249533, train_acc: 1.000000, valid_acc 0.946581, Time 00:00:11, lr: 0.001000\n",
      "Epoch 52, train_loss: 0.239185, train_acc: 1.000000, valid_acc 0.947650, Time 00:00:11, lr: 0.001000\n",
      "Epoch 53, train_loss: 0.231112, train_acc: 1.000000, valid_acc 0.950855, Time 00:00:11, lr: 0.001000\n",
      "Epoch 54, train_loss: 0.222625, train_acc: 1.000000, valid_acc 0.955128, Time 00:00:11, lr: 0.001000\n",
      "Epoch 55, train_loss: 0.214127, train_acc: 1.000000, valid_acc 0.958333, Time 00:00:11, lr: 0.001000\n",
      "Epoch 56, train_loss: 0.247426, train_acc: 1.000000, valid_acc 0.935897, Time 00:00:12, lr: 0.001000\n",
      "Epoch 57, train_loss: 0.324516, train_acc: 0.987179, valid_acc 0.521368, Time 00:00:11, lr: 0.001000\n",
      "Epoch 58, train_loss: 0.923223, train_acc: 0.934829, valid_acc 0.833333, Time 00:00:11, lr: 0.001000\n",
      "Epoch 59, train_loss: 0.339353, train_acc: 0.997863, valid_acc 0.930556, Time 00:00:11, lr: 0.001000\n",
      "Epoch 60, train_loss: 0.254464, train_acc: 1.000000, valid_acc 0.943376, Time 00:00:11, lr: 0.001000\n",
      "Epoch 61, train_loss: 0.215808, train_acc: 1.000000, valid_acc 0.946581, Time 00:00:11, lr: 0.001000\n",
      "Epoch 62, train_loss: 0.203606, train_acc: 1.000000, valid_acc 0.955128, Time 00:00:11, lr: 0.001000\n",
      "Epoch 63, train_loss: 0.186914, train_acc: 1.000000, valid_acc 0.951923, Time 00:00:11, lr: 0.001000\n",
      "Epoch 64, train_loss: 0.185412, train_acc: 1.000000, valid_acc 0.958333, Time 00:00:11, lr: 0.001000\n",
      "Epoch 65, train_loss: 0.173500, train_acc: 1.000000, valid_acc 0.961538, Time 00:00:11, lr: 0.001000\n",
      "Epoch 66, train_loss: 0.183368, train_acc: 1.000000, valid_acc 0.962607, Time 00:00:12, lr: 0.001000\n",
      "Epoch 67, train_loss: 0.161396, train_acc: 1.000000, valid_acc 0.962607, Time 00:00:11, lr: 0.001000\n",
      "Epoch 68, train_loss: 0.155193, train_acc: 1.000000, valid_acc 0.963675, Time 00:00:11, lr: 0.001000\n",
      "Epoch 69, train_loss: 0.149368, train_acc: 1.000000, valid_acc 0.959402, Time 00:00:11, lr: 0.001000\n",
      "Epoch 70, train_loss: 0.142794, train_acc: 1.000000, valid_acc 0.969017, Time 00:00:11, lr: 0.001000\n",
      "Epoch 71, train_loss: 0.137640, train_acc: 1.000000, valid_acc 0.971154, Time 00:00:11, lr: 0.001000\n",
      "Epoch 72, train_loss: 0.134499, train_acc: 1.000000, valid_acc 0.969017, Time 00:00:12, lr: 0.001000\n",
      "Epoch 73, train_loss: 0.132410, train_acc: 1.000000, valid_acc 0.970085, Time 00:00:11, lr: 0.001000\n",
      "Epoch 74, train_loss: 0.129707, train_acc: 1.000000, valid_acc 0.972222, Time 00:00:11, lr: 0.001000\n",
      "Epoch 75, train_loss: 0.124517, train_acc: 1.000000, valid_acc 0.976496, Time 00:00:11, lr: 0.001000\n",
      "Epoch 76, train_loss: 0.119421, train_acc: 1.000000, valid_acc 0.972222, Time 00:00:12, lr: 0.001000\n",
      "Epoch 77, train_loss: 0.116332, train_acc: 1.000000, valid_acc 0.978632, Time 00:00:11, lr: 0.001000\n",
      "Epoch 78, train_loss: 0.112924, train_acc: 1.000000, valid_acc 0.975427, Time 00:00:11, lr: 0.001000\n",
      "Epoch 79, train_loss: 0.109645, train_acc: 1.000000, valid_acc 0.975427, Time 00:00:11, lr: 0.001000\n",
      "Epoch 80, train_loss: 0.103711, train_acc: 1.000000, valid_acc 0.976496, Time 00:00:11, lr: 0.000300\n",
      "Epoch 81, train_loss: 0.101399, train_acc: 1.000000, valid_acc 0.977564, Time 00:00:11, lr: 0.000300\n",
      "Epoch 82, train_loss: 0.099817, train_acc: 1.000000, valid_acc 0.980769, Time 00:00:11, lr: 0.000300\n"
     ]
    },
    {
     "name": "stdout",
     "output_type": "stream",
     "text": [
      "Epoch 83, train_loss: 0.100160, train_acc: 1.000000, valid_acc 0.978632, Time 00:00:11, lr: 0.000300\n",
      "Epoch 84, train_loss: 0.098358, train_acc: 1.000000, valid_acc 0.980769, Time 00:00:11, lr: 0.000300\n",
      "Epoch 85, train_loss: 0.098081, train_acc: 1.000000, valid_acc 0.975427, Time 00:00:11, lr: 0.000300\n",
      "Epoch 86, train_loss: 0.100053, train_acc: 1.000000, valid_acc 0.978632, Time 00:00:11, lr: 0.000300\n",
      "Epoch 87, train_loss: 0.098129, train_acc: 1.000000, valid_acc 0.980769, Time 00:00:11, lr: 0.000300\n",
      "Epoch 88, train_loss: 0.095692, train_acc: 1.000000, valid_acc 0.980769, Time 00:00:11, lr: 0.000300\n",
      "Epoch 89, train_loss: 0.094050, train_acc: 1.000000, valid_acc 0.979701, Time 00:00:11, lr: 0.000300\n",
      "Epoch 90, train_loss: 0.091962, train_acc: 1.000000, valid_acc 0.982906, Time 00:00:11, lr: 0.000300\n",
      "Epoch 91, train_loss: 0.091185, train_acc: 1.000000, valid_acc 0.980769, Time 00:00:11, lr: 0.000300\n",
      "Epoch 92, train_loss: 0.089859, train_acc: 1.000000, valid_acc 0.980769, Time 00:00:11, lr: 0.000300\n",
      "Epoch 93, train_loss: 0.089448, train_acc: 1.000000, valid_acc 0.982906, Time 00:00:11, lr: 0.000300\n",
      "Epoch 94, train_loss: 0.088154, train_acc: 1.000000, valid_acc 0.981838, Time 00:00:11, lr: 0.000300\n",
      "Epoch 95, train_loss: 0.086569, train_acc: 1.000000, valid_acc 0.982906, Time 00:00:11, lr: 0.000300\n",
      "Epoch 96, train_loss: 0.085962, train_acc: 1.000000, valid_acc 0.981838, Time 00:00:11, lr: 0.000300\n",
      "Epoch 97, train_loss: 0.084642, train_acc: 1.000000, valid_acc 0.980769, Time 00:00:11, lr: 0.000300\n",
      "Epoch 98, train_loss: 0.084496, train_acc: 1.000000, valid_acc 0.980769, Time 00:00:11, lr: 0.000300\n",
      "Epoch 99, train_loss: 0.083676, train_acc: 1.000000, valid_acc 0.981838, Time 00:00:11, lr: 0.000300\n",
      "Epoch 100, train_loss: 0.081010, train_acc: 1.000000, valid_acc 0.983974, Time 00:00:11, lr: 0.000300\n",
      "Epoch 101, train_loss: 0.080062, train_acc: 1.000000, valid_acc 0.983974, Time 00:00:11, lr: 0.000300\n",
      "Epoch 102, train_loss: 0.079877, train_acc: 1.000000, valid_acc 0.985043, Time 00:00:11, lr: 0.000300\n",
      "Epoch 103, train_loss: 0.077761, train_acc: 1.000000, valid_acc 0.983974, Time 00:00:11, lr: 0.000300\n",
      "Epoch 104, train_loss: 0.077738, train_acc: 1.000000, valid_acc 0.983974, Time 00:00:11, lr: 0.000300\n",
      "Epoch 105, train_loss: 0.076089, train_acc: 1.000000, valid_acc 0.981838, Time 00:00:11, lr: 0.000300\n",
      "Epoch 106, train_loss: 0.075184, train_acc: 1.000000, valid_acc 0.988248, Time 00:00:11, lr: 0.000300\n",
      "Epoch 107, train_loss: 0.074151, train_acc: 1.000000, valid_acc 0.982906, Time 00:00:11, lr: 0.000300\n",
      "Epoch 108, train_loss: 0.072965, train_acc: 1.000000, valid_acc 0.987179, Time 00:00:11, lr: 0.000300\n",
      "Epoch 109, train_loss: 0.071712, train_acc: 1.000000, valid_acc 0.983974, Time 00:00:11, lr: 0.000300\n",
      "Epoch 110, train_loss: 0.070878, train_acc: 1.000000, valid_acc 0.983974, Time 00:00:10, lr: 0.000300\n",
      "Epoch 111, train_loss: 0.070085, train_acc: 1.000000, valid_acc 0.983974, Time 00:00:11, lr: 0.000300\n",
      "Epoch 112, train_loss: 0.068664, train_acc: 1.000000, valid_acc 0.987179, Time 00:00:11, lr: 0.000300\n",
      "Epoch 113, train_loss: 0.067639, train_acc: 1.000000, valid_acc 0.985043, Time 00:00:11, lr: 0.000300\n",
      "Epoch 114, train_loss: 0.067097, train_acc: 1.000000, valid_acc 0.985043, Time 00:00:11, lr: 0.000300\n",
      "Epoch 115, train_loss: 0.065449, train_acc: 1.000000, valid_acc 0.988248, Time 00:00:11, lr: 0.000300\n",
      "Epoch 116, train_loss: 0.064281, train_acc: 1.000000, valid_acc 0.985043, Time 00:00:11, lr: 0.000300\n",
      "Epoch 117, train_loss: 0.063893, train_acc: 1.000000, valid_acc 0.986111, Time 00:00:11, lr: 0.000300\n",
      "Epoch 118, train_loss: 0.061818, train_acc: 1.000000, valid_acc 0.987179, Time 00:00:11, lr: 0.000300\n",
      "Epoch 119, train_loss: 0.060797, train_acc: 1.000000, valid_acc 0.988248, Time 00:00:11, lr: 0.000300\n",
      "Epoch 120, train_loss: 0.059949, train_acc: 1.000000, valid_acc 0.985043, Time 00:00:11, lr: 0.000300\n",
      "Epoch 121, train_loss: 0.066380, train_acc: 1.000000, valid_acc 0.987179, Time 00:00:11, lr: 0.000300\n",
      "Epoch 122, train_loss: 0.059483, train_acc: 1.000000, valid_acc 0.986111, Time 00:00:11, lr: 0.000300\n",
      "Epoch 123, train_loss: 0.057232, train_acc: 1.000000, valid_acc 0.983974, Time 00:00:11, lr: 0.000300\n",
      "Epoch 124, train_loss: 0.055760, train_acc: 1.000000, valid_acc 0.987179, Time 00:00:11, lr: 0.000300\n",
      "Epoch 125, train_loss: 0.055338, train_acc: 1.000000, valid_acc 0.987179, Time 00:00:11, lr: 0.000300\n",
      "Epoch 126, train_loss: 0.054282, train_acc: 1.000000, valid_acc 0.988248, Time 00:00:11, lr: 0.000300\n",
      "Epoch 127, train_loss: 0.053370, train_acc: 1.000000, valid_acc 0.987179, Time 00:00:11, lr: 0.000300\n",
      "Epoch 128, train_loss: 0.052697, train_acc: 1.000000, valid_acc 0.986111, Time 00:00:11, lr: 0.000300\n",
      "Epoch 129, train_loss: 0.052212, train_acc: 1.000000, valid_acc 0.987179, Time 00:00:11, lr: 0.000300\n",
      "Epoch 130, train_loss: 0.051070, train_acc: 1.000000, valid_acc 0.986111, Time 00:00:11, lr: 0.000300\n",
      "Epoch 131, train_loss: 0.048996, train_acc: 1.000000, valid_acc 0.988248, Time 00:00:11, lr: 0.000300\n",
      "Epoch 132, train_loss: 0.048773, train_acc: 1.000000, valid_acc 0.986111, Time 00:00:11, lr: 0.000300\n",
      "Epoch 133, train_loss: 0.047456, train_acc: 1.000000, valid_acc 0.987179, Time 00:00:11, lr: 0.000300\n",
      "Epoch 134, train_loss: 0.046916, train_acc: 1.000000, valid_acc 0.987179, Time 00:00:11, lr: 0.000300\n",
      "Epoch 135, train_loss: 0.046355, train_acc: 1.000000, valid_acc 0.989316, Time 00:00:11, lr: 0.000300\n",
      "Epoch 136, train_loss: 0.046046, train_acc: 1.000000, valid_acc 0.987179, Time 00:00:11, lr: 0.000300\n",
      "Epoch 137, train_loss: 0.044871, train_acc: 1.000000, valid_acc 0.986111, Time 00:00:11, lr: 0.000300\n",
      "Epoch 138, train_loss: 0.044059, train_acc: 1.000000, valid_acc 0.986111, Time 00:00:11, lr: 0.000300\n",
      "Epoch 139, train_loss: 0.043443, train_acc: 1.000000, valid_acc 0.987179, Time 00:00:11, lr: 0.000300\n",
      "Epoch 140, train_loss: 0.042529, train_acc: 1.000000, valid_acc 0.987179, Time 00:00:11, lr: 0.000300\n",
      "Epoch 141, train_loss: 0.042144, train_acc: 1.000000, valid_acc 0.988248, Time 00:00:11, lr: 0.000300\n",
      "Epoch 142, train_loss: 0.042822, train_acc: 1.000000, valid_acc 0.986111, Time 00:00:11, lr: 0.000300\n",
      "Epoch 143, train_loss: 0.040917, train_acc: 1.000000, valid_acc 0.983974, Time 00:00:11, lr: 0.000300\n",
      "Epoch 144, train_loss: 0.039638, train_acc: 1.000000, valid_acc 0.987179, Time 00:00:11, lr: 0.000300\n",
      "Epoch 145, train_loss: 0.039257, train_acc: 1.000000, valid_acc 0.986111, Time 00:00:11, lr: 0.000300\n",
      "Epoch 146, train_loss: 0.038096, train_acc: 1.000000, valid_acc 0.989316, Time 00:00:11, lr: 0.000300\n",
      "Epoch 147, train_loss: 0.037133, train_acc: 1.000000, valid_acc 0.987179, Time 00:00:11, lr: 0.000300\n",
      "Epoch 148, train_loss: 0.036550, train_acc: 1.000000, valid_acc 0.987179, Time 00:00:11, lr: 0.000300\n",
      "Epoch 149, train_loss: 0.036259, train_acc: 1.000000, valid_acc 0.988248, Time 00:00:11, lr: 0.000300\n",
      "Epoch 150, train_loss: 0.035756, train_acc: 1.000000, valid_acc 0.986111, Time 00:00:11, lr: 0.000300\n",
      "Epoch 151, train_loss: 0.034943, train_acc: 1.000000, valid_acc 0.990385, Time 00:00:11, lr: 0.000300\n",
      "Epoch 152, train_loss: 0.034554, train_acc: 1.000000, valid_acc 0.988248, Time 00:00:11, lr: 0.000300\n",
      "Epoch 153, train_loss: 0.034163, train_acc: 1.000000, valid_acc 0.988248, Time 00:00:11, lr: 0.000300\n",
      "Epoch 154, train_loss: 0.033485, train_acc: 1.000000, valid_acc 0.989316, Time 00:00:11, lr: 0.000300\n",
      "Epoch 155, train_loss: 0.032970, train_acc: 1.000000, valid_acc 0.990385, Time 00:00:11, lr: 0.000300\n",
      "Epoch 156, train_loss: 0.032287, train_acc: 1.000000, valid_acc 0.987179, Time 00:00:11, lr: 0.000300\n",
      "Epoch 157, train_loss: 0.031931, train_acc: 1.000000, valid_acc 0.989316, Time 00:00:11, lr: 0.000300\n",
      "Epoch 158, train_loss: 0.030963, train_acc: 1.000000, valid_acc 0.990385, Time 00:00:11, lr: 0.000300\n",
      "Epoch 159, train_loss: 0.030572, train_acc: 1.000000, valid_acc 0.989316, Time 00:00:11, lr: 0.000300\n",
      "Epoch 160, train_loss: 0.029876, train_acc: 1.000000, valid_acc 0.990385, Time 00:00:11, lr: 0.000300\n",
      "Epoch 161, train_loss: 0.029405, train_acc: 1.000000, valid_acc 0.990385, Time 00:00:12, lr: 0.000300\n",
      "Epoch 162, train_loss: 0.029211, train_acc: 1.000000, valid_acc 0.990385, Time 00:00:11, lr: 0.000300\n",
      "Epoch 163, train_loss: 0.028909, train_acc: 1.000000, valid_acc 0.989316, Time 00:00:11, lr: 0.000300\n"
     ]
    },
    {
     "name": "stdout",
     "output_type": "stream",
     "text": [
      "Epoch 164, train_loss: 0.028135, train_acc: 1.000000, valid_acc 0.988248, Time 00:00:11, lr: 0.000300\n",
      "Epoch 165, train_loss: 0.027887, train_acc: 1.000000, valid_acc 0.988248, Time 00:00:11, lr: 0.000300\n",
      "Epoch 166, train_loss: 0.027255, train_acc: 1.000000, valid_acc 0.988248, Time 00:00:11, lr: 0.000300\n",
      "Epoch 167, train_loss: 0.026757, train_acc: 1.000000, valid_acc 0.987179, Time 00:00:11, lr: 0.000300\n",
      "Epoch 168, train_loss: 0.026295, train_acc: 1.000000, valid_acc 0.986111, Time 00:00:11, lr: 0.000300\n",
      "Epoch 169, train_loss: 0.025765, train_acc: 1.000000, valid_acc 0.989316, Time 00:00:11, lr: 0.000300\n",
      "Epoch 170, train_loss: 0.025447, train_acc: 1.000000, valid_acc 0.987179, Time 00:00:11, lr: 0.000300\n",
      "Epoch 171, train_loss: 0.024786, train_acc: 1.000000, valid_acc 0.988248, Time 00:00:11, lr: 0.000300\n",
      "Epoch 172, train_loss: 0.024469, train_acc: 1.000000, valid_acc 0.988248, Time 00:00:11, lr: 0.000300\n",
      "Epoch 173, train_loss: 0.024332, train_acc: 1.000000, valid_acc 0.989316, Time 00:00:11, lr: 0.000300\n",
      "Epoch 174, train_loss: 0.023815, train_acc: 1.000000, valid_acc 0.989316, Time 00:00:11, lr: 0.000300\n",
      "Epoch 175, train_loss: 0.023304, train_acc: 1.000000, valid_acc 0.990385, Time 00:00:11, lr: 0.000300\n",
      "Epoch 176, train_loss: 0.022824, train_acc: 1.000000, valid_acc 0.989316, Time 00:00:11, lr: 0.000300\n",
      "Epoch 177, train_loss: 0.022334, train_acc: 1.000000, valid_acc 0.988248, Time 00:00:11, lr: 0.000300\n",
      "Epoch 178, train_loss: 0.021986, train_acc: 1.000000, valid_acc 0.990385, Time 00:00:11, lr: 0.000300\n",
      "Epoch 179, train_loss: 0.021697, train_acc: 1.000000, valid_acc 0.988248, Time 00:00:11, lr: 0.000300\n",
      "Epoch 180, train_loss: 0.021463, train_acc: 1.000000, valid_acc 0.992521, Time 00:00:11, lr: 0.000300\n",
      "Epoch 181, train_loss: 0.021130, train_acc: 1.000000, valid_acc 0.990385, Time 00:00:11, lr: 0.000300\n",
      "Epoch 182, train_loss: 0.020945, train_acc: 1.000000, valid_acc 0.987179, Time 00:00:11, lr: 0.000300\n",
      "Epoch 183, train_loss: 0.020627, train_acc: 1.000000, valid_acc 0.989316, Time 00:00:11, lr: 0.000300\n",
      "Epoch 184, train_loss: 0.020172, train_acc: 1.000000, valid_acc 0.991453, Time 00:00:11, lr: 0.000300\n",
      "Epoch 185, train_loss: 0.020057, train_acc: 1.000000, valid_acc 0.988248, Time 00:00:11, lr: 0.000300\n",
      "Epoch 186, train_loss: 0.019683, train_acc: 1.000000, valid_acc 0.990385, Time 00:00:11, lr: 0.000300\n",
      "Epoch 187, train_loss: 0.019414, train_acc: 1.000000, valid_acc 0.991453, Time 00:00:11, lr: 0.000300\n",
      "Epoch 188, train_loss: 0.019191, train_acc: 1.000000, valid_acc 0.988248, Time 00:00:11, lr: 0.000300\n",
      "Epoch 189, train_loss: 0.018881, train_acc: 1.000000, valid_acc 0.990385, Time 00:00:11, lr: 0.000300\n",
      "Epoch 190, train_loss: 0.018355, train_acc: 1.000000, valid_acc 0.990385, Time 00:00:11, lr: 0.000300\n",
      "Epoch 191, train_loss: 0.018190, train_acc: 1.000000, valid_acc 0.989316, Time 00:00:11, lr: 0.000300\n",
      "Epoch 192, train_loss: 0.017973, train_acc: 1.000000, valid_acc 0.989316, Time 00:00:11, lr: 0.000300\n",
      "Epoch 193, train_loss: 0.017618, train_acc: 1.000000, valid_acc 0.991453, Time 00:00:11, lr: 0.000300\n",
      "Epoch 194, train_loss: 0.017253, train_acc: 1.000000, valid_acc 0.990385, Time 00:00:11, lr: 0.000300\n",
      "Epoch 195, train_loss: 0.017013, train_acc: 1.000000, valid_acc 0.990385, Time 00:00:11, lr: 0.000300\n",
      "Epoch 196, train_loss: 0.016890, train_acc: 1.000000, valid_acc 0.989316, Time 00:00:11, lr: 0.000300\n",
      "Epoch 197, train_loss: 0.016682, train_acc: 1.000000, valid_acc 0.990385, Time 00:00:11, lr: 0.000300\n",
      "Epoch 198, train_loss: 0.016520, train_acc: 1.000000, valid_acc 0.990385, Time 00:00:11, lr: 0.000300\n",
      "Epoch 199, train_loss: 0.016323, train_acc: 1.000000, valid_acc 0.989316, Time 00:00:11, lr: 0.000300\n",
      "Epoch 200, train_loss: 0.016110, train_acc: 1.000000, valid_acc 0.990385, Time 00:00:11, lr: 0.000300\n",
      "Epoch 201, train_loss: 0.015856, train_acc: 1.000000, valid_acc 0.992521, Time 00:00:11, lr: 0.000300\n",
      "Epoch 202, train_loss: 0.015629, train_acc: 1.000000, valid_acc 0.988248, Time 00:00:11, lr: 0.000300\n",
      "Epoch 203, train_loss: 0.015476, train_acc: 1.000000, valid_acc 0.988248, Time 00:00:11, lr: 0.000300\n",
      "Epoch 204, train_loss: 0.015276, train_acc: 1.000000, valid_acc 0.990385, Time 00:00:11, lr: 0.000300\n",
      "Epoch 205, train_loss: 0.014913, train_acc: 1.000000, valid_acc 0.990385, Time 00:00:11, lr: 0.000300\n",
      "Epoch 206, train_loss: 0.014772, train_acc: 1.000000, valid_acc 0.989316, Time 00:00:11, lr: 0.000300\n",
      "Epoch 207, train_loss: 0.014579, train_acc: 1.000000, valid_acc 0.989316, Time 00:00:11, lr: 0.000300\n",
      "Epoch 208, train_loss: 0.014506, train_acc: 1.000000, valid_acc 0.987179, Time 00:00:11, lr: 0.000300\n",
      "Epoch 209, train_loss: 0.014407, train_acc: 1.000000, valid_acc 0.989316, Time 00:00:11, lr: 0.000300\n",
      "Epoch 210, train_loss: 0.014055, train_acc: 1.000000, valid_acc 0.989316, Time 00:00:11, lr: 0.000300\n",
      "Epoch 211, train_loss: 0.013881, train_acc: 1.000000, valid_acc 0.989316, Time 00:00:11, lr: 0.000300\n",
      "Epoch 212, train_loss: 0.013680, train_acc: 1.000000, valid_acc 0.989316, Time 00:00:11, lr: 0.000300\n",
      "Epoch 213, train_loss: 0.013500, train_acc: 1.000000, valid_acc 0.989316, Time 00:00:11, lr: 0.000300\n",
      "Epoch 214, train_loss: 0.013342, train_acc: 1.000000, valid_acc 0.990385, Time 00:00:11, lr: 0.000300\n",
      "Epoch 215, train_loss: 0.013091, train_acc: 1.000000, valid_acc 0.991453, Time 00:00:11, lr: 0.000300\n",
      "Epoch 216, train_loss: 0.013003, train_acc: 1.000000, valid_acc 0.991453, Time 00:00:11, lr: 0.000300\n",
      "Epoch 217, train_loss: 0.012957, train_acc: 1.000000, valid_acc 0.989316, Time 00:00:11, lr: 0.000300\n",
      "Epoch 218, train_loss: 0.012812, train_acc: 1.000000, valid_acc 0.990385, Time 00:00:11, lr: 0.000300\n",
      "Epoch 219, train_loss: 0.012612, train_acc: 1.000000, valid_acc 0.989316, Time 00:00:11, lr: 0.000300\n",
      "Epoch 220, train_loss: 0.012421, train_acc: 1.000000, valid_acc 0.991453, Time 00:00:11, lr: 0.000300\n",
      "Epoch 221, train_loss: 0.012149, train_acc: 1.000000, valid_acc 0.991453, Time 00:00:11, lr: 0.000300\n",
      "Epoch 222, train_loss: 0.012149, train_acc: 1.000000, valid_acc 0.990385, Time 00:00:11, lr: 0.000300\n",
      "Epoch 223, train_loss: 0.011848, train_acc: 1.000000, valid_acc 0.991453, Time 00:00:11, lr: 0.000300\n",
      "Epoch 224, train_loss: 0.011745, train_acc: 1.000000, valid_acc 0.989316, Time 00:00:11, lr: 0.000300\n",
      "Epoch 225, train_loss: 0.011698, train_acc: 1.000000, valid_acc 0.992521, Time 00:00:11, lr: 0.000300\n",
      "Epoch 226, train_loss: 0.011671, train_acc: 1.000000, valid_acc 0.990385, Time 00:00:11, lr: 0.000300\n",
      "Epoch 227, train_loss: 0.011520, train_acc: 1.000000, valid_acc 0.989316, Time 00:00:11, lr: 0.000300\n",
      "Epoch 228, train_loss: 0.011222, train_acc: 1.000000, valid_acc 0.990385, Time 00:00:11, lr: 0.000300\n",
      "Epoch 229, train_loss: 0.011309, train_acc: 1.000000, valid_acc 0.989316, Time 00:00:11, lr: 0.000300\n",
      "Epoch 230, train_loss: 0.011028, train_acc: 1.000000, valid_acc 0.989316, Time 00:00:11, lr: 0.000300\n",
      "Epoch 231, train_loss: 0.011029, train_acc: 1.000000, valid_acc 0.991453, Time 00:00:11, lr: 0.000300\n",
      "Epoch 232, train_loss: 0.010892, train_acc: 1.000000, valid_acc 0.989316, Time 00:00:11, lr: 0.000300\n",
      "Epoch 233, train_loss: 0.010713, train_acc: 1.000000, valid_acc 0.989316, Time 00:00:11, lr: 0.000300\n",
      "Epoch 234, train_loss: 0.010658, train_acc: 1.000000, valid_acc 0.990385, Time 00:00:11, lr: 0.000300\n",
      "Epoch 235, train_loss: 0.011045, train_acc: 1.000000, valid_acc 0.989316, Time 00:00:11, lr: 0.000300\n",
      "Epoch 236, train_loss: 0.010546, train_acc: 1.000000, valid_acc 0.991453, Time 00:00:11, lr: 0.000300\n",
      "Epoch 237, train_loss: 0.010351, train_acc: 1.000000, valid_acc 0.988248, Time 00:00:11, lr: 0.000300\n",
      "Epoch 238, train_loss: 0.010359, train_acc: 1.000000, valid_acc 0.992521, Time 00:00:11, lr: 0.000300\n",
      "Epoch 239, train_loss: 0.010100, train_acc: 1.000000, valid_acc 0.990385, Time 00:00:11, lr: 0.000300\n",
      "Epoch 240, train_loss: 0.009922, train_acc: 1.000000, valid_acc 0.991453, Time 00:00:11, lr: 0.000300\n",
      "Epoch 241, train_loss: 0.009941, train_acc: 1.000000, valid_acc 0.989316, Time 00:00:11, lr: 0.000300\n",
      "Epoch 242, train_loss: 0.009959, train_acc: 1.000000, valid_acc 0.989316, Time 00:00:11, lr: 0.000300\n",
      "Epoch 243, train_loss: 0.009760, train_acc: 1.000000, valid_acc 0.990385, Time 00:00:11, lr: 0.000300\n",
      "Epoch 244, train_loss: 0.009573, train_acc: 1.000000, valid_acc 0.991453, Time 00:00:11, lr: 0.000300\n"
     ]
    },
    {
     "name": "stdout",
     "output_type": "stream",
     "text": [
      "Epoch 245, train_loss: 0.009440, train_acc: 1.000000, valid_acc 0.990385, Time 00:00:11, lr: 0.000300\n",
      "Epoch 246, train_loss: 0.009533, train_acc: 1.000000, valid_acc 0.991453, Time 00:00:11, lr: 0.000300\n",
      "Epoch 247, train_loss: 0.009378, train_acc: 1.000000, valid_acc 0.991453, Time 00:00:11, lr: 0.000300\n",
      "Epoch 248, train_loss: 0.009131, train_acc: 1.000000, valid_acc 0.990385, Time 00:00:11, lr: 0.000300\n",
      "Epoch 249, train_loss: 0.009042, train_acc: 1.000000, valid_acc 0.991453, Time 00:00:11, lr: 0.000300\n",
      "Epoch 250, train_loss: 0.010479, train_acc: 1.000000, valid_acc 0.983974, Time 00:00:11, lr: 0.000300\n",
      "Epoch 251, train_loss: 0.011148, train_acc: 1.000000, valid_acc 0.988248, Time 00:00:11, lr: 0.000300\n",
      "Epoch 252, train_loss: 0.009485, train_acc: 1.000000, valid_acc 0.991453, Time 00:00:11, lr: 0.000300\n",
      "Epoch 253, train_loss: 0.008959, train_acc: 1.000000, valid_acc 0.990385, Time 00:00:11, lr: 0.000300\n",
      "Epoch 254, train_loss: 0.008752, train_acc: 1.000000, valid_acc 0.990385, Time 00:00:11, lr: 0.000300\n",
      "Epoch 255, train_loss: 0.008563, train_acc: 1.000000, valid_acc 0.991453, Time 00:00:11, lr: 0.000300\n",
      "Epoch 256, train_loss: 0.008548, train_acc: 1.000000, valid_acc 0.991453, Time 00:00:11, lr: 0.000300\n",
      "Epoch 257, train_loss: 0.008539, train_acc: 1.000000, valid_acc 0.991453, Time 00:00:11, lr: 0.000300\n",
      "Epoch 258, train_loss: 0.008371, train_acc: 1.000000, valid_acc 0.989316, Time 00:00:11, lr: 0.000300\n",
      "Epoch 259, train_loss: 0.008258, train_acc: 1.000000, valid_acc 0.991453, Time 00:00:11, lr: 0.000300\n",
      "Epoch 260, train_loss: 0.008331, train_acc: 1.000000, valid_acc 0.992521, Time 00:00:11, lr: 0.000300\n",
      "Epoch 261, train_loss: 0.008311, train_acc: 1.000000, valid_acc 0.991453, Time 00:00:11, lr: 0.000300\n",
      "Epoch 262, train_loss: 0.008311, train_acc: 1.000000, valid_acc 0.990385, Time 00:00:11, lr: 0.000300\n",
      "Epoch 263, train_loss: 0.008217, train_acc: 1.000000, valid_acc 0.991453, Time 00:00:11, lr: 0.000300\n",
      "Epoch 264, train_loss: 0.008227, train_acc: 1.000000, valid_acc 0.989316, Time 00:00:11, lr: 0.000300\n",
      "Epoch 265, train_loss: 0.008186, train_acc: 1.000000, valid_acc 0.992521, Time 00:00:11, lr: 0.000300\n",
      "Epoch 266, train_loss: 0.007940, train_acc: 1.000000, valid_acc 0.991453, Time 00:00:11, lr: 0.000300\n",
      "Epoch 267, train_loss: 0.008159, train_acc: 1.000000, valid_acc 0.990385, Time 00:00:11, lr: 0.000300\n",
      "Epoch 268, train_loss: 0.008084, train_acc: 1.000000, valid_acc 0.992521, Time 00:00:11, lr: 0.000300\n",
      "Epoch 269, train_loss: 0.007716, train_acc: 1.000000, valid_acc 0.990385, Time 00:00:11, lr: 0.000300\n",
      "Epoch 270, train_loss: 0.007828, train_acc: 1.000000, valid_acc 0.992521, Time 00:00:11, lr: 0.000300\n",
      "Epoch 271, train_loss: 0.007613, train_acc: 1.000000, valid_acc 0.992521, Time 00:00:11, lr: 0.000300\n",
      "Epoch 272, train_loss: 0.007661, train_acc: 1.000000, valid_acc 0.991453, Time 00:00:11, lr: 0.000300\n",
      "Epoch 273, train_loss: 0.007669, train_acc: 1.000000, valid_acc 0.992521, Time 00:00:11, lr: 0.000300\n",
      "Epoch 274, train_loss: 0.007546, train_acc: 1.000000, valid_acc 0.992521, Time 00:00:11, lr: 0.000300\n",
      "Epoch 275, train_loss: 0.007504, train_acc: 1.000000, valid_acc 0.991453, Time 00:00:11, lr: 0.000300\n",
      "Epoch 276, train_loss: 0.007436, train_acc: 1.000000, valid_acc 0.992521, Time 00:00:11, lr: 0.000300\n",
      "Epoch 277, train_loss: 0.007433, train_acc: 1.000000, valid_acc 0.991453, Time 00:00:11, lr: 0.000300\n",
      "Epoch 278, train_loss: 0.007411, train_acc: 1.000000, valid_acc 0.992521, Time 00:00:11, lr: 0.000300\n",
      "Epoch 279, train_loss: 0.007375, train_acc: 1.000000, valid_acc 0.990385, Time 00:00:11, lr: 0.000300\n",
      "Epoch 280, train_loss: 0.007414, train_acc: 1.000000, valid_acc 0.992521, Time 00:00:11, lr: 0.000300\n",
      "Epoch 281, train_loss: 0.007238, train_acc: 1.000000, valid_acc 0.991453, Time 00:00:11, lr: 0.000300\n",
      "Epoch 282, train_loss: 0.007189, train_acc: 1.000000, valid_acc 0.991453, Time 00:00:11, lr: 0.000300\n",
      "Epoch 283, train_loss: 0.007154, train_acc: 1.000000, valid_acc 0.990385, Time 00:00:11, lr: 0.000300\n",
      "Epoch 284, train_loss: 0.007152, train_acc: 1.000000, valid_acc 0.991453, Time 00:00:11, lr: 0.000300\n",
      "Epoch 285, train_loss: 0.007078, train_acc: 1.000000, valid_acc 0.991453, Time 00:00:11, lr: 0.000300\n",
      "Epoch 286, train_loss: 0.007024, train_acc: 1.000000, valid_acc 0.989316, Time 00:00:11, lr: 0.000300\n",
      "Epoch 287, train_loss: 0.006988, train_acc: 1.000000, valid_acc 0.991453, Time 00:00:11, lr: 0.000300\n",
      "Epoch 288, train_loss: 0.006905, train_acc: 1.000000, valid_acc 0.991453, Time 00:00:11, lr: 0.000300\n",
      "Epoch 289, train_loss: 0.006954, train_acc: 1.000000, valid_acc 0.991453, Time 00:00:11, lr: 0.000300\n",
      "Epoch 290, train_loss: 0.006891, train_acc: 1.000000, valid_acc 0.992521, Time 00:00:11, lr: 0.000300\n",
      "Epoch 291, train_loss: 0.006920, train_acc: 1.000000, valid_acc 0.990385, Time 00:00:11, lr: 0.000300\n",
      "Epoch 292, train_loss: 0.006881, train_acc: 1.000000, valid_acc 0.991453, Time 00:00:11, lr: 0.000300\n",
      "Epoch 293, train_loss: 0.006774, train_acc: 1.000000, valid_acc 0.990385, Time 00:00:11, lr: 0.000300\n",
      "Epoch 294, train_loss: 0.006704, train_acc: 1.000000, valid_acc 0.991453, Time 00:00:11, lr: 0.000300\n",
      "Epoch 295, train_loss: 0.006651, train_acc: 1.000000, valid_acc 0.991453, Time 00:00:11, lr: 0.000300\n",
      "Epoch 296, train_loss: 0.006645, train_acc: 1.000000, valid_acc 0.992521, Time 00:00:11, lr: 0.000300\n",
      "Epoch 297, train_loss: 0.006583, train_acc: 1.000000, valid_acc 0.992521, Time 00:00:11, lr: 0.000300\n",
      "Epoch 298, train_loss: 0.006526, train_acc: 1.000000, valid_acc 0.991453, Time 00:00:11, lr: 0.000300\n",
      "Epoch 299, train_loss: 0.006556, train_acc: 1.000000, valid_acc 0.990385, Time 00:00:11, lr: 0.000300\n",
      "Epoch 300, train_loss: 0.006556, train_acc: 1.000000, valid_acc 0.991453, Time 00:00:11, lr: 0.000300\n"
     ]
    },
    {
     "data": {
      "image/png": "[encoded data removed]",
      "text/plain": [
       "<matplotlib.figure.Figure at 0x7fef2008c320>"
      ]
     },
     "metadata": {},
     "output_type": "display_data"
    }
   ],
   "source": [
    "net = get_net(ctx, num_classes=312)\n",
    "net.hybridize()\n",
    "train_center(train_data, valid_data, net, ctx, num_epoches, \n",
    "      learning_rate, lr_decay, lr_period, lr_set, \n",
    "      momentum, weight_decay, cost_period, \n",
    "      print_cost=True)"
   ]
  },
  {
   "cell_type": "code",
   "execution_count": 77,
   "metadata": {
    "scrolled": false
   },
   "outputs": [
    {
     "name": "stdout",
     "output_type": "stream",
     "text": [
      "Epoch 1, train_loss: 6.432601, train_acc: 0.001068, valid_acc 0.016026, Time 00:00:07, lr: 0.001000\n",
      "Epoch 2, train_loss: 5.653132, train_acc: 0.004274, valid_acc 0.029915, Time 00:00:11, lr: 0.001000\n",
      "Epoch 3, train_loss: 5.343450, train_acc: 0.008547, valid_acc 0.039530, Time 00:00:11, lr: 0.001000\n",
      "Epoch 4, train_loss: 5.002775, train_acc: 0.025641, valid_acc 0.050214, Time 00:00:11, lr: 0.001000\n",
      "Epoch 5, train_loss: 4.766012, train_acc: 0.030983, valid_acc 0.061966, Time 00:00:12, lr: 0.001000\n",
      "Epoch 6, train_loss: 4.451768, train_acc: 0.043803, valid_acc 0.073718, Time 00:00:11, lr: 0.001000\n",
      "Epoch 7, train_loss: 4.167762, train_acc: 0.085470, valid_acc 0.108974, Time 00:00:11, lr: 0.001000\n",
      "Epoch 8, train_loss: 3.862967, train_acc: 0.104701, valid_acc 0.195513, Time 00:00:11, lr: 0.001000\n",
      "Epoch 9, train_loss: 3.525649, train_acc: 0.158120, valid_acc 0.230769, Time 00:00:11, lr: 0.001000\n",
      "Epoch 10, train_loss: 3.209255, train_acc: 0.207265, valid_acc 0.304487, Time 00:00:11, lr: 0.001000\n",
      "Epoch 11, train_loss: 2.949953, train_acc: 0.247863, valid_acc 0.307692, Time 00:00:11, lr: 0.001000\n",
      "Epoch 12, train_loss: 2.586964, train_acc: 0.322650, valid_acc 0.424145, Time 00:00:11, lr: 0.001000\n",
      "Epoch 13, train_loss: 2.352687, train_acc: 0.366453, valid_acc 0.487179, Time 00:00:11, lr: 0.001000\n",
      "Epoch 14, train_loss: 1.982762, train_acc: 0.462607, valid_acc 0.457265, Time 00:00:11, lr: 0.001000\n",
      "Epoch 15, train_loss: 1.643496, train_acc: 0.550214, valid_acc 0.448718, Time 00:00:11, lr: 0.001000\n",
      "Epoch 16, train_loss: 1.392511, train_acc: 0.637821, valid_acc 0.603632, Time 00:00:10, lr: 0.001000\n",
      "Epoch 17, train_loss: 1.171128, train_acc: 0.678419, valid_acc 0.647436, Time 00:00:11, lr: 0.001000\n",
      "Epoch 18, train_loss: 0.949830, train_acc: 0.744658, valid_acc 0.716880, Time 00:00:11, lr: 0.001000\n",
      "Epoch 19, train_loss: 0.742584, train_acc: 0.798077, valid_acc 0.711538, Time 00:00:11, lr: 0.001000\n",
      "Epoch 20, train_loss: 0.626474, train_acc: 0.829060, valid_acc 0.615385, Time 00:00:10, lr: 0.001000\n",
      "Epoch 21, train_loss: 0.522606, train_acc: 0.864316, valid_acc 0.746795, Time 00:00:11, lr: 0.001000\n",
      "Epoch 22, train_loss: 0.458082, train_acc: 0.882479, valid_acc 0.746795, Time 00:00:11, lr: 0.001000\n",
      "Epoch 23, train_loss: 0.344823, train_acc: 0.913462, valid_acc 0.798077, Time 00:00:10, lr: 0.001000\n",
      "Epoch 24, train_loss: 0.348072, train_acc: 0.911325, valid_acc 0.790598, Time 00:00:11, lr: 0.001000\n",
      "Epoch 25, train_loss: 0.273871, train_acc: 0.926282, valid_acc 0.827991, Time 00:00:10, lr: 0.001000\n",
      "Epoch 26, train_loss: 0.186541, train_acc: 0.954060, valid_acc 0.809829, Time 00:00:11, lr: 0.001000\n",
      "Epoch 27, train_loss: 0.273511, train_acc: 0.933761, valid_acc 0.791667, Time 00:00:10, lr: 0.001000\n",
      "Epoch 28, train_loss: 0.216077, train_acc: 0.943376, valid_acc 0.832265, Time 00:00:10, lr: 0.001000\n",
      "Epoch 29, train_loss: 0.207366, train_acc: 0.945513, valid_acc 0.807692, Time 00:00:11, lr: 0.001000\n",
      "Epoch 30, train_loss: 0.184518, train_acc: 0.958333, valid_acc 0.834402, Time 00:00:10, lr: 0.001000\n",
      "Epoch 31, train_loss: 0.181196, train_acc: 0.954060, valid_acc 0.823718, Time 00:00:11, lr: 0.001000\n",
      "Epoch 32, train_loss: 0.110047, train_acc: 0.973291, valid_acc 0.833333, Time 00:00:10, lr: 0.001000\n",
      "Epoch 33, train_loss: 0.081946, train_acc: 0.983974, valid_acc 0.742521, Time 00:00:10, lr: 0.001000\n",
      "Epoch 34, train_loss: 0.118436, train_acc: 0.967949, valid_acc 0.852564, Time 00:00:10, lr: 0.001000\n",
      "Epoch 35, train_loss: 0.087639, train_acc: 0.978632, valid_acc 0.863248, Time 00:00:11, lr: 0.001000\n",
      "Epoch 36, train_loss: 0.051286, train_acc: 0.992521, valid_acc 0.869658, Time 00:00:11, lr: 0.001000\n",
      "Epoch 37, train_loss: 0.058691, train_acc: 0.983974, valid_acc 0.853632, Time 00:00:12, lr: 0.001000\n",
      "Epoch 38, train_loss: 0.058870, train_acc: 0.987179, valid_acc 0.864316, Time 00:00:10, lr: 0.001000\n",
      "Epoch 39, train_loss: 0.092365, train_acc: 0.981838, valid_acc 0.778846, Time 00:00:10, lr: 0.001000\n",
      "Epoch 40, train_loss: 0.113524, train_acc: 0.966880, valid_acc 0.833333, Time 00:00:10, lr: 0.001000\n",
      "Epoch 41, train_loss: 0.217110, train_acc: 0.934829, valid_acc 0.870726, Time 00:00:10, lr: 0.001000\n",
      "Epoch 42, train_loss: 0.171425, train_acc: 0.960470, valid_acc 0.778846, Time 00:00:11, lr: 0.001000\n",
      "Epoch 43, train_loss: 0.130699, train_acc: 0.963675, valid_acc 0.852564, Time 00:00:10, lr: 0.001000\n",
      "Epoch 44, train_loss: 0.099397, train_acc: 0.975427, valid_acc 0.876068, Time 00:00:10, lr: 0.001000\n",
      "Epoch 45, train_loss: 0.125322, train_acc: 0.969017, valid_acc 0.829060, Time 00:00:11, lr: 0.001000\n",
      "Epoch 46, train_loss: 0.094889, train_acc: 0.971154, valid_acc 0.878205, Time 00:00:10, lr: 0.001000\n",
      "Epoch 47, train_loss: 0.126999, train_acc: 0.963675, valid_acc 0.863248, Time 00:00:11, lr: 0.001000\n",
      "Epoch 48, train_loss: 0.133496, train_acc: 0.965812, valid_acc 0.821581, Time 00:00:11, lr: 0.001000\n",
      "Epoch 49, train_loss: 0.086304, train_acc: 0.972222, valid_acc 0.895299, Time 00:00:10, lr: 0.001000\n",
      "Epoch 50, train_loss: 0.042281, train_acc: 0.989316, valid_acc 0.894231, Time 00:00:11, lr: 0.001000\n",
      "Epoch 51, train_loss: 0.048306, train_acc: 0.987179, valid_acc 0.881410, Time 00:00:11, lr: 0.001000\n",
      "Epoch 52, train_loss: 0.032350, train_acc: 0.992521, valid_acc 0.898504, Time 00:00:10, lr: 0.001000\n",
      "Epoch 53, train_loss: 0.043913, train_acc: 0.987179, valid_acc 0.860043, Time 00:00:11, lr: 0.001000\n",
      "Epoch 54, train_loss: 0.078145, train_acc: 0.985043, valid_acc 0.871795, Time 00:00:10, lr: 0.001000\n",
      "Epoch 55, train_loss: 0.182815, train_acc: 0.952991, valid_acc 0.873932, Time 00:00:10, lr: 0.001000\n",
      "Epoch 56, train_loss: 0.071282, train_acc: 0.981838, valid_acc 0.878205, Time 00:00:10, lr: 0.001000\n",
      "Epoch 57, train_loss: 0.076126, train_acc: 0.980769, valid_acc 0.882479, Time 00:00:10, lr: 0.001000\n",
      "Epoch 58, train_loss: 0.067655, train_acc: 0.985043, valid_acc 0.889957, Time 00:00:11, lr: 0.001000\n",
      "Epoch 59, train_loss: 0.029797, train_acc: 0.991453, valid_acc 0.880342, Time 00:00:10, lr: 0.001000\n",
      "Epoch 60, train_loss: 0.028267, train_acc: 0.993590, valid_acc 0.907051, Time 00:00:10, lr: 0.001000\n",
      "Epoch 61, train_loss: 0.068420, train_acc: 0.985043, valid_acc 0.879274, Time 00:00:11, lr: 0.001000\n",
      "Epoch 62, train_loss: 0.029538, train_acc: 0.994658, valid_acc 0.901709, Time 00:00:10, lr: 0.001000\n",
      "Epoch 63, train_loss: 0.080777, train_acc: 0.975427, valid_acc 0.862179, Time 00:00:10, lr: 0.001000\n",
      "Epoch 64, train_loss: 0.173342, train_acc: 0.951923, valid_acc 0.858974, Time 00:00:10, lr: 0.001000\n",
      "Epoch 65, train_loss: 0.132905, train_acc: 0.961538, valid_acc 0.896368, Time 00:00:10, lr: 0.001000\n",
      "Epoch 66, train_loss: 0.033886, train_acc: 0.989316, valid_acc 0.891026, Time 00:00:11, lr: 0.001000\n",
      "Epoch 67, train_loss: 0.033981, train_acc: 0.991453, valid_acc 0.909188, Time 00:00:10, lr: 0.001000\n",
      "Epoch 68, train_loss: 0.047455, train_acc: 0.988248, valid_acc 0.870726, Time 00:00:11, lr: 0.001000\n",
      "Epoch 69, train_loss: 0.061119, train_acc: 0.982906, valid_acc 0.900641, Time 00:00:11, lr: 0.001000\n",
      "Epoch 70, train_loss: 0.018236, train_acc: 0.995726, valid_acc 0.898504, Time 00:00:10, lr: 0.001000\n",
      "Epoch 71, train_loss: 0.032488, train_acc: 0.994658, valid_acc 0.889957, Time 00:00:10, lr: 0.001000\n",
      "Epoch 72, train_loss: 0.026414, train_acc: 0.993590, valid_acc 0.903846, Time 00:00:10, lr: 0.001000\n",
      "Epoch 73, train_loss: 0.016024, train_acc: 0.998932, valid_acc 0.916667, Time 00:00:10, lr: 0.001000\n",
      "Epoch 74, train_loss: 0.002859, train_acc: 1.000000, valid_acc 0.920940, Time 00:00:11, lr: 0.001000\n",
      "Epoch 75, train_loss: 0.002049, train_acc: 1.000000, valid_acc 0.929487, Time 00:00:11, lr: 0.001000\n",
      "Epoch 76, train_loss: 0.002284, train_acc: 1.000000, valid_acc 0.928419, Time 00:00:11, lr: 0.001000\n",
      "Epoch 77, train_loss: 0.127356, train_acc: 0.969017, valid_acc 0.818376, Time 00:00:10, lr: 0.001000\n",
      "Epoch 78, train_loss: 0.184885, train_acc: 0.946581, valid_acc 0.834402, Time 00:00:10, lr: 0.001000\n",
      "Epoch 79, train_loss: 0.064671, train_acc: 0.983974, valid_acc 0.900641, Time 00:00:10, lr: 0.001000\n",
      "Epoch 80, train_loss: 0.010026, train_acc: 0.997863, valid_acc 0.923077, Time 00:00:11, lr: 0.000300\n",
      "Epoch 81, train_loss: 0.004709, train_acc: 0.998932, valid_acc 0.913462, Time 00:00:10, lr: 0.000300\n",
      "Epoch 82, train_loss: 0.003589, train_acc: 1.000000, valid_acc 0.929487, Time 00:00:10, lr: 0.000300\n"
     ]
    },
    {
     "name": "stdout",
     "output_type": "stream",
     "text": [
      "Epoch 83, train_loss: 0.012723, train_acc: 0.998932, valid_acc 0.920940, Time 00:00:11, lr: 0.000300\n",
      "Epoch 84, train_loss: 0.003653, train_acc: 1.000000, valid_acc 0.924145, Time 00:00:10, lr: 0.000300\n",
      "Epoch 85, train_loss: 0.002317, train_acc: 1.000000, valid_acc 0.931624, Time 00:00:10, lr: 0.000300\n",
      "Epoch 86, train_loss: 0.002456, train_acc: 1.000000, valid_acc 0.925214, Time 00:00:11, lr: 0.000300\n",
      "Epoch 87, train_loss: 0.001777, train_acc: 1.000000, valid_acc 0.927350, Time 00:00:10, lr: 0.000300\n",
      "Epoch 88, train_loss: 0.001352, train_acc: 1.000000, valid_acc 0.930556, Time 00:00:11, lr: 0.000300\n",
      "Epoch 89, train_loss: 0.001419, train_acc: 1.000000, valid_acc 0.938034, Time 00:00:11, lr: 0.000300\n",
      "Epoch 90, train_loss: 0.001439, train_acc: 1.000000, valid_acc 0.931624, Time 00:00:11, lr: 0.000300\n",
      "Epoch 91, train_loss: 0.007436, train_acc: 0.997863, valid_acc 0.920940, Time 00:00:11, lr: 0.000300\n",
      "Epoch 92, train_loss: 0.002732, train_acc: 1.000000, valid_acc 0.935897, Time 00:00:11, lr: 0.000300\n",
      "Epoch 93, train_loss: 0.001668, train_acc: 1.000000, valid_acc 0.932692, Time 00:00:11, lr: 0.000300\n",
      "Epoch 94, train_loss: 0.000850, train_acc: 1.000000, valid_acc 0.938034, Time 00:00:11, lr: 0.000300\n",
      "Epoch 95, train_loss: 0.005571, train_acc: 0.998932, valid_acc 0.935897, Time 00:00:11, lr: 0.000300\n",
      "Epoch 96, train_loss: 0.000962, train_acc: 1.000000, valid_acc 0.935897, Time 00:00:10, lr: 0.000300\n",
      "Epoch 97, train_loss: 0.001406, train_acc: 1.000000, valid_acc 0.925214, Time 00:00:10, lr: 0.000300\n",
      "Epoch 98, train_loss: 0.005473, train_acc: 0.997863, valid_acc 0.920940, Time 00:00:11, lr: 0.000300\n",
      "Epoch 99, train_loss: 0.009441, train_acc: 0.997863, valid_acc 0.916667, Time 00:00:10, lr: 0.000300\n",
      "Epoch 100, train_loss: 0.003181, train_acc: 1.000000, valid_acc 0.923077, Time 00:00:10, lr: 0.000300\n",
      "Epoch 101, train_loss: 0.002944, train_acc: 0.998932, valid_acc 0.923077, Time 00:00:10, lr: 0.000300\n",
      "Epoch 102, train_loss: 0.002318, train_acc: 1.000000, valid_acc 0.930556, Time 00:00:11, lr: 0.000300\n",
      "Epoch 103, train_loss: 0.000726, train_acc: 1.000000, valid_acc 0.931624, Time 00:00:10, lr: 0.000300\n",
      "Epoch 104, train_loss: 0.003561, train_acc: 0.998932, valid_acc 0.930556, Time 00:00:10, lr: 0.000300\n",
      "Epoch 105, train_loss: 0.000995, train_acc: 1.000000, valid_acc 0.929487, Time 00:00:10, lr: 0.000300\n",
      "Epoch 106, train_loss: 0.001328, train_acc: 1.000000, valid_acc 0.935897, Time 00:00:10, lr: 0.000300\n",
      "Epoch 107, train_loss: 0.000594, train_acc: 1.000000, valid_acc 0.947650, Time 00:00:10, lr: 0.000300\n",
      "Epoch 108, train_loss: 0.000387, train_acc: 1.000000, valid_acc 0.936966, Time 00:00:11, lr: 0.000300\n",
      "Epoch 109, train_loss: 0.000803, train_acc: 1.000000, valid_acc 0.940171, Time 00:00:10, lr: 0.000300\n",
      "Epoch 110, train_loss: 0.000645, train_acc: 1.000000, valid_acc 0.940171, Time 00:00:10, lr: 0.000300\n",
      "Epoch 111, train_loss: 0.000551, train_acc: 1.000000, valid_acc 0.938034, Time 00:00:11, lr: 0.000300\n",
      "Epoch 112, train_loss: 0.000564, train_acc: 1.000000, valid_acc 0.942308, Time 00:00:11, lr: 0.000300\n",
      "Epoch 113, train_loss: 0.000818, train_acc: 1.000000, valid_acc 0.932692, Time 00:00:10, lr: 0.000300\n",
      "Epoch 114, train_loss: 0.000348, train_acc: 1.000000, valid_acc 0.939103, Time 00:00:10, lr: 0.000300\n",
      "Epoch 115, train_loss: 0.000572, train_acc: 1.000000, valid_acc 0.938034, Time 00:00:10, lr: 0.000300\n",
      "Epoch 116, train_loss: 0.000534, train_acc: 1.000000, valid_acc 0.939103, Time 00:00:10, lr: 0.000300\n",
      "Epoch 117, train_loss: 0.000447, train_acc: 1.000000, valid_acc 0.939103, Time 00:00:10, lr: 0.000300\n",
      "Epoch 118, train_loss: 0.000222, train_acc: 1.000000, valid_acc 0.940171, Time 00:00:10, lr: 0.000300\n",
      "Epoch 119, train_loss: 0.000222, train_acc: 1.000000, valid_acc 0.935897, Time 00:00:10, lr: 0.000300\n",
      "Epoch 120, train_loss: 0.000533, train_acc: 1.000000, valid_acc 0.938034, Time 00:00:10, lr: 0.000300\n",
      "Epoch 121, train_loss: 0.000774, train_acc: 1.000000, valid_acc 0.947650, Time 00:00:10, lr: 0.000300\n",
      "Epoch 122, train_loss: 0.000232, train_acc: 1.000000, valid_acc 0.943376, Time 00:00:10, lr: 0.000300\n",
      "Epoch 123, train_loss: 0.000863, train_acc: 1.000000, valid_acc 0.926282, Time 00:00:10, lr: 0.000300\n",
      "Epoch 124, train_loss: 0.000775, train_acc: 1.000000, valid_acc 0.941239, Time 00:00:11, lr: 0.000300\n",
      "Epoch 125, train_loss: 0.000403, train_acc: 1.000000, valid_acc 0.939103, Time 00:00:10, lr: 0.000300\n",
      "Epoch 126, train_loss: 0.000343, train_acc: 1.000000, valid_acc 0.942308, Time 00:00:10, lr: 0.000300\n",
      "Epoch 127, train_loss: 0.000324, train_acc: 1.000000, valid_acc 0.940171, Time 00:00:10, lr: 0.000300\n",
      "Epoch 128, train_loss: 0.000192, train_acc: 1.000000, valid_acc 0.943376, Time 00:00:10, lr: 0.000300\n",
      "Epoch 129, train_loss: 0.000164, train_acc: 1.000000, valid_acc 0.941239, Time 00:00:10, lr: 0.000300\n",
      "Epoch 130, train_loss: 0.000241, train_acc: 1.000000, valid_acc 0.942308, Time 00:00:10, lr: 0.000090\n",
      "Epoch 131, train_loss: 0.000235, train_acc: 1.000000, valid_acc 0.944444, Time 00:00:10, lr: 0.000090\n",
      "Epoch 132, train_loss: 0.000233, train_acc: 1.000000, valid_acc 0.943376, Time 00:00:10, lr: 0.000090\n",
      "Epoch 133, train_loss: 0.000106, train_acc: 1.000000, valid_acc 0.942308, Time 00:00:10, lr: 0.000090\n",
      "Epoch 134, train_loss: 0.000330, train_acc: 1.000000, valid_acc 0.943376, Time 00:00:10, lr: 0.000090\n",
      "Epoch 135, train_loss: 0.000169, train_acc: 1.000000, valid_acc 0.942308, Time 00:00:11, lr: 0.000090\n",
      "Epoch 136, train_loss: 0.000129, train_acc: 1.000000, valid_acc 0.942308, Time 00:00:10, lr: 0.000090\n",
      "Epoch 137, train_loss: 0.000279, train_acc: 1.000000, valid_acc 0.941239, Time 00:00:10, lr: 0.000090\n",
      "Epoch 138, train_loss: 0.000146, train_acc: 1.000000, valid_acc 0.943376, Time 00:00:10, lr: 0.000090\n",
      "Epoch 139, train_loss: 0.000161, train_acc: 1.000000, valid_acc 0.938034, Time 00:00:10, lr: 0.000090\n",
      "Epoch 140, train_loss: 0.000171, train_acc: 1.000000, valid_acc 0.936966, Time 00:00:10, lr: 0.000090\n",
      "Epoch 141, train_loss: 0.000116, train_acc: 1.000000, valid_acc 0.946581, Time 00:00:10, lr: 0.000090\n",
      "Epoch 142, train_loss: 0.000289, train_acc: 1.000000, valid_acc 0.940171, Time 00:00:10, lr: 0.000090\n",
      "Epoch 143, train_loss: 0.000160, train_acc: 1.000000, valid_acc 0.946581, Time 00:00:10, lr: 0.000090\n",
      "Epoch 144, train_loss: 0.000143, train_acc: 1.000000, valid_acc 0.941239, Time 00:00:10, lr: 0.000090\n",
      "Epoch 145, train_loss: 0.000190, train_acc: 1.000000, valid_acc 0.945513, Time 00:00:10, lr: 0.000090\n",
      "Epoch 146, train_loss: 0.000151, train_acc: 1.000000, valid_acc 0.943376, Time 00:00:11, lr: 0.000090\n",
      "Epoch 147, train_loss: 0.000117, train_acc: 1.000000, valid_acc 0.946581, Time 00:00:10, lr: 0.000090\n",
      "Epoch 148, train_loss: 0.000174, train_acc: 1.000000, valid_acc 0.944444, Time 00:00:10, lr: 0.000090\n",
      "Epoch 149, train_loss: 0.000147, train_acc: 1.000000, valid_acc 0.943376, Time 00:00:10, lr: 0.000090\n",
      "Epoch 150, train_loss: 0.000186, train_acc: 1.000000, valid_acc 0.942308, Time 00:00:10, lr: 0.000090\n",
      "Epoch 151, train_loss: 0.000215, train_acc: 1.000000, valid_acc 0.945513, Time 00:00:10, lr: 0.000090\n",
      "Epoch 152, train_loss: 0.000501, train_acc: 1.000000, valid_acc 0.947650, Time 00:00:10, lr: 0.000090\n",
      "Epoch 153, train_loss: 0.000564, train_acc: 1.000000, valid_acc 0.939103, Time 00:00:10, lr: 0.000090\n",
      "Epoch 154, train_loss: 0.000162, train_acc: 1.000000, valid_acc 0.943376, Time 00:00:10, lr: 0.000090\n",
      "Epoch 155, train_loss: 0.000138, train_acc: 1.000000, valid_acc 0.946581, Time 00:00:10, lr: 0.000090\n",
      "Epoch 156, train_loss: 0.000129, train_acc: 1.000000, valid_acc 0.945513, Time 00:00:10, lr: 0.000090\n",
      "Epoch 157, train_loss: 0.000170, train_acc: 1.000000, valid_acc 0.945513, Time 00:00:10, lr: 0.000090\n",
      "Epoch 158, train_loss: 0.000121, train_acc: 1.000000, valid_acc 0.944444, Time 00:00:10, lr: 0.000090\n",
      "Epoch 159, train_loss: 0.000137, train_acc: 1.000000, valid_acc 0.945513, Time 00:00:10, lr: 0.000090\n",
      "Epoch 160, train_loss: 0.000437, train_acc: 1.000000, valid_acc 0.938034, Time 00:00:11, lr: 0.000090\n",
      "Epoch 161, train_loss: 0.000232, train_acc: 1.000000, valid_acc 0.942308, Time 00:00:11, lr: 0.000090\n",
      "Epoch 162, train_loss: 0.000111, train_acc: 1.000000, valid_acc 0.940171, Time 00:00:10, lr: 0.000090\n",
      "Epoch 163, train_loss: 0.000207, train_acc: 1.000000, valid_acc 0.940171, Time 00:00:11, lr: 0.000090\n"
     ]
    },
    {
     "name": "stdout",
     "output_type": "stream",
     "text": [
      "Epoch 164, train_loss: 0.000116, train_acc: 1.000000, valid_acc 0.938034, Time 00:00:11, lr: 0.000090\n",
      "Epoch 165, train_loss: 0.001147, train_acc: 0.998932, valid_acc 0.944444, Time 00:00:10, lr: 0.000090\n",
      "Epoch 166, train_loss: 0.000225, train_acc: 1.000000, valid_acc 0.945513, Time 00:00:10, lr: 0.000090\n",
      "Epoch 167, train_loss: 0.000459, train_acc: 1.000000, valid_acc 0.945513, Time 00:00:10, lr: 0.000090\n",
      "Epoch 168, train_loss: 0.000138, train_acc: 1.000000, valid_acc 0.946581, Time 00:00:11, lr: 0.000090\n",
      "Epoch 169, train_loss: 0.000361, train_acc: 1.000000, valid_acc 0.944444, Time 00:00:10, lr: 0.000090\n",
      "Epoch 170, train_loss: 0.000256, train_acc: 1.000000, valid_acc 0.945513, Time 00:00:10, lr: 0.000090\n",
      "Epoch 171, train_loss: 0.000120, train_acc: 1.000000, valid_acc 0.946581, Time 00:00:10, lr: 0.000090\n",
      "Epoch 172, train_loss: 0.000143, train_acc: 1.000000, valid_acc 0.941239, Time 00:00:10, lr: 0.000090\n",
      "Epoch 173, train_loss: 0.000193, train_acc: 1.000000, valid_acc 0.943376, Time 00:00:10, lr: 0.000090\n",
      "Epoch 174, train_loss: 0.000137, train_acc: 1.000000, valid_acc 0.947650, Time 00:00:10, lr: 0.000090\n",
      "Epoch 175, train_loss: 0.000105, train_acc: 1.000000, valid_acc 0.949786, Time 00:00:11, lr: 0.000090\n",
      "Epoch 176, train_loss: 0.000095, train_acc: 1.000000, valid_acc 0.945513, Time 00:00:11, lr: 0.000090\n",
      "Epoch 177, train_loss: 0.000132, train_acc: 1.000000, valid_acc 0.944444, Time 00:00:10, lr: 0.000090\n",
      "Epoch 178, train_loss: 0.000079, train_acc: 1.000000, valid_acc 0.941239, Time 00:00:10, lr: 0.000090\n",
      "Epoch 179, train_loss: 0.000087, train_acc: 1.000000, valid_acc 0.945513, Time 00:00:11, lr: 0.000090\n",
      "Epoch 180, train_loss: 0.000065, train_acc: 1.000000, valid_acc 0.944444, Time 00:00:10, lr: 0.000090\n",
      "Epoch 181, train_loss: 0.000185, train_acc: 1.000000, valid_acc 0.944444, Time 00:00:10, lr: 0.000090\n",
      "Epoch 182, train_loss: 0.000121, train_acc: 1.000000, valid_acc 0.944444, Time 00:00:10, lr: 0.000090\n",
      "Epoch 183, train_loss: 0.000112, train_acc: 1.000000, valid_acc 0.948718, Time 00:00:10, lr: 0.000090\n",
      "Epoch 184, train_loss: 0.000255, train_acc: 1.000000, valid_acc 0.942308, Time 00:00:10, lr: 0.000090\n",
      "Epoch 185, train_loss: 0.000112, train_acc: 1.000000, valid_acc 0.942308, Time 00:00:10, lr: 0.000090\n",
      "Epoch 186, train_loss: 0.000082, train_acc: 1.000000, valid_acc 0.943376, Time 00:00:10, lr: 0.000090\n",
      "Epoch 187, train_loss: 0.000077, train_acc: 1.000000, valid_acc 0.946581, Time 00:00:10, lr: 0.000090\n",
      "Epoch 188, train_loss: 0.000108, train_acc: 1.000000, valid_acc 0.945513, Time 00:00:10, lr: 0.000090\n",
      "Epoch 189, train_loss: 0.000076, train_acc: 1.000000, valid_acc 0.950855, Time 00:00:11, lr: 0.000090\n",
      "Epoch 190, train_loss: 0.000076, train_acc: 1.000000, valid_acc 0.948718, Time 00:00:11, lr: 0.000090\n",
      "Epoch 191, train_loss: 0.000064, train_acc: 1.000000, valid_acc 0.948718, Time 00:00:10, lr: 0.000090\n",
      "Epoch 192, train_loss: 0.000075, train_acc: 1.000000, valid_acc 0.947650, Time 00:00:10, lr: 0.000090\n",
      "Epoch 193, train_loss: 0.000056, train_acc: 1.000000, valid_acc 0.944444, Time 00:00:10, lr: 0.000090\n",
      "Epoch 194, train_loss: 0.000047, train_acc: 1.000000, valid_acc 0.948718, Time 00:00:10, lr: 0.000090\n",
      "Epoch 195, train_loss: 0.000038, train_acc: 1.000000, valid_acc 0.948718, Time 00:00:11, lr: 0.000090\n",
      "Epoch 196, train_loss: 0.000043, train_acc: 1.000000, valid_acc 0.947650, Time 00:00:10, lr: 0.000090\n",
      "Epoch 197, train_loss: 0.000045, train_acc: 1.000000, valid_acc 0.944444, Time 00:00:10, lr: 0.000090\n",
      "Epoch 198, train_loss: 0.000043, train_acc: 1.000000, valid_acc 0.944444, Time 00:00:10, lr: 0.000090\n",
      "Epoch 199, train_loss: 0.000070, train_acc: 1.000000, valid_acc 0.947650, Time 00:00:10, lr: 0.000090\n",
      "Epoch 200, train_loss: 0.000066, train_acc: 1.000000, valid_acc 0.949786, Time 00:00:10, lr: 0.000027\n",
      "Epoch 201, train_loss: 0.000076, train_acc: 1.000000, valid_acc 0.944444, Time 00:00:11, lr: 0.000027\n",
      "Epoch 202, train_loss: 0.000060, train_acc: 1.000000, valid_acc 0.950855, Time 00:00:10, lr: 0.000027\n",
      "Epoch 203, train_loss: 0.000025, train_acc: 1.000000, valid_acc 0.945513, Time 00:00:10, lr: 0.000027\n",
      "Epoch 204, train_loss: 0.000034, train_acc: 1.000000, valid_acc 0.949786, Time 00:00:10, lr: 0.000027\n",
      "Epoch 205, train_loss: 0.000035, train_acc: 1.000000, valid_acc 0.951923, Time 00:00:10, lr: 0.000027\n",
      "Epoch 206, train_loss: 0.000028, train_acc: 1.000000, valid_acc 0.952991, Time 00:00:11, lr: 0.000027\n",
      "Epoch 207, train_loss: 0.000036, train_acc: 1.000000, valid_acc 0.951923, Time 00:00:11, lr: 0.000027\n",
      "Epoch 208, train_loss: 0.000032, train_acc: 1.000000, valid_acc 0.948718, Time 00:00:10, lr: 0.000027\n",
      "Epoch 209, train_loss: 0.000623, train_acc: 1.000000, valid_acc 0.942308, Time 00:00:11, lr: 0.000027\n",
      "Epoch 210, train_loss: 0.000035, train_acc: 1.000000, valid_acc 0.946581, Time 00:00:10, lr: 0.000027\n",
      "Epoch 211, train_loss: 0.000059, train_acc: 1.000000, valid_acc 0.948718, Time 00:00:11, lr: 0.000027\n",
      "Epoch 212, train_loss: 0.000048, train_acc: 1.000000, valid_acc 0.948718, Time 00:00:10, lr: 0.000027\n",
      "Epoch 213, train_loss: 0.000042, train_acc: 1.000000, valid_acc 0.949786, Time 00:00:10, lr: 0.000027\n",
      "Epoch 214, train_loss: 0.000046, train_acc: 1.000000, valid_acc 0.950855, Time 00:00:10, lr: 0.000027\n",
      "Epoch 215, train_loss: 0.000026, train_acc: 1.000000, valid_acc 0.943376, Time 00:00:10, lr: 0.000027\n",
      "Epoch 216, train_loss: 0.000048, train_acc: 1.000000, valid_acc 0.942308, Time 00:00:11, lr: 0.000027\n",
      "Epoch 217, train_loss: 0.000064, train_acc: 1.000000, valid_acc 0.950855, Time 00:00:11, lr: 0.000027\n",
      "Epoch 218, train_loss: 0.000064, train_acc: 1.000000, valid_acc 0.948718, Time 00:00:10, lr: 0.000027\n",
      "Epoch 219, train_loss: 0.000039, train_acc: 1.000000, valid_acc 0.947650, Time 00:00:10, lr: 0.000027\n",
      "Epoch 220, train_loss: 0.000039, train_acc: 1.000000, valid_acc 0.947650, Time 00:00:10, lr: 0.000027\n",
      "Epoch 221, train_loss: 0.000105, train_acc: 1.000000, valid_acc 0.951923, Time 00:00:10, lr: 0.000027\n",
      "Epoch 222, train_loss: 0.000027, train_acc: 1.000000, valid_acc 0.954060, Time 00:00:11, lr: 0.000027\n",
      "Epoch 223, train_loss: 0.000094, train_acc: 1.000000, valid_acc 0.945513, Time 00:00:11, lr: 0.000027\n",
      "Epoch 224, train_loss: 0.000077, train_acc: 1.000000, valid_acc 0.957265, Time 00:00:11, lr: 0.000027\n",
      "Epoch 225, train_loss: 0.000028, train_acc: 1.000000, valid_acc 0.954060, Time 00:00:11, lr: 0.000027\n",
      "Epoch 226, train_loss: 0.000044, train_acc: 1.000000, valid_acc 0.950855, Time 00:00:10, lr: 0.000027\n",
      "Epoch 227, train_loss: 0.000027, train_acc: 1.000000, valid_acc 0.947650, Time 00:00:10, lr: 0.000027\n",
      "Epoch 228, train_loss: 0.000024, train_acc: 1.000000, valid_acc 0.950855, Time 00:00:10, lr: 0.000027\n",
      "Epoch 229, train_loss: 0.000040, train_acc: 1.000000, valid_acc 0.954060, Time 00:00:10, lr: 0.000027\n",
      "Epoch 230, train_loss: 0.000018, train_acc: 1.000000, valid_acc 0.948718, Time 00:00:10, lr: 0.000027\n",
      "Epoch 231, train_loss: 0.000034, train_acc: 1.000000, valid_acc 0.954060, Time 00:00:10, lr: 0.000027\n",
      "Epoch 232, train_loss: 0.000041, train_acc: 1.000000, valid_acc 0.946581, Time 00:00:10, lr: 0.000027\n",
      "Epoch 233, train_loss: 0.000025, train_acc: 1.000000, valid_acc 0.950855, Time 00:00:10, lr: 0.000027\n",
      "Epoch 234, train_loss: 0.000019, train_acc: 1.000000, valid_acc 0.952991, Time 00:00:10, lr: 0.000027\n",
      "Epoch 235, train_loss: 0.000026, train_acc: 1.000000, valid_acc 0.946581, Time 00:00:10, lr: 0.000027\n",
      "Epoch 236, train_loss: 0.000053, train_acc: 1.000000, valid_acc 0.946581, Time 00:00:10, lr: 0.000027\n",
      "Epoch 237, train_loss: 0.000032, train_acc: 1.000000, valid_acc 0.947650, Time 00:00:10, lr: 0.000027\n",
      "Epoch 238, train_loss: 0.000034, train_acc: 1.000000, valid_acc 0.949786, Time 00:00:10, lr: 0.000027\n",
      "Epoch 239, train_loss: 0.000025, train_acc: 1.000000, valid_acc 0.956197, Time 00:00:10, lr: 0.000027\n",
      "Epoch 240, train_loss: 0.000024, train_acc: 1.000000, valid_acc 0.947650, Time 00:00:10, lr: 0.000027\n",
      "Epoch 241, train_loss: 0.000021, train_acc: 1.000000, valid_acc 0.947650, Time 00:00:10, lr: 0.000027\n",
      "Epoch 242, train_loss: 0.000020, train_acc: 1.000000, valid_acc 0.952991, Time 00:00:10, lr: 0.000027\n",
      "Epoch 243, train_loss: 0.000023, train_acc: 1.000000, valid_acc 0.948718, Time 00:00:11, lr: 0.000027\n",
      "Epoch 244, train_loss: 0.000038, train_acc: 1.000000, valid_acc 0.950855, Time 00:00:11, lr: 0.000027\n"
     ]
    },
    {
     "name": "stdout",
     "output_type": "stream",
     "text": [
      "Epoch 245, train_loss: 0.000027, train_acc: 1.000000, valid_acc 0.950855, Time 00:00:10, lr: 0.000027\n",
      "Epoch 246, train_loss: 0.000059, train_acc: 1.000000, valid_acc 0.949786, Time 00:00:10, lr: 0.000027\n",
      "Epoch 247, train_loss: 0.000051, train_acc: 1.000000, valid_acc 0.949786, Time 00:00:10, lr: 0.000027\n",
      "Epoch 248, train_loss: 0.000028, train_acc: 1.000000, valid_acc 0.951923, Time 00:00:10, lr: 0.000027\n",
      "Epoch 249, train_loss: 0.000022, train_acc: 1.000000, valid_acc 0.957265, Time 00:00:10, lr: 0.000027\n",
      "Epoch 250, train_loss: 0.000041, train_acc: 1.000000, valid_acc 0.951923, Time 00:00:11, lr: 0.000008\n",
      "Epoch 251, train_loss: 0.000016, train_acc: 1.000000, valid_acc 0.945513, Time 00:00:10, lr: 0.000008\n",
      "Epoch 252, train_loss: 0.000032, train_acc: 1.000000, valid_acc 0.951923, Time 00:00:11, lr: 0.000008\n",
      "Epoch 253, train_loss: 0.000026, train_acc: 1.000000, valid_acc 0.952991, Time 00:00:10, lr: 0.000008\n",
      "Epoch 254, train_loss: 0.000029, train_acc: 1.000000, valid_acc 0.950855, Time 00:00:10, lr: 0.000008\n",
      "Epoch 255, train_loss: 0.000022, train_acc: 1.000000, valid_acc 0.946581, Time 00:00:10, lr: 0.000008\n",
      "Epoch 256, train_loss: 0.000022, train_acc: 1.000000, valid_acc 0.950855, Time 00:00:10, lr: 0.000008\n",
      "Epoch 257, train_loss: 0.000023, train_acc: 1.000000, valid_acc 0.954060, Time 00:00:10, lr: 0.000008\n",
      "Epoch 258, train_loss: 0.000034, train_acc: 1.000000, valid_acc 0.951923, Time 00:00:10, lr: 0.000008\n",
      "Epoch 259, train_loss: 0.000129, train_acc: 1.000000, valid_acc 0.952991, Time 00:00:10, lr: 0.000008\n",
      "Epoch 260, train_loss: 0.000016, train_acc: 1.000000, valid_acc 0.951923, Time 00:00:10, lr: 0.000008\n",
      "Epoch 261, train_loss: 0.000021, train_acc: 1.000000, valid_acc 0.950855, Time 00:00:10, lr: 0.000008\n",
      "Epoch 262, train_loss: 0.000059, train_acc: 1.000000, valid_acc 0.958333, Time 00:00:11, lr: 0.000008\n",
      "Epoch 263, train_loss: 0.000024, train_acc: 1.000000, valid_acc 0.952991, Time 00:00:11, lr: 0.000008\n",
      "Epoch 264, train_loss: 0.000023, train_acc: 1.000000, valid_acc 0.947650, Time 00:00:11, lr: 0.000008\n",
      "Epoch 265, train_loss: 0.000025, train_acc: 1.000000, valid_acc 0.951923, Time 00:00:10, lr: 0.000008\n",
      "Epoch 266, train_loss: 0.000029, train_acc: 1.000000, valid_acc 0.950855, Time 00:00:11, lr: 0.000008\n",
      "Epoch 267, train_loss: 0.000017, train_acc: 1.000000, valid_acc 0.947650, Time 00:00:10, lr: 0.000008\n",
      "Epoch 268, train_loss: 0.000020, train_acc: 1.000000, valid_acc 0.949786, Time 00:00:10, lr: 0.000008\n",
      "Epoch 269, train_loss: 0.000032, train_acc: 1.000000, valid_acc 0.955128, Time 00:00:10, lr: 0.000008\n",
      "Epoch 270, train_loss: 0.000029, train_acc: 1.000000, valid_acc 0.947650, Time 00:00:10, lr: 0.000008\n",
      "Epoch 271, train_loss: 0.000021, train_acc: 1.000000, valid_acc 0.954060, Time 00:00:10, lr: 0.000008\n",
      "Epoch 272, train_loss: 0.000056, train_acc: 1.000000, valid_acc 0.951923, Time 00:00:10, lr: 0.000008\n",
      "Epoch 273, train_loss: 0.000017, train_acc: 1.000000, valid_acc 0.950855, Time 00:00:10, lr: 0.000008\n",
      "Epoch 274, train_loss: 0.000049, train_acc: 1.000000, valid_acc 0.950855, Time 00:00:10, lr: 0.000008\n",
      "Epoch 275, train_loss: 0.000013, train_acc: 1.000000, valid_acc 0.952991, Time 00:00:10, lr: 0.000008\n",
      "Epoch 276, train_loss: 0.000019, train_acc: 1.000000, valid_acc 0.951923, Time 00:00:10, lr: 0.000008\n",
      "Epoch 277, train_loss: 0.000019, train_acc: 1.000000, valid_acc 0.952991, Time 00:00:10, lr: 0.000008\n",
      "Epoch 278, train_loss: 0.000026, train_acc: 1.000000, valid_acc 0.949786, Time 00:00:10, lr: 0.000008\n",
      "Epoch 279, train_loss: 0.000044, train_acc: 1.000000, valid_acc 0.949786, Time 00:00:10, lr: 0.000008\n",
      "Epoch 280, train_loss: 0.000015, train_acc: 1.000000, valid_acc 0.952991, Time 00:00:10, lr: 0.000008\n",
      "Epoch 281, train_loss: 0.000016, train_acc: 1.000000, valid_acc 0.948718, Time 00:00:10, lr: 0.000008\n",
      "Epoch 282, train_loss: 0.000026, train_acc: 1.000000, valid_acc 0.948718, Time 00:00:10, lr: 0.000008\n",
      "Epoch 283, train_loss: 0.000025, train_acc: 1.000000, valid_acc 0.946581, Time 00:00:10, lr: 0.000008\n",
      "Epoch 284, train_loss: 0.000031, train_acc: 1.000000, valid_acc 0.951923, Time 00:00:10, lr: 0.000008\n",
      "Epoch 285, train_loss: 0.000026, train_acc: 1.000000, valid_acc 0.949786, Time 00:00:10, lr: 0.000008\n",
      "Epoch 286, train_loss: 0.000019, train_acc: 1.000000, valid_acc 0.952991, Time 00:00:10, lr: 0.000008\n",
      "Epoch 287, train_loss: 0.000020, train_acc: 1.000000, valid_acc 0.954060, Time 00:00:10, lr: 0.000008\n",
      "Epoch 288, train_loss: 0.000022, train_acc: 1.000000, valid_acc 0.949786, Time 00:00:11, lr: 0.000008\n",
      "Epoch 289, train_loss: 0.000017, train_acc: 1.000000, valid_acc 0.954060, Time 00:00:10, lr: 0.000008\n",
      "Epoch 290, train_loss: 0.000035, train_acc: 1.000000, valid_acc 0.952991, Time 00:00:10, lr: 0.000008\n",
      "Epoch 291, train_loss: 0.000017, train_acc: 1.000000, valid_acc 0.950855, Time 00:00:10, lr: 0.000008\n",
      "Epoch 292, train_loss: 0.000022, train_acc: 1.000000, valid_acc 0.955128, Time 00:00:10, lr: 0.000008\n",
      "Epoch 293, train_loss: 0.000016, train_acc: 1.000000, valid_acc 0.952991, Time 00:00:10, lr: 0.000008\n",
      "Epoch 294, train_loss: 0.000015, train_acc: 1.000000, valid_acc 0.955128, Time 00:00:10, lr: 0.000008\n",
      "Epoch 295, train_loss: 0.000031, train_acc: 1.000000, valid_acc 0.948718, Time 00:00:10, lr: 0.000008\n",
      "Epoch 296, train_loss: 0.000016, train_acc: 1.000000, valid_acc 0.951923, Time 00:00:10, lr: 0.000008\n",
      "Epoch 297, train_loss: 0.000023, train_acc: 1.000000, valid_acc 0.950855, Time 00:00:11, lr: 0.000008\n",
      "Epoch 298, train_loss: 0.000018, train_acc: 1.000000, valid_acc 0.950855, Time 00:00:10, lr: 0.000008\n",
      "Epoch 299, train_loss: 0.000011, train_acc: 1.000000, valid_acc 0.951923, Time 00:00:11, lr: 0.000008\n",
      "Epoch 300, train_loss: 0.000025, train_acc: 1.000000, valid_acc 0.948718, Time 00:00:10, lr: 0.000008\n"
     ]
    },
    {
     "data": {
      "image/png": "[encoded data removed]",
      "text/plain": [
       "<matplotlib.figure.Figure at 0x7feef407cb00>"
      ]
     },
     "metadata": {},
     "output_type": "display_data"
    },
    {
     "data": {
      "text/plain": [
       "<matplotlib.figure.Figure at 0x7fef196c30b8>"
      ]
     },
     "metadata": {},
     "output_type": "display_data"
    }
   ],
   "source": [
    "net = get_net(ctx, num_classes=312)\n",
    "net.hybridize()\n",
    "train_softmax(train_data, valid_data, net, ctx, num_epoches, \n",
    "      learning_rate, lr_decay, lr_period, \n",
    "      momentum, weight_decay, cost_period, \n",
    "      print_cost=True)"
   ]
  },
  {
   "cell_type": "markdown",
   "metadata": {
    "collapsed": true
   },
   "source": [
    "## finetune"
   ]
  },
  {
   "cell_type": "code",
   "execution_count": null,
   "metadata": {
    "collapsed": true
   },
   "outputs": [],
   "source": [
    "pretrained_net = get_net(ctx=mx.gpu(0), num_classes=64)\n",
    "pretrained_net.hybridize()\n",
    "pretrained_net.load_params('fingervein_weight_centerloss_TJ.txt', ctx=mx.gpu(0))"
   ]
  },
  {
   "cell_type": "code",
   "execution_count": null,
   "metadata": {
    "collapsed": true
   },
   "outputs": [],
   "source": [
    "finetune_net = get_net(ctx=mx.gpu(0), num_classes=492)\n",
    "finetune_net.hybridize()\n",
    "finetune_net.features = pretrained_net.features\n",
    "finetune_net.output.initialize(init.Xavier(), ctx=mx.gpu(0))"
   ]
  },
  {
   "cell_type": "code",
   "execution_count": null,
   "metadata": {
    "collapsed": true
   },
   "outputs": [],
   "source": [
    "train_center(train_data, valid_data, finetune_net, ctx, num_epoches, \n",
    "      learning_rate, lr_decay, lr_period, \n",
    "      momentum, weight_decay, cost_period, \n",
    "      print_cost=True)"
   ]
  },
  {
   "cell_type": "code",
   "execution_count": null,
   "metadata": {
    "collapsed": true
   },
   "outputs": [],
   "source": []
  },
  {
   "cell_type": "markdown",
   "metadata": {},
   "source": [
    "## test accuracy softmax"
   ]
  },
  {
   "cell_type": "code",
   "execution_count": 78,
   "metadata": {
    "collapsed": true
   },
   "outputs": [],
   "source": [
    "finetune_net = get_net(ctx, num_classes=312)\n",
    "finetune_net.hybridize()\n",
    "finetune_net.load_params('fingervein_weight_softmax_PolyU_new.txt', ctx = ctx)"
   ]
  },
  {
   "cell_type": "code",
   "execution_count": 79,
   "metadata": {},
   "outputs": [
    {
     "name": "stdout",
     "output_type": "stream",
     "text": [
      "0.958333333333\n"
     ]
    }
   ],
   "source": [
    "valid_acc = 0\n",
    "for data, label in valid_data:\n",
    "    data = data.as_in_context(ctx)\n",
    "    label = label.astype('float32').as_in_context(ctx)\n",
    "    output, features = finetune_net(data)\n",
    "    valid_acc += nd.mean(output.argmax(axis=1) == label).asscalar()\n",
    "print(valid_acc/len(valid_data))"
   ]
  },
  {
   "cell_type": "code",
   "execution_count": null,
   "metadata": {
    "collapsed": true
   },
   "outputs": [],
   "source": []
  },
  {
   "cell_type": "code",
   "execution_count": null,
   "metadata": {
    "collapsed": true
   },
   "outputs": [],
   "source": []
  },
  {
   "cell_type": "code",
   "execution_count": 80,
   "metadata": {
    "collapsed": true
   },
   "outputs": [],
   "source": [
    "transform_train = transforms.Compose([\n",
    "#     transforms.RandomFlipLeftRight(),\n",
    "#     transforms.RandomFlipTopBottom(),\n",
    "#     transforms.RandomBrightness(0.1), \n",
    "#     transforms.RandomContrast(0.1), \n",
    "    transforms.Resize(224), \n",
    "    transforms.ToTensor()\n",
    "])\n",
    "\n",
    "transform_valid = transforms.Compose([\n",
    "    transforms.Resize(224), \n",
    "    transforms.ToTensor()\n",
    "])"
   ]
  },
  {
   "cell_type": "code",
   "execution_count": 81,
   "metadata": {
    "collapsed": true
   },
   "outputs": [],
   "source": [
    "data_dir = './data/PolyU/'\n",
    "batch_size = 8\n",
    "\n",
    "train_ds = vision.ImageFolderDataset(root=data_dir+'train', flag=1)\n",
    "valid_ds = vision.ImageFolderDataset(root=data_dir+'valid', flag=1)\n",
    "\n",
    "train_data = DataLoader(train_ds.transform_first(transform_train), \n",
    "                        batch_size, shuffle=False, last_batch='keep')\n",
    "valid_data = DataLoader(valid_ds.transform_first(transform_valid), \n",
    "                        batch_size, shuffle=False, last_batch='keep')"
   ]
  },
  {
   "cell_type": "code",
   "execution_count": 82,
   "metadata": {},
   "outputs": [
    {
     "name": "stdout",
     "output_type": "stream",
     "text": [
      "936\n",
      "117\n",
      "(8, 3, 224, 224) (8,)\n",
      "\n",
      "[0 0 0 1 1 1 2 2]\n",
      "<NDArray 8 @gpu(0)>\n"
     ]
    }
   ],
   "source": [
    "print(len(valid_ds))\n",
    "\n",
    "print(len(valid_data))\n",
    "for data, label in valid_data:\n",
    "    print(data.shape, label.shape)\n",
    "    print(label.as_in_context(mx.gpu(0)))\n",
    "    break"
   ]
  },
  {
   "cell_type": "code",
   "execution_count": 83,
   "metadata": {
    "collapsed": true
   },
   "outputs": [],
   "source": [
    "fingervein_net = get_net(ctx=mx.gpu(0), num_classes=312)\n",
    "fingervein_net.hybridize()\n",
    "fingervein_net.load_params('fingervein_weight_softmax_PolyU_new.txt', ctx=mx.gpu(0))"
   ]
  },
  {
   "cell_type": "code",
   "execution_count": 84,
   "metadata": {
    "collapsed": true
   },
   "outputs": [],
   "source": [
    "tr_features = np.zeros((936, 1792))\n",
    "tr_labels = np.zeros((936))\n",
    "i = 0\n",
    "for data, label in train_data:\n",
    "    data = data.as_in_context(mx.gpu(0))\n",
    "#             label = label.as_in_context(ctx)\n",
    "    label = label.astype('float32').as_in_context(mx.gpu(0))\n",
    "    output, features = fingervein_net(data)\n",
    "#     print(features.shape)\n",
    "    features = features.asnumpy()\n",
    "    label = label.asnumpy()\n",
    "#     print(features.shape)\n",
    "    if i+8 > 936:\n",
    "        tr_features[i:936, :] = features\n",
    "        tr_labels[i:936] = label\n",
    "    else:\n",
    "        tr_features[i:i+8, :] = features\n",
    "        tr_labels[i:i+8] = label\n",
    "        i+=8"
   ]
  },
  {
   "cell_type": "code",
   "execution_count": 85,
   "metadata": {},
   "outputs": [
    {
     "name": "stdout",
     "output_type": "stream",
     "text": [
      "311.0\n"
     ]
    }
   ],
   "source": [
    "print(tr_labels[935])"
   ]
  },
  {
   "cell_type": "code",
   "execution_count": 86,
   "metadata": {
    "collapsed": true
   },
   "outputs": [],
   "source": [
    "te_features = np.zeros((936, 1792))\n",
    "te_labels = np.zeros((936))\n",
    "i = 0\n",
    "for data, label in valid_data:\n",
    "    data = data.as_in_context(mx.gpu(0))\n",
    "#             label = label.as_in_context(ctx)\n",
    "    label = label.astype('float32').as_in_context(mx.gpu(0))\n",
    "    output, features = fingervein_net(data)\n",
    "#     print(features.shape)\n",
    "    features = features.asnumpy()\n",
    "    label = label.asnumpy()\n",
    "#     print(features.shape)\n",
    "    if i+8 > 936:\n",
    "        te_features[i:936, :] = features\n",
    "        te_labels[i:936] = label\n",
    "    else:\n",
    "        te_features[i:i+8, :] = features\n",
    "        te_labels[i:i+8] = label\n",
    "        i+=8"
   ]
  },
  {
   "cell_type": "code",
   "execution_count": 87,
   "metadata": {},
   "outputs": [
    {
     "name": "stdout",
     "output_type": "stream",
     "text": [
      "(936, 1792)\n"
     ]
    }
   ],
   "source": [
    "print(te_features.shape)"
   ]
  },
  {
   "cell_type": "code",
   "execution_count": 88,
   "metadata": {
    "collapsed": true
   },
   "outputs": [],
   "source": [
    "def fingervein_dist(f1,f2,w=1):\n",
    "    if w == 1:\n",
    "        w = np.ones(f1.shape)\n",
    "    if len(f1.shape) == len(f2.shape) == 1:\n",
    "        dist = np.linalg.norm((f1-f2)*w)\n",
    "    else:\n",
    "        dist = np.linalg.norm((f1-f2)*w, axis=1)\n",
    "    return dist"
   ]
  },
  {
   "cell_type": "code",
   "execution_count": 89,
   "metadata": {
    "collapsed": true
   },
   "outputs": [],
   "source": [
    "def distance_based_prediction(FingerveinEmbedding, train_Labels, f):\n",
    "    \n",
    "    Dists = fingervein_dist(FingerveinEmbedding, f)\n",
    "    \n",
    "    i = np.argmin(Dists)\n",
    "    \n",
    "    return train_Labels[i]"
   ]
  },
  {
   "cell_type": "code",
   "execution_count": null,
   "metadata": {
    "collapsed": true
   },
   "outputs": [],
   "source": []
  },
  {
   "cell_type": "code",
   "execution_count": 90,
   "metadata": {},
   "outputs": [
    {
     "name": "stdout",
     "output_type": "stream",
     "text": [
      "Fingervein recognition accuracy using purely distance based method: 96.047 %\n"
     ]
    }
   ],
   "source": [
    "# test accuracy\n",
    "nCorrect = 0\n",
    "ntest = te_features.shape[0]\n",
    "for i in range(ntest):\n",
    "    p = distance_based_prediction(tr_features, tr_labels, te_features[i])\n",
    "    if p == te_labels[i]:\n",
    "        nCorrect += 1\n",
    "print('Fingervein recognition accuracy using purely distance based method: %3.3f %%' % (100.*(0.+nCorrect)/ntest))"
   ]
  },
  {
   "cell_type": "code",
   "execution_count": 91,
   "metadata": {},
   "outputs": [
    {
     "name": "stdout",
     "output_type": "stream",
     "text": [
      "899\n"
     ]
    }
   ],
   "source": [
    "print(nCorrect)"
   ]
  },
  {
   "cell_type": "code",
   "execution_count": 92,
   "metadata": {},
   "outputs": [
    {
     "data": {
      "image/png": "[encoded data removed]",
      "text/plain": [
       "<matplotlib.figure.Figure at 0x7fef180fa860>"
      ]
     },
     "metadata": {},
     "output_type": "display_data"
    }
   ],
   "source": [
    "pca = decomposition.PCA(n_components = 2)\n",
    "x_std = StandardScaler().fit_transform(tr_features)\n",
    "x_feature_pca = pca.fit_transform(x_std)\n",
    "plt.scatter(x_feature_pca[:,0],x_feature_pca[:,1],c=tr_labels, cmap='jet')\n",
    "plt.title('feature space')\n",
    "plt.legend()\n",
    "plt.savefig('feature space -softmax-loss PolyU new.png')"
   ]
  },
  {
   "cell_type": "code",
   "execution_count": null,
   "metadata": {
    "collapsed": true
   },
   "outputs": [],
   "source": []
  },
  {
   "cell_type": "code",
   "execution_count": 93,
   "metadata": {},
   "outputs": [
    {
     "name": "stderr",
     "output_type": "stream",
     "text": [
      "<input>:28: DeprecationWarning: invalid escape sequence \\-\n",
      "<input>:28: DeprecationWarning: invalid escape sequence \\-\n",
      "<input>:28: DeprecationWarning: invalid escape sequence \\-\n",
      "<input>:28: DeprecationWarning: invalid escape sequence \\-\n",
      "<input>:29: DeprecationWarning: invalid escape sequence \\-\n",
      "<input>:28: DeprecationWarning: invalid escape sequence \\-\n",
      "<input>:29: DeprecationWarning: invalid escape sequence \\-\n",
      "<input>:28: DeprecationWarning: invalid escape sequence \\-\n",
      "<input>:29: DeprecationWarning: invalid escape sequence \\-\n",
      "<ipython-input-93-82e3b76b3067>:28: DeprecationWarning: invalid escape sequence \\-\n",
      "  print('Cross-class distance = %1.3f +\\- %1.3f' % (Distances_among_class.mean(), Distances_among_class.std()))\n",
      "<ipython-input-93-82e3b76b3067>:29: DeprecationWarning: invalid escape sequence \\-\n",
      "  print('Same-class distance = %1.3f +\\- %1.3f' % (Distances_within_class.mean(), Distances_within_class.std()))\n"
     ]
    },
    {
     "name": "stdout",
     "output_type": "stream",
     "text": [
      "Cross-class distance = 17.475 +\\- 2.099\n",
      "Same-class distance = 7.701 +\\- 2.946\n"
     ]
    },
    {
     "data": {
      "image/png": "[encoded data removed]",
      "text/plain": [
       "<matplotlib.figure.Figure at 0x7fef180fa2e8>"
      ]
     },
     "metadata": {},
     "output_type": "display_data"
    }
   ],
   "source": [
    "Distances_within_class = []\n",
    "Distances_among_class = []\n",
    "\n",
    "ntrain = tr_features.shape[0]\n",
    "ntest = te_features.shape[0]\n",
    "\n",
    "for i in range(ntest):\n",
    "    for j in range(ntrain):\n",
    "        cur_dist = fingervein_dist(tr_features[j,:],te_features[i,:])\n",
    "        if te_labels[i] == tr_labels[j]:\n",
    "            Distances_within_class.append(cur_dist)\n",
    "        else:\n",
    "            Distances_among_class.append(cur_dist)\n",
    "            \n",
    "Distances_within_class = np.array(Distances_within_class)\n",
    "Distances_among_class = np.array(Distances_among_class)\n",
    "\n",
    "\n",
    "plt.figure()\n",
    "_ = plt.hist(Distances_among_class,bins = 50, label = 'inter-class',normed = True)\n",
    "_ = plt.hist(Distances_within_class,bins = 50, label = 'intra-class', normed = True)\n",
    "plt.title('Distribution of cross-class distance')\n",
    "plt.xlabel('distance')\n",
    "plt.ylabel('percent(%)')\n",
    "plt.legend()\n",
    "plt.savefig('Distribution of cross-class distance softmax-loss -PolyU new.png')\n",
    "\n",
    "print('Cross-class distance = %1.3f +\\- %1.3f' % (Distances_among_class.mean(), Distances_among_class.std()))\n",
    "print('Same-class distance = %1.3f +\\- %1.3f' % (Distances_within_class.mean(), Distances_within_class.std()))"
   ]
  },
  {
   "cell_type": "code",
   "execution_count": 96,
   "metadata": {},
   "outputs": [
    {
     "name": "stdout",
     "output_type": "stream",
     "text": [
      "EER =  3.64066608038\n",
      "pct of false positive 0.000 %\n",
      "pct of false negative 100.000 %\n",
      "accuracy = 99.679\n"
     ]
    },
    {
     "data": {
      "image/png": "[encoded data removed]",
      "text/plain": [
       "<matplotlib.figure.Figure at 0x7fef201f6b38>"
      ]
     },
     "metadata": {},
     "output_type": "display_data"
    }
   ],
   "source": [
    "FP = []\n",
    "FN = []\n",
    "GAR = []\n",
    "EER = 0\n",
    "for threshold in np.arange(0,max(Distances_among_class),0.01):\n",
    "    FP.append(100.0*np.sum(Distances_among_class<threshold)/len(Distances_among_class))\n",
    "    FN.append(100.0*np.sum(Distances_within_class>threshold)/len(Distances_within_class))\n",
    "    if np.abs((100.0*np.sum(Distances_among_class<threshold)/len(Distances_among_class)) - (100.0*np.sum(Distances_within_class>threshold)/len(Distances_within_class))) < 0.05:\n",
    "        print(\"EER = \",0.5* (100.0*np.sum(Distances_among_class<threshold)/len(Distances_among_class)+100.0*np.sum(Distances_within_class>threshold)/len(Distances_within_class)))\n",
    "GAR = FN\n",
    "for i, value in enumerate(FN):\n",
    "    GAR[i] = 100 - FN[i]\n",
    "                                                                \n",
    "plt.plot(FP,GAR)\n",
    "plt.xlabel('False Acceptance Rate(%)')\n",
    "plt.ylabel('Genuine Acceptance Rate(%)')\n",
    "plt.title('ROC curve of PolyU')\n",
    "plt.savefig('ROC curve -softmax-loss -PolyU new.png')\n",
    "threshold = 0.3\n",
    "print('pct of false positive %2.3f %%' % (100.0*np.sum(Distances_among_class<threshold)/len(Distances_among_class)))\n",
    "print('pct of false negative %2.3f %%' % (100.0*np.sum(Distances_within_class>threshold)/len(Distances_within_class)))\n",
    "\n",
    "print('accuracy = %2.3f' % (100.0*(np.sum(Distances_among_class>threshold)+np.sum(Distances_within_class<threshold))/(len(Distances_among_class)+len(Distances_within_class))))"
   ]
  },
  {
   "cell_type": "code",
   "execution_count": null,
   "metadata": {
    "collapsed": true
   },
   "outputs": [],
   "source": [
    "a = [1, 2, 3]\n",
    "for i, value in enumerate(a):\n",
    "    a[i] -= 3"
   ]
  },
  {
   "cell_type": "code",
   "execution_count": null,
   "metadata": {
    "collapsed": true
   },
   "outputs": [],
   "source": [
    "a"
   ]
  },
  {
   "cell_type": "code",
   "execution_count": null,
   "metadata": {
    "collapsed": true
   },
   "outputs": [],
   "source": []
  }
 ],
 "metadata": {
  "kernelspec": {
   "display_name": "Python 3",
   "language": "python",
   "name": "python3"
  },
  "language_info": {
   "codemirror_mode": {
    "name": "ipython",
    "version": 3
   },
   "file_extension": ".py",
   "mimetype": "text/x-python",
   "name": "python",
   "nbconvert_exporter": "python",
   "pygments_lexer": "ipython3",
   "version": "3.6.3"
  }
 },
 "nbformat": 4,
 "nbformat_minor": 2
}
