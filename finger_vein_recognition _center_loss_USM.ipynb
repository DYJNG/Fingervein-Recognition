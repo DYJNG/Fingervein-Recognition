{
 "cells": [
  {
   "cell_type": "markdown",
   "metadata": {},
   "source": [
    "# 指静脉识别"
   ]
  },
  {
   "cell_type": "markdown",
   "metadata": {},
   "source": [
    "## 导入数据集"
   ]
  },
  {
   "cell_type": "markdown",
   "metadata": {},
   "source": [
    "### 导入包"
   ]
  },
  {
   "cell_type": "code",
   "execution_count": 1,
   "metadata": {},
   "outputs": [
    {
     "name": "stderr",
     "output_type": "stream",
     "text": [
      "/home/dyjng/anaconda3/lib/python3.6/site-packages/urllib3/contrib/pyopenssl.py:46: DeprecationWarning: OpenSSL.rand is deprecated - you should use os.urandom instead\n",
      "  import OpenSSL.SSL\n"
     ]
    }
   ],
   "source": [
    "import mxnet as mx\n",
    "from mxnet import ndarray as nd\n",
    "from mxnet import autograd as ag\n",
    "from mxnet import gluon\n",
    "from mxnet.gluon.data import vision\n",
    "from mxnet.gluon.data.vision import transforms\n",
    "from mxnet.gluon.data import DataLoader\n",
    "from mxnet.gluon.model_zoo import vision as models\n",
    "from mxnet.gluon import nn\n",
    "from mxnet import init\n",
    "%matplotlib inline\n",
    "import matplotlib as mpl\n",
    "mpl.rcParams['figure.dpi'] = 120\n",
    "import matplotlib.pyplot as plt\n",
    "import datetime\n",
    "import numpy as np\n",
    "import os\n",
    "from scipy import misc\n",
    "from sklearn import decomposition\n",
    "from sklearn.preprocessing import StandardScaler"
   ]
  },
  {
   "cell_type": "code",
   "execution_count": 2,
   "metadata": {
    "collapsed": true
   },
   "outputs": [],
   "source": [
    "transform_train = transforms.Compose([\n",
    "#     transforms.RandomFlipLeftRight(),\n",
    "#     transforms.RandomFlipTopBottom(),\n",
    "#     transforms.RandomBrightness(0.1), \n",
    "#     transforms.RandomContrast(0.1), \n",
    "    transforms.Resize(224), \n",
    "    transforms.ToTensor()\n",
    "])\n",
    "\n",
    "transform_valid = transforms.Compose([\n",
    "    transforms.Resize(224), \n",
    "    transforms.ToTensor()\n",
    "])"
   ]
  },
  {
   "cell_type": "code",
   "execution_count": 3,
   "metadata": {
    "collapsed": true
   },
   "outputs": [],
   "source": [
    "# transforms.RandomContrast??"
   ]
  },
  {
   "cell_type": "code",
   "execution_count": 4,
   "metadata": {
    "collapsed": true
   },
   "outputs": [],
   "source": [
    "data_dir = './data/FV_USM/'\n",
    "batch_size = 8\n",
    "\n",
    "train_ds = vision.ImageFolderDataset(root=data_dir+'train', flag=1)\n",
    "valid_ds = vision.ImageFolderDataset(root=data_dir+'valid', flag=1)\n",
    "\n",
    "train_data = DataLoader(train_ds.transform_first(transform_train), \n",
    "                        batch_size, shuffle=True, last_batch='keep')\n",
    "valid_data = DataLoader(valid_ds.transform_first(transform_valid), \n",
    "                        batch_size, shuffle=False, last_batch='keep')"
   ]
  },
  {
   "cell_type": "code",
   "execution_count": 5,
   "metadata": {},
   "outputs": [
    {
     "name": "stdout",
     "output_type": "stream",
     "text": [
      "1476\n",
      "185\n",
      "(8, 3, 224, 224) (8,)\n",
      "\n",
      "[264 374 472 377 241  70 357 194]\n",
      "<NDArray 8 @gpu(0)>\n"
     ]
    }
   ],
   "source": [
    "print(len(train_ds))\n",
    "\n",
    "print(len(train_data))\n",
    "for data, label in train_data:\n",
    "    print(data.shape, label.shape)\n",
    "    print(label.as_in_context(mx.gpu(0)))\n",
    "    break"
   ]
  },
  {
   "cell_type": "markdown",
   "metadata": {},
   "source": [
    "## softmax loss"
   ]
  },
  {
   "cell_type": "code",
   "execution_count": 3,
   "metadata": {
    "collapsed": true
   },
   "outputs": [],
   "source": [
    "softmax_cross_entropy = gluon.loss.SoftmaxCrossEntropyLoss()"
   ]
  },
  {
   "cell_type": "markdown",
   "metadata": {},
   "source": [
    "## center loss"
   ]
  },
  {
   "cell_type": "code",
   "execution_count": 4,
   "metadata": {
    "collapsed": true
   },
   "outputs": [],
   "source": [
    "class CenterLoss(gluon.HybridBlock):\n",
    "    r\"\"\"\n",
    "    Center Loss: A Discriminative Feature Learning Approach for Deep Face Recognition\n",
    "    \"\"\"\n",
    "    def __init__(self, num_classes, feature_size, lmbd, **kwargs):\n",
    "        super(CenterLoss, self).__init__(**kwargs)\n",
    "        self._num_classes = num_classes\n",
    "        self._feature_size = feature_size\n",
    "        self._lmda = lmbd\n",
    "        self.centers = self.params.get('centers', shape=(num_classes, feature_size))\n",
    "\n",
    "    def hybrid_forward(self, F, feature, label, centers):\n",
    "        hist = F.array(np.bincount(label.asnumpy().astype(int)))\n",
    "        centers_count = F.take(hist, label)\n",
    "        centers_selected = F.take(centers, label)\n",
    "        diff = feature - centers_selected\n",
    "        loss = self._lmda * 0.5 * F.sum(F.square(diff), 1) / centers_count\n",
    "        return F.mean(loss, axis=0, exclude=True)"
   ]
  },
  {
   "cell_type": "code",
   "execution_count": 5,
   "metadata": {
    "collapsed": true
   },
   "outputs": [],
   "source": [
    "center_loss = CenterLoss(num_classes=492, feature_size=1792, lmbd=0.2) #lmbd = 0.2 99.4595"
   ]
  },
  {
   "cell_type": "markdown",
   "metadata": {},
   "source": [
    "## triplet loss"
   ]
  },
  {
   "cell_type": "code",
   "execution_count": 6,
   "metadata": {
    "collapsed": true
   },
   "outputs": [],
   "source": [
    "# triplet_loss = gluon.loss.TripletLoss()"
   ]
  },
  {
   "cell_type": "code",
   "execution_count": 7,
   "metadata": {
    "collapsed": true
   },
   "outputs": [],
   "source": [
    "# gluon.loss.TripletLoss??"
   ]
  },
  {
   "cell_type": "markdown",
   "metadata": {},
   "source": [
    "## 定义模型 --FingerveinNet"
   ]
  },
  {
   "cell_type": "code",
   "execution_count": 8,
   "metadata": {
    "collapsed": true
   },
   "outputs": [],
   "source": [
    "class block_35(nn.HybridBlock):\n",
    "    def __init__(self, channels, **kwargs):\n",
    "        super(block_35, self).__init__(**kwargs)\n",
    "        with self.name_scope():\n",
    "            branch_1 = nn.HybridSequential()\n",
    "            branch_1.add(nn.Conv2D(channels=channels[0], kernel_size=1, \n",
    "                                   strides=1, padding=0))\n",
    "            branch_1.add(nn.BatchNorm())\n",
    "            branch_1.add(nn.Activation(activation='relu'))\n",
    "            \n",
    "            branch_2 = nn.HybridSequential()\n",
    "            branch_2.add(nn.Conv2D(channels=channels[1], kernel_size=1, \n",
    "                                   strides=1, padding=0))\n",
    "            branch_2.add(nn.BatchNorm())\n",
    "            branch_2.add(nn.Activation(activation='relu'))\n",
    "            branch_2.add(nn.Conv2D(channels=channels[2], kernel_size=3, \n",
    "                                   strides=1, padding=1))\n",
    "            branch_2.add(nn.BatchNorm())\n",
    "            branch_2.add(nn.Activation(activation='relu'))\n",
    "            \n",
    "            branch_3 = nn.HybridSequential()\n",
    "            branch_3.add(nn.Conv2D(channels=channels[3], kernel_size=1, \n",
    "                                   strides=1, padding=0))\n",
    "            branch_3.add(nn.BatchNorm())\n",
    "            branch_3.add(nn.Activation(activation='relu'))\n",
    "            branch_3.add(nn.Conv2D(channels=channels[4], kernel_size=5, \n",
    "                                   strides=1, padding=2))\n",
    "            branch_3.add(nn.BatchNorm())\n",
    "            branch_3.add(nn.Activation(activation='relu'))\n",
    "            \n",
    "#             branch_4 = nn.HybridSequential()\n",
    "#             branch_4.add(nn.MaxPool2D(pool_size=3, strides=1, padding=1))\n",
    "#             branch_4.add(nn.Conv2D(channels=channels[5], kernel_size=1, \n",
    "#                                    strides=1, padding=0))\n",
    "            \n",
    "            self.up = nn.Conv2D(channels=channels[6], kernel_size=1, \n",
    "                                strides=1, padding=0)\n",
    "            \n",
    "            self.bn = nn.BatchNorm()\n",
    "            \n",
    "        self.branch_1 = branch_1\n",
    "        self.branch_2 = branch_2\n",
    "        self.branch_3 = branch_3\n",
    "#         self.branch_4 = branch_4\n",
    "    \n",
    "    def hybrid_forward(self, F, x):\n",
    "        out1 = out2 = out3 = out4 = x\n",
    "        for layer in self.branch_1:\n",
    "            out1 = layer(out1)\n",
    "        for layer in self.branch_2:\n",
    "            out2 = layer(out2)\n",
    "        for layer in self.branch_3:\n",
    "            out3 = layer(out3)\n",
    "#         for layer in self.branch_4:\n",
    "#             out4 = layer(out4)\n",
    "#         mixed = F.concat(out1, out2, out3, out4, dim=1)\n",
    "        mixed = F.concat(out1, out2, out3, dim=1)\n",
    "        up = self.up(mixed)\n",
    "            \n",
    "        out = F.relu(self.bn(up + x))\n",
    "        \n",
    "        return out"
   ]
  },
  {
   "cell_type": "code",
   "execution_count": 9,
   "metadata": {
    "collapsed": true
   },
   "outputs": [],
   "source": [
    "class block_17(nn.HybridBlock):\n",
    "    def __init__(self, channels, **kwargs):\n",
    "        super(block_17, self).__init__(**kwargs)\n",
    "        with self.name_scope():\n",
    "            branch_1 = nn.HybridSequential()\n",
    "            branch_1.add(nn.Conv2D(channels=channels[0], kernel_size=1, \n",
    "                                   strides=1, padding=0))\n",
    "            branch_1.add(nn.BatchNorm())\n",
    "            branch_1.add(nn.Activation(activation='relu'))\n",
    "            \n",
    "            branch_2 = nn.HybridSequential()\n",
    "            branch_2.add(nn.Conv2D(channels=channels[1], kernel_size=1, \n",
    "                                   strides=1, padding=0))\n",
    "            branch_2.add(nn.BatchNorm())\n",
    "            branch_2.add(nn.Activation(activation='relu'))\n",
    "            branch_2.add(nn.Conv2D(channels=channels[2], kernel_size=(1, 7), \n",
    "                                   strides=1, padding=(0, 3)))\n",
    "            branch_2.add(nn.BatchNorm())\n",
    "            branch_2.add(nn.Activation(activation='relu'))\n",
    "            branch_2.add(nn.Conv2D(channels=channels[3], kernel_size=(7, 1), \n",
    "                                   strides=1, padding=(3, 0)))\n",
    "            branch_2.add(nn.BatchNorm())\n",
    "            branch_2.add(nn.Activation(activation='relu'))\n",
    "            \n",
    "            self.up = nn.Conv2D(channels=channels[4], kernel_size=1, \n",
    "                                strides=1, padding=0)\n",
    "            \n",
    "            self.bn = nn.BatchNorm()\n",
    "            \n",
    "        self.branch_1 = branch_1\n",
    "        self.branch_2 = branch_2\n",
    "    \n",
    "    def hybrid_forward(self, F, x):\n",
    "        out1 = out2 = x\n",
    "        for layer in self.branch_1:\n",
    "            out1 = layer(out1)\n",
    "        for layer in self.branch_2:\n",
    "            out2 = layer(out2)\n",
    "        mixed = F.concat(out1, out2, dim=1)\n",
    "        up = self.up(mixed)\n",
    "            \n",
    "        out = F.relu(self.bn(up + x))\n",
    "        \n",
    "        return out"
   ]
  },
  {
   "cell_type": "code",
   "execution_count": 10,
   "metadata": {
    "collapsed": true
   },
   "outputs": [],
   "source": [
    "class block_13(nn.HybridBlock):\n",
    "    def __init__(self, channels, **kwargs):\n",
    "        super(block_13, self).__init__(**kwargs)\n",
    "        with self.name_scope():\n",
    "            branch_1 = nn.HybridSequential()\n",
    "            branch_1.add(nn.Conv2D(channels=channels[0], kernel_size=1, \n",
    "                                   strides=1, padding=0))\n",
    "            branch_1.add(nn.BatchNorm())\n",
    "            branch_1.add(nn.Activation(activation='relu'))\n",
    "            \n",
    "            branch_2 = nn.HybridSequential()\n",
    "            branch_2.add(nn.Conv2D(channels=channels[1], kernel_size=1, \n",
    "                                   strides=1, padding=0))\n",
    "            branch_2.add(nn.BatchNorm())\n",
    "            branch_2.add(nn.Activation(activation='relu'))\n",
    "            branch_2.add(nn.Conv2D(channels=channels[2], kernel_size=(1, 3), \n",
    "                                   strides=1, padding=(0, 1)))\n",
    "            branch_2.add(nn.BatchNorm())\n",
    "            branch_2.add(nn.Activation(activation='relu'))\n",
    "            branch_2.add(nn.Conv2D(channels=channels[3], kernel_size=(3, 1), \n",
    "                                   strides=1, padding=(1, 0)))\n",
    "            branch_2.add(nn.BatchNorm())\n",
    "            branch_2.add(nn.Activation(activation='relu'))\n",
    "            \n",
    "            self.up = nn.Conv2D(channels=channels[4], kernel_size=1, \n",
    "                                strides=1, padding=0)\n",
    "            \n",
    "            self.bn = nn.BatchNorm()\n",
    "            \n",
    "        self.branch_1 = branch_1\n",
    "        self.branch_2 = branch_2\n",
    "    \n",
    "    def hybrid_forward(self, F, x):\n",
    "        out1 = out2 = x\n",
    "        for layer in self.branch_1:\n",
    "            out1 = layer(out1)\n",
    "        for layer in self.branch_2:\n",
    "            out2 = layer(out2)\n",
    "        mixed = F.concat(out1, out2, dim=1)\n",
    "        up = self.up(mixed)\n",
    "            \n",
    "        out = F.relu(self.bn(up + x))\n",
    "        \n",
    "        return out"
   ]
  },
  {
   "cell_type": "code",
   "execution_count": 11,
   "metadata": {
    "collapsed": true
   },
   "outputs": [],
   "source": [
    "class FingerveinNet(nn.HybridBlock):\n",
    "    def __init__(self, num_classes, verbose=False, **kwargs):\n",
    "        super(FingerveinNet, self).__init__(**kwargs)\n",
    "        self.verbose = verbose\n",
    "        with self.name_scope():\n",
    "            features = nn.HybridSequential()\n",
    "            # Stage 1\n",
    "            features.add(nn.Conv2D(channels=64, kernel_size=3, \n",
    "                              strides=1, padding=1))\n",
    "            features.add(nn.BatchNorm())\n",
    "            features.add(nn.Activation(activation='relu'))\n",
    "            features.add(nn.Conv2D(channels=192, kernel_size=3, \n",
    "                              strides=2, padding=1))\n",
    "            features.add(nn.BatchNorm())\n",
    "            features.add(nn.Activation(activation='relu'))\n",
    "            features.add(nn.MaxPool2D(pool_size=3, strides=2, padding=1))\n",
    "            # Stage 2\n",
    "            features.add(nn.Conv2D(channels=64, kernel_size=1, \n",
    "                              strides=1, padding=0))\n",
    "            features.add(nn.BatchNorm())\n",
    "            features.add(nn.Activation(activation='relu'))\n",
    "            features.add(nn.Conv2D(channels=256, kernel_size=3, \n",
    "                              strides=1, padding=1))\n",
    "            features.add(nn.BatchNorm())\n",
    "            features.add(nn.Activation(activation='relu'))\n",
    "            features.add(nn.MaxPool2D(pool_size=3, strides=2, padding=1))\n",
    "            # Stage 3\n",
    "            features.add(block_35(channels=[32, 32, 32, 32, 32, 32, 256]))\n",
    "#             net.add(block_35(channels=[32, 32, 32, 32, 32, 32, 256]))\n",
    "#             net.add(block_35(channels=[32, 32, 32, 32, 32, 32, 256]))\n",
    "            features.add(nn.Conv2D(channels=896, kernel_size=3, \n",
    "                              strides=1, padding=1))\n",
    "            features.add(nn.BatchNorm())\n",
    "            features.add(nn.Activation(activation='relu'))\n",
    "            features.add(nn.MaxPool2D(pool_size=3, strides=2, padding=1))\n",
    "            # Stage 4\n",
    "            features.add(block_17(channels=[128, 128, 128, 128, 896]))\n",
    "            features.add(block_17(channels=[128, 128, 128, 128, 896]))\n",
    "            features.add(block_17(channels=[128, 128, 128, 128, 896]))\n",
    "#             net.add(block_17(channels=[128, 128, 128, 128, 896]))\n",
    "#             net.add(block_17(channels=[128, 128, 128, 128, 896]))\n",
    "            features.add(nn.Conv2D(channels=1792, kernel_size=3, \n",
    "                              strides=1, padding=1))\n",
    "            features.add(nn.BatchNorm())\n",
    "            features.add(nn.Activation(activation='relu'))\n",
    "            features.add(nn.MaxPool2D(pool_size=3, strides=2, padding=1))\n",
    "            # Stage 5\n",
    "            features.add(block_13(channels=[192, 192, 192, 192, 1792]))\n",
    "#             net.add(block_13(channels=[192, 192, 192, 192, 1792]))\n",
    "#             net.add(block_13(channels=[192, 192, 192, 192, 1792]))\n",
    "            features.add(nn.AvgPool2D(pool_size=7, strides=1, padding=0))\n",
    "            # classification\n",
    "#             net.add(nn.Dropout(0.2))\n",
    "            features.add(nn.Flatten())\n",
    "            \n",
    "            output = nn.Dense(num_classes)\n",
    "        \n",
    "        self.features = features\n",
    "        self.output = output\n",
    "        \n",
    "    def hybrid_forward(self, F, x):\n",
    "        for i, layer in enumerate(self.features):\n",
    "            feat = layer(x)\n",
    "            x = feat\n",
    "            if self.verbose:\n",
    "                print('Block %d, Output: %s' % (i+1, out.shape))\n",
    "        out = self.output(feat)\n",
    "        return out, feat"
   ]
  },
  {
   "cell_type": "code",
   "execution_count": 12,
   "metadata": {
    "collapsed": true
   },
   "outputs": [],
   "source": [
    "def get_net(ctx, num_classes=100):\n",
    "    net = FingerveinNet(num_classes)\n",
    "#     net = ResNet(num_classes)\n",
    "#     net = ResNet50(num_classes)\n",
    "    net.initialize(ctx=ctx, init=init.Xavier())\n",
    "    return net"
   ]
  },
  {
   "cell_type": "code",
   "execution_count": 16,
   "metadata": {},
   "outputs": [
    {
     "data": {
      "text/plain": [
       "FingerveinNet(\n",
       "  (features): HybridSequential(\n",
       "    (0): Conv2D(None -> 64, kernel_size=(3, 3), stride=(1, 1), padding=(1, 1))\n",
       "    (1): BatchNorm(axis=1, eps=1e-05, momentum=0.9, fix_gamma=False, use_global_stats=False, in_channels=None)\n",
       "    (2): Activation(relu)\n",
       "    (3): Conv2D(None -> 192, kernel_size=(3, 3), stride=(2, 2), padding=(1, 1))\n",
       "    (4): BatchNorm(axis=1, eps=1e-05, momentum=0.9, fix_gamma=False, use_global_stats=False, in_channels=None)\n",
       "    (5): Activation(relu)\n",
       "    (6): MaxPool2D(size=(3, 3), stride=(2, 2), padding=(1, 1), ceil_mode=False)\n",
       "    (7): Conv2D(None -> 64, kernel_size=(1, 1), stride=(1, 1))\n",
       "    (8): BatchNorm(axis=1, eps=1e-05, momentum=0.9, fix_gamma=False, use_global_stats=False, in_channels=None)\n",
       "    (9): Activation(relu)\n",
       "    (10): Conv2D(None -> 256, kernel_size=(3, 3), stride=(1, 1), padding=(1, 1))\n",
       "    (11): BatchNorm(axis=1, eps=1e-05, momentum=0.9, fix_gamma=False, use_global_stats=False, in_channels=None)\n",
       "    (12): Activation(relu)\n",
       "    (13): MaxPool2D(size=(3, 3), stride=(2, 2), padding=(1, 1), ceil_mode=False)\n",
       "    (14): block_35(\n",
       "      (up): Conv2D(None -> 256, kernel_size=(1, 1), stride=(1, 1))\n",
       "      (bn): BatchNorm(axis=1, eps=1e-05, momentum=0.9, fix_gamma=False, use_global_stats=False, in_channels=None)\n",
       "      (branch_1): HybridSequential(\n",
       "        (0): Conv2D(None -> 32, kernel_size=(1, 1), stride=(1, 1))\n",
       "        (1): BatchNorm(axis=1, eps=1e-05, momentum=0.9, fix_gamma=False, use_global_stats=False, in_channels=None)\n",
       "        (2): Activation(relu)\n",
       "      )\n",
       "      (branch_2): HybridSequential(\n",
       "        (0): Conv2D(None -> 32, kernel_size=(1, 1), stride=(1, 1))\n",
       "        (1): BatchNorm(axis=1, eps=1e-05, momentum=0.9, fix_gamma=False, use_global_stats=False, in_channels=None)\n",
       "        (2): Activation(relu)\n",
       "        (3): Conv2D(None -> 32, kernel_size=(3, 3), stride=(1, 1), padding=(1, 1))\n",
       "        (4): BatchNorm(axis=1, eps=1e-05, momentum=0.9, fix_gamma=False, use_global_stats=False, in_channels=None)\n",
       "        (5): Activation(relu)\n",
       "      )\n",
       "      (branch_3): HybridSequential(\n",
       "        (0): Conv2D(None -> 32, kernel_size=(1, 1), stride=(1, 1))\n",
       "        (1): BatchNorm(axis=1, eps=1e-05, momentum=0.9, fix_gamma=False, use_global_stats=False, in_channels=None)\n",
       "        (2): Activation(relu)\n",
       "        (3): Conv2D(None -> 32, kernel_size=(5, 5), stride=(1, 1), padding=(2, 2))\n",
       "        (4): BatchNorm(axis=1, eps=1e-05, momentum=0.9, fix_gamma=False, use_global_stats=False, in_channels=None)\n",
       "        (5): Activation(relu)\n",
       "      )\n",
       "    )\n",
       "    (15): Conv2D(None -> 896, kernel_size=(3, 3), stride=(1, 1), padding=(1, 1))\n",
       "    (16): BatchNorm(axis=1, eps=1e-05, momentum=0.9, fix_gamma=False, use_global_stats=False, in_channels=None)\n",
       "    (17): Activation(relu)\n",
       "    (18): MaxPool2D(size=(3, 3), stride=(2, 2), padding=(1, 1), ceil_mode=False)\n",
       "    (19): block_17(\n",
       "      (up): Conv2D(None -> 896, kernel_size=(1, 1), stride=(1, 1))\n",
       "      (bn): BatchNorm(axis=1, eps=1e-05, momentum=0.9, fix_gamma=False, use_global_stats=False, in_channels=None)\n",
       "      (branch_1): HybridSequential(\n",
       "        (0): Conv2D(None -> 128, kernel_size=(1, 1), stride=(1, 1))\n",
       "        (1): BatchNorm(axis=1, eps=1e-05, momentum=0.9, fix_gamma=False, use_global_stats=False, in_channels=None)\n",
       "        (2): Activation(relu)\n",
       "      )\n",
       "      (branch_2): HybridSequential(\n",
       "        (0): Conv2D(None -> 128, kernel_size=(1, 1), stride=(1, 1))\n",
       "        (1): BatchNorm(axis=1, eps=1e-05, momentum=0.9, fix_gamma=False, use_global_stats=False, in_channels=None)\n",
       "        (2): Activation(relu)\n",
       "        (3): Conv2D(None -> 128, kernel_size=(1, 7), stride=(1, 1), padding=(0, 3))\n",
       "        (4): BatchNorm(axis=1, eps=1e-05, momentum=0.9, fix_gamma=False, use_global_stats=False, in_channels=None)\n",
       "        (5): Activation(relu)\n",
       "        (6): Conv2D(None -> 128, kernel_size=(7, 1), stride=(1, 1), padding=(3, 0))\n",
       "        (7): BatchNorm(axis=1, eps=1e-05, momentum=0.9, fix_gamma=False, use_global_stats=False, in_channels=None)\n",
       "        (8): Activation(relu)\n",
       "      )\n",
       "    )\n",
       "    (20): block_17(\n",
       "      (up): Conv2D(None -> 896, kernel_size=(1, 1), stride=(1, 1))\n",
       "      (bn): BatchNorm(axis=1, eps=1e-05, momentum=0.9, fix_gamma=False, use_global_stats=False, in_channels=None)\n",
       "      (branch_1): HybridSequential(\n",
       "        (0): Conv2D(None -> 128, kernel_size=(1, 1), stride=(1, 1))\n",
       "        (1): BatchNorm(axis=1, eps=1e-05, momentum=0.9, fix_gamma=False, use_global_stats=False, in_channels=None)\n",
       "        (2): Activation(relu)\n",
       "      )\n",
       "      (branch_2): HybridSequential(\n",
       "        (0): Conv2D(None -> 128, kernel_size=(1, 1), stride=(1, 1))\n",
       "        (1): BatchNorm(axis=1, eps=1e-05, momentum=0.9, fix_gamma=False, use_global_stats=False, in_channels=None)\n",
       "        (2): Activation(relu)\n",
       "        (3): Conv2D(None -> 128, kernel_size=(1, 7), stride=(1, 1), padding=(0, 3))\n",
       "        (4): BatchNorm(axis=1, eps=1e-05, momentum=0.9, fix_gamma=False, use_global_stats=False, in_channels=None)\n",
       "        (5): Activation(relu)\n",
       "        (6): Conv2D(None -> 128, kernel_size=(7, 1), stride=(1, 1), padding=(3, 0))\n",
       "        (7): BatchNorm(axis=1, eps=1e-05, momentum=0.9, fix_gamma=False, use_global_stats=False, in_channels=None)\n",
       "        (8): Activation(relu)\n",
       "      )\n",
       "    )\n",
       "    (21): block_17(\n",
       "      (up): Conv2D(None -> 896, kernel_size=(1, 1), stride=(1, 1))\n",
       "      (bn): BatchNorm(axis=1, eps=1e-05, momentum=0.9, fix_gamma=False, use_global_stats=False, in_channels=None)\n",
       "      (branch_1): HybridSequential(\n",
       "        (0): Conv2D(None -> 128, kernel_size=(1, 1), stride=(1, 1))\n",
       "        (1): BatchNorm(axis=1, eps=1e-05, momentum=0.9, fix_gamma=False, use_global_stats=False, in_channels=None)\n",
       "        (2): Activation(relu)\n",
       "      )\n",
       "      (branch_2): HybridSequential(\n",
       "        (0): Conv2D(None -> 128, kernel_size=(1, 1), stride=(1, 1))\n",
       "        (1): BatchNorm(axis=1, eps=1e-05, momentum=0.9, fix_gamma=False, use_global_stats=False, in_channels=None)\n",
       "        (2): Activation(relu)\n",
       "        (3): Conv2D(None -> 128, kernel_size=(1, 7), stride=(1, 1), padding=(0, 3))\n",
       "        (4): BatchNorm(axis=1, eps=1e-05, momentum=0.9, fix_gamma=False, use_global_stats=False, in_channels=None)\n",
       "        (5): Activation(relu)\n",
       "        (6): Conv2D(None -> 128, kernel_size=(7, 1), stride=(1, 1), padding=(3, 0))\n",
       "        (7): BatchNorm(axis=1, eps=1e-05, momentum=0.9, fix_gamma=False, use_global_stats=False, in_channels=None)\n",
       "        (8): Activation(relu)\n",
       "      )\n",
       "    )\n",
       "    (22): Conv2D(None -> 1792, kernel_size=(3, 3), stride=(1, 1), padding=(1, 1))\n",
       "    (23): BatchNorm(axis=1, eps=1e-05, momentum=0.9, fix_gamma=False, use_global_stats=False, in_channels=None)\n",
       "    (24): Activation(relu)\n",
       "    (25): MaxPool2D(size=(3, 3), stride=(2, 2), padding=(1, 1), ceil_mode=False)\n",
       "    (26): block_13(\n",
       "      (up): Conv2D(None -> 1792, kernel_size=(1, 1), stride=(1, 1))\n",
       "      (bn): BatchNorm(axis=1, eps=1e-05, momentum=0.9, fix_gamma=False, use_global_stats=False, in_channels=None)\n",
       "      (branch_1): HybridSequential(\n",
       "        (0): Conv2D(None -> 192, kernel_size=(1, 1), stride=(1, 1))\n",
       "        (1): BatchNorm(axis=1, eps=1e-05, momentum=0.9, fix_gamma=False, use_global_stats=False, in_channels=None)\n",
       "        (2): Activation(relu)\n",
       "      )\n",
       "      (branch_2): HybridSequential(\n",
       "        (0): Conv2D(None -> 192, kernel_size=(1, 1), stride=(1, 1))\n",
       "        (1): BatchNorm(axis=1, eps=1e-05, momentum=0.9, fix_gamma=False, use_global_stats=False, in_channels=None)\n",
       "        (2): Activation(relu)\n",
       "        (3): Conv2D(None -> 192, kernel_size=(1, 3), stride=(1, 1), padding=(0, 1))\n",
       "        (4): BatchNorm(axis=1, eps=1e-05, momentum=0.9, fix_gamma=False, use_global_stats=False, in_channels=None)\n",
       "        (5): Activation(relu)\n",
       "        (6): Conv2D(None -> 192, kernel_size=(3, 1), stride=(1, 1), padding=(1, 0))\n",
       "        (7): BatchNorm(axis=1, eps=1e-05, momentum=0.9, fix_gamma=False, use_global_stats=False, in_channels=None)\n",
       "        (8): Activation(relu)\n",
       "      )\n",
       "    )\n",
       "    (27): AvgPool2D(size=(7, 7), stride=(1, 1), padding=(0, 0), ceil_mode=False)\n",
       "    (28): Flatten\n",
       "  )\n",
       "  (output): Dense(None -> 492, linear)\n",
       ")"
      ]
     },
     "execution_count": 16,
     "metadata": {},
     "output_type": "execute_result"
    }
   ],
   "source": [
    "FingerveinNet(num_classes=492, verbose=True)"
   ]
  },
  {
   "cell_type": "markdown",
   "metadata": {},
   "source": [
    "## softmax loss trainning"
   ]
  },
  {
   "cell_type": "code",
   "execution_count": 17,
   "metadata": {
    "collapsed": true
   },
   "outputs": [],
   "source": [
    "def train_softmax(train_data, valid_data, net, ctx, num_epoches, \n",
    "          learning_rate=0.01, lr_decay=0.1, lr_period=50, \n",
    "          momentum = 0.9, weight_decay=0, cost_period = 10, \n",
    "          print_cost=False):\n",
    "    costs = []\n",
    "    max_acc = 0\n",
    "#     trainer = gluon.Trainer(net.collect_params(), 'sgd', \n",
    "#                             {'learning_rate': learning_rate, \n",
    "#                              'momentum': momentum, \n",
    "#                              'wd': weight_decay})\n",
    "    trainer = gluon.Trainer(net.collect_params(), 'adam', \n",
    "                            {'learning_rate': learning_rate})\n",
    "    pre_time = datetime.datetime.now()\n",
    "#     moving_loss = 0\n",
    "#     niter = 0\n",
    "    for epoch in range(num_epoches):\n",
    "        train_loss = 0\n",
    "        train_acc = 0\n",
    "        if (epoch+1) in lr_period:\n",
    "            trainer.set_learning_rate(trainer.learning_rate * lr_decay)\n",
    "        for data, label in train_data:\n",
    "            data = data.as_in_context(ctx)\n",
    "#             label = label.as_in_context(ctx)\n",
    "            label = label.astype('float32').as_in_context(ctx)\n",
    "            with ag.record():\n",
    "                output, features = net(data)\n",
    "                loss = softmax_cross_entropy(output, label)\n",
    "            loss.backward()\n",
    "            trainer.step(batch_size)\n",
    "            train_loss += nd.mean(loss).asscalar()\n",
    "#             print(output.argmax(axis=1).astype(np.int64), label)\n",
    "            train_acc += nd.mean(output.argmax(axis=1) == label).asscalar()\n",
    "#             train_acc += nd.mean(output.argmax(axis=1).astype(np.int64) == label).asscalar()\n",
    "#             niter += 1\n",
    "#             cur_loss = nd.mean(loss).asscalar()\n",
    "#             moving_loss = 0.9 * moving_loss + 0.1 * cur_loss\n",
    "#             corr_loss = moving_loss / (1 - pow(0.9, niter))\n",
    "        cur_time = datetime.datetime.now()\n",
    "        h, remainder = divmod((cur_time - pre_time).seconds, 3600)\n",
    "        m, s = divmod(remainder, 60)\n",
    "        time_str = \"Time %02d:%02d:%02d\" % (h, m, s)\n",
    "        if valid_data is not None:\n",
    "            valid_acc = 0\n",
    "            for data, label in valid_data:\n",
    "                data = data.as_in_context(ctx)\n",
    "#                 label = label.as_in_context(ctx)\n",
    "                label = label.astype('float32').as_in_context(ctx)\n",
    "                output, features = net(data)\n",
    "#                 valid_acc += nd.mean(output.argmax(axis=1).astype(np.int64) == label).asscalar()\n",
    "                valid_acc += nd.mean(output.argmax(axis=1) == label).asscalar()\n",
    "            if valid_acc > max_acc:\n",
    "                net.save_params('fingervein_weight_softmax_USM.txt')\n",
    "                max_acc = valid_acc\n",
    "            epoch_str = \"Epoch %d, train_loss: %f, train_acc: %f, valid_acc %f, \" % (epoch+1, \n",
    "                                                                                   train_loss/len(train_data), \n",
    "                                                                                   train_acc/len(train_data), \n",
    "                                                                                   valid_acc/len(valid_data))\n",
    "        else:\n",
    "            epoch_str = \"Epoch %d, train_loss: %f, train_acc: %f, \" % (epoch+1, \n",
    "                                                                     train_loss/len(train_data), \n",
    "                                                                     train_acc/len(train_data))\n",
    "        if print_cost and (epoch+1) % cost_period == 0:\n",
    "#             costs.append(corr_loss)\n",
    "            costs.append(train_loss/len(train_data))\n",
    "        print(epoch_str + time_str + ', lr: %f' % trainer.learning_rate)\n",
    "        pre_time = cur_time\n",
    "    if print_cost:\n",
    "        x_axis = np.linspace(0, num_epoches, len(costs), endpoint = True)\n",
    "        plt.semilogy(x_axis, costs)\n",
    "        plt.xlabel('epoch')\n",
    "        plt.ylabel('loss')\n",
    "        plt.show()\n",
    "        plt.savefig('train_softmax_loss_USM.png')"
   ]
  },
  {
   "cell_type": "markdown",
   "metadata": {},
   "source": [
    "## center loss trainning"
   ]
  },
  {
   "cell_type": "code",
   "execution_count": 18,
   "metadata": {
    "collapsed": true
   },
   "outputs": [],
   "source": [
    "def train_center(train_data, valid_data, net, ctx, num_epoches, \n",
    "          learning_rate=0.01, lr_decay=0.1, lr_period=50, \n",
    "          momentum = 0.9, weight_decay=0, cost_period = 10, \n",
    "          print_cost=False):\n",
    "    costs = []\n",
    "    max_acc = 0\n",
    "#     trainer = gluon.Trainer(net.collect_params(), 'sgd', \n",
    "#                             {'learning_rate': learning_rate, \n",
    "#                              'momentum': momentum, \n",
    "#                              'wd': weight_decay})\n",
    "    \n",
    "    center_loss.initialize(mx.init.Xavier(), ctx=ctx)\n",
    "    trainer_center = gluon.Trainer(center_loss.collect_params(), 'adam', \n",
    "                                   {'learning_rate': learning_rate})\n",
    "    trainer = gluon.Trainer(net.collect_params(), 'adam', \n",
    "                            {'learning_rate': learning_rate})\n",
    "    pre_time = datetime.datetime.now()\n",
    "#     moving_loss = 0\n",
    "#     niter = 0\n",
    "    for epoch in range(num_epoches):\n",
    "        train_loss = 0\n",
    "        train_acc = 0\n",
    "        if (epoch+1) in lr_period:\n",
    "            trainer.set_learning_rate(trainer.learning_rate * lr_decay)\n",
    "        for data, label in train_data:\n",
    "            data = data.as_in_context(ctx)\n",
    "#             label = label.as_in_context(ctx)\n",
    "            label = label.astype('float32').as_in_context(ctx)\n",
    "            with ag.record():\n",
    "                output, features = net(data)\n",
    "#                 loss = softmax_cross_entropy(output, label)\n",
    "                loss_softmax = softmax_cross_entropy(output, label)\n",
    "                loss_center = center_loss(features, label)\n",
    "                loss = loss_softmax + loss_center\n",
    "            loss.backward()\n",
    "            trainer.step(batch_size)\n",
    "            trainer_center.step(batch_size)\n",
    "#             loss.backward()\n",
    "#             trainer.step(batch_size)\n",
    "            train_loss += nd.mean(loss).asscalar()\n",
    "#             print(output.argmax(axis=1).astype(np.int64), label)\n",
    "            train_acc += nd.mean(output.argmax(axis=1) == label).asscalar()\n",
    "#             train_acc += nd.mean(output.argmax(axis=1).astype(np.int64) == label).asscalar()\n",
    "#             niter += 1\n",
    "#             cur_loss = nd.mean(loss).asscalar()\n",
    "#             moving_loss = 0.9 * moving_loss + 0.1 * cur_loss\n",
    "#             corr_loss = moving_loss / (1 - pow(0.9, niter))\n",
    "        cur_time = datetime.datetime.now()\n",
    "        h, remainder = divmod((cur_time - pre_time).seconds, 3600)\n",
    "        m, s = divmod(remainder, 60)\n",
    "        time_str = \"Time %02d:%02d:%02d\" % (h, m, s)\n",
    "        if valid_data is not None:\n",
    "            valid_acc = 0\n",
    "            for data, label in valid_data:\n",
    "                data = data.as_in_context(ctx)\n",
    "#                 label = label.as_in_context(ctx)\n",
    "                label = label.astype('float32').as_in_context(ctx)\n",
    "                output, features = net(data)\n",
    "#                 valid_acc += nd.mean(output.argmax(axis=1).astype(np.int64) == label).asscalar()\n",
    "                valid_acc += nd.mean(output.argmax(axis=1) == label).asscalar()\n",
    "            if valid_acc >= max_acc:\n",
    "                net.save_params('fingervein_weight_centerloss_USM.txt')\n",
    "                max_acc = valid_acc\n",
    "            epoch_str = \"Epoch %d, train_loss: %f, train_acc: %f, valid_acc %f, \" % (epoch+1, \n",
    "                                                                                   train_loss/len(train_data), \n",
    "                                                                                   train_acc/len(train_data), \n",
    "                                                                                   valid_acc/len(valid_data))\n",
    "        else:\n",
    "            epoch_str = \"Epoch %d, train_loss: %f, train_acc: %f, \" % (epoch+1, \n",
    "                                                                     train_loss/len(train_data), \n",
    "                                                                     train_acc/len(train_data))\n",
    "        if print_cost and (epoch+1) % cost_period == 0:\n",
    "#             costs.append(corr_loss)\n",
    "            costs.append(train_loss/len(train_data))\n",
    "        print(epoch_str + time_str + ', lr: %f' % trainer.learning_rate)\n",
    "        pre_time = cur_time\n",
    "    if print_cost:\n",
    "        x_axis = np.linspace(0, num_epoches, len(costs), endpoint = True)\n",
    "        plt.semilogy(x_axis, costs)\n",
    "        plt.xlabel('epoch')\n",
    "        plt.ylabel('loss')\n",
    "        plt.savefig('train_center_loss_USM.png')\n",
    "        plt.show()"
   ]
  },
  {
   "cell_type": "code",
   "execution_count": 1,
   "metadata": {},
   "outputs": [
    {
     "ename": "NameError",
     "evalue": "name 'mx' is not defined",
     "output_type": "error",
     "traceback": [
      "\u001b[0;31m---------------------------------------------------------------------------\u001b[0m",
      "\u001b[0;31mNameError\u001b[0m                                 Traceback (most recent call last)",
      "\u001b[0;32m<ipython-input-1-7435ba620407>\u001b[0m in \u001b[0;36m<module>\u001b[0;34m()\u001b[0m\n\u001b[1;32m      1\u001b[0m \u001b[0;31m# valid_data = None\u001b[0m\u001b[0;34m\u001b[0m\u001b[0;34m\u001b[0m\u001b[0m\n\u001b[0;32m----> 2\u001b[0;31m \u001b[0mctx\u001b[0m \u001b[0;34m=\u001b[0m \u001b[0mmx\u001b[0m\u001b[0;34m.\u001b[0m\u001b[0mgpu\u001b[0m\u001b[0;34m(\u001b[0m\u001b[0;36m0\u001b[0m\u001b[0;34m)\u001b[0m\u001b[0;34m\u001b[0m\u001b[0m\n\u001b[0m\u001b[1;32m      3\u001b[0m \u001b[0mnum_epoches\u001b[0m \u001b[0;34m=\u001b[0m \u001b[0;36m250\u001b[0m\u001b[0;34m\u001b[0m\u001b[0m\n\u001b[1;32m      4\u001b[0m \u001b[0mlearning_rate\u001b[0m \u001b[0;34m=\u001b[0m \u001b[0;36m0.001\u001b[0m\u001b[0;34m\u001b[0m\u001b[0m\n\u001b[1;32m      5\u001b[0m \u001b[0;31m# lr_decay = 0.3\u001b[0m\u001b[0;34m\u001b[0m\u001b[0;34m\u001b[0m\u001b[0m\n",
      "\u001b[0;31mNameError\u001b[0m: name 'mx' is not defined"
     ]
    }
   ],
   "source": [
    "# valid_data = None\n",
    "ctx = mx.gpu(0)\n",
    "num_epoches = 250\n",
    "learning_rate = 0.001\n",
    "# lr_decay = 0.3\n",
    "lr_decay = 0.1\n",
    "lr_period = [80, 120, 180, 200]\n",
    "# lr_period = [80, 120, 180, 200]\n",
    "# lr_period = [50, 100, 150, 200]\n",
    "momentum = 0.9\n",
    "weight_decay = 5e-4\n",
    "cost_period = 10"
   ]
  },
  {
   "cell_type": "markdown",
   "metadata": {},
   "source": [
    "## 从头训练"
   ]
  },
  {
   "cell_type": "code",
   "execution_count": 20,
   "metadata": {
    "scrolled": false
   },
   "outputs": [
    {
     "name": "stdout",
     "output_type": "stream",
     "text": [
      "Epoch 1, train_loss: 7.695990, train_acc: 0.000000, valid_acc 0.005405, Time 00:00:15, lr: 0.001000\n",
      "Epoch 2, train_loss: 6.230229, train_acc: 0.004054, valid_acc 0.004054, Time 00:00:19, lr: 0.001000\n",
      "Epoch 3, train_loss: 6.131583, train_acc: 0.002027, valid_acc 0.006757, Time 00:00:19, lr: 0.001000\n",
      "Epoch 4, train_loss: 6.023794, train_acc: 0.004730, valid_acc 0.013514, Time 00:00:19, lr: 0.001000\n",
      "Epoch 5, train_loss: 5.864338, train_acc: 0.006757, valid_acc 0.029054, Time 00:00:19, lr: 0.001000\n",
      "Epoch 6, train_loss: 5.649281, train_acc: 0.012162, valid_acc 0.079730, Time 00:00:19, lr: 0.001000\n",
      "Epoch 7, train_loss: 5.318039, train_acc: 0.036486, valid_acc 0.139865, Time 00:00:19, lr: 0.001000\n",
      "Epoch 8, train_loss: 4.946112, train_acc: 0.070270, valid_acc 0.176351, Time 00:00:19, lr: 0.001000\n",
      "Epoch 9, train_loss: 4.529839, train_acc: 0.120270, valid_acc 0.289865, Time 00:00:19, lr: 0.001000\n",
      "Epoch 10, train_loss: 4.106574, train_acc: 0.191216, valid_acc 0.403378, Time 00:00:19, lr: 0.001000\n",
      "Epoch 11, train_loss: 3.741021, train_acc: 0.260135, valid_acc 0.394595, Time 00:00:19, lr: 0.001000\n",
      "Epoch 12, train_loss: 3.330719, train_acc: 0.343243, valid_acc 0.366892, Time 00:00:18, lr: 0.001000\n",
      "Epoch 13, train_loss: 2.900182, train_acc: 0.446622, valid_acc 0.577027, Time 00:00:19, lr: 0.001000\n",
      "Epoch 14, train_loss: 2.338515, train_acc: 0.615541, valid_acc 0.597297, Time 00:00:19, lr: 0.001000\n",
      "Epoch 15, train_loss: 1.977703, train_acc: 0.679054, valid_acc 0.878378, Time 00:00:19, lr: 0.001000\n",
      "Epoch 16, train_loss: 1.430963, train_acc: 0.823649, valid_acc 0.873649, Time 00:00:19, lr: 0.001000\n",
      "Epoch 17, train_loss: 1.092461, train_acc: 0.878378, valid_acc 0.922297, Time 00:00:18, lr: 0.001000\n",
      "Epoch 18, train_loss: 0.826465, train_acc: 0.941892, valid_acc 0.943243, Time 00:00:19, lr: 0.001000\n",
      "Epoch 19, train_loss: 0.660450, train_acc: 0.958784, valid_acc 0.942568, Time 00:00:19, lr: 0.001000\n",
      "Epoch 20, train_loss: 0.515370, train_acc: 0.975676, valid_acc 0.972297, Time 00:00:18, lr: 0.001000\n",
      "Epoch 21, train_loss: 0.403117, train_acc: 0.985811, valid_acc 0.966216, Time 00:00:19, lr: 0.001000\n",
      "Epoch 22, train_loss: 0.372896, train_acc: 0.985811, valid_acc 0.975000, Time 00:00:19, lr: 0.001000\n",
      "Epoch 23, train_loss: 0.246506, train_acc: 0.997297, valid_acc 0.981757, Time 00:00:19, lr: 0.001000\n",
      "Epoch 24, train_loss: 0.213675, train_acc: 0.997973, valid_acc 0.978378, Time 00:00:19, lr: 0.001000\n",
      "Epoch 25, train_loss: 0.235498, train_acc: 0.997297, valid_acc 0.982432, Time 00:00:18, lr: 0.001000\n",
      "Epoch 26, train_loss: 0.172443, train_acc: 0.999324, valid_acc 0.977027, Time 00:00:19, lr: 0.001000\n",
      "Epoch 27, train_loss: 0.172358, train_acc: 0.999324, valid_acc 0.976351, Time 00:00:19, lr: 0.001000\n",
      "Epoch 28, train_loss: 0.149523, train_acc: 0.999324, valid_acc 0.981757, Time 00:00:19, lr: 0.001000\n",
      "Epoch 29, train_loss: 0.120490, train_acc: 1.000000, valid_acc 0.985135, Time 00:00:18, lr: 0.001000\n",
      "Epoch 30, train_loss: 0.129116, train_acc: 1.000000, valid_acc 0.984459, Time 00:00:19, lr: 0.001000\n",
      "Epoch 31, train_loss: 0.117747, train_acc: 1.000000, valid_acc 0.979730, Time 00:00:18, lr: 0.001000\n",
      "Epoch 32, train_loss: 0.102846, train_acc: 1.000000, valid_acc 0.987162, Time 00:00:18, lr: 0.001000\n",
      "Epoch 33, train_loss: 0.219941, train_acc: 0.995946, valid_acc 0.979054, Time 00:00:19, lr: 0.001000\n",
      "Epoch 34, train_loss: 0.163536, train_acc: 0.997297, valid_acc 0.982432, Time 00:00:19, lr: 0.001000\n",
      "Epoch 35, train_loss: 0.102844, train_acc: 1.000000, valid_acc 0.988514, Time 00:00:18, lr: 0.001000\n",
      "Epoch 36, train_loss: 0.090966, train_acc: 1.000000, valid_acc 0.981757, Time 00:00:19, lr: 0.001000\n",
      "Epoch 37, train_loss: 0.087353, train_acc: 1.000000, valid_acc 0.989189, Time 00:00:19, lr: 0.001000\n",
      "Epoch 38, train_loss: 0.076007, train_acc: 1.000000, valid_acc 0.987838, Time 00:00:19, lr: 0.001000\n",
      "Epoch 39, train_loss: 0.068343, train_acc: 1.000000, valid_acc 0.988514, Time 00:00:19, lr: 0.001000\n",
      "Epoch 40, train_loss: 0.067869, train_acc: 1.000000, valid_acc 0.989189, Time 00:00:18, lr: 0.001000\n",
      "Epoch 41, train_loss: 0.062505, train_acc: 1.000000, valid_acc 0.989189, Time 00:00:19, lr: 0.001000\n",
      "Epoch 42, train_loss: 0.057139, train_acc: 1.000000, valid_acc 0.989189, Time 00:00:19, lr: 0.001000\n",
      "Epoch 43, train_loss: 0.056189, train_acc: 1.000000, valid_acc 0.989189, Time 00:00:19, lr: 0.001000\n",
      "Epoch 44, train_loss: 0.054985, train_acc: 1.000000, valid_acc 0.989865, Time 00:00:19, lr: 0.001000\n",
      "Epoch 45, train_loss: 0.051600, train_acc: 1.000000, valid_acc 0.989189, Time 00:00:19, lr: 0.001000\n",
      "Epoch 46, train_loss: 0.049734, train_acc: 1.000000, valid_acc 0.991216, Time 00:00:18, lr: 0.001000\n",
      "Epoch 47, train_loss: 0.050169, train_acc: 1.000000, valid_acc 0.989189, Time 00:00:19, lr: 0.001000\n",
      "Epoch 48, train_loss: 0.079960, train_acc: 0.999324, valid_acc 0.979054, Time 00:00:18, lr: 0.001000\n",
      "Epoch 49, train_loss: 0.758933, train_acc: 0.890541, valid_acc 0.977703, Time 00:00:18, lr: 0.001000\n",
      "Epoch 50, train_loss: 0.168576, train_acc: 0.997297, valid_acc 0.981757, Time 00:00:18, lr: 0.001000\n",
      "Epoch 51, train_loss: 0.081737, train_acc: 1.000000, valid_acc 0.985811, Time 00:00:18, lr: 0.001000\n",
      "Epoch 52, train_loss: 0.064029, train_acc: 1.000000, valid_acc 0.990541, Time 00:00:18, lr: 0.001000\n",
      "Epoch 53, train_loss: 0.056238, train_acc: 1.000000, valid_acc 0.989865, Time 00:00:19, lr: 0.001000\n",
      "Epoch 54, train_loss: 0.050258, train_acc: 1.000000, valid_acc 0.990541, Time 00:00:19, lr: 0.001000\n",
      "Epoch 55, train_loss: 0.047199, train_acc: 1.000000, valid_acc 0.987162, Time 00:00:18, lr: 0.001000\n",
      "Epoch 56, train_loss: 0.045718, train_acc: 1.000000, valid_acc 0.989865, Time 00:00:18, lr: 0.001000\n",
      "Epoch 57, train_loss: 0.041453, train_acc: 1.000000, valid_acc 0.989189, Time 00:00:18, lr: 0.001000\n",
      "Epoch 58, train_loss: 0.039188, train_acc: 1.000000, valid_acc 0.990541, Time 00:00:18, lr: 0.001000\n",
      "Epoch 59, train_loss: 0.038093, train_acc: 1.000000, valid_acc 0.989865, Time 00:00:18, lr: 0.001000\n",
      "Epoch 60, train_loss: 0.035658, train_acc: 1.000000, valid_acc 0.992568, Time 00:00:19, lr: 0.001000\n",
      "Epoch 61, train_loss: 0.033786, train_acc: 1.000000, valid_acc 0.991892, Time 00:00:19, lr: 0.001000\n",
      "Epoch 62, train_loss: 0.036629, train_acc: 1.000000, valid_acc 0.991892, Time 00:00:18, lr: 0.001000\n",
      "Epoch 63, train_loss: 0.034085, train_acc: 1.000000, valid_acc 0.991892, Time 00:00:19, lr: 0.001000\n",
      "Epoch 64, train_loss: 0.032219, train_acc: 1.000000, valid_acc 0.992568, Time 00:00:18, lr: 0.001000\n",
      "Epoch 65, train_loss: 0.030104, train_acc: 1.000000, valid_acc 0.993919, Time 00:00:19, lr: 0.001000\n",
      "Epoch 66, train_loss: 0.029259, train_acc: 1.000000, valid_acc 0.994595, Time 00:00:19, lr: 0.001000\n",
      "Epoch 67, train_loss: 0.028938, train_acc: 1.000000, valid_acc 0.992568, Time 00:00:19, lr: 0.001000\n",
      "Epoch 68, train_loss: 0.028055, train_acc: 1.000000, valid_acc 0.991892, Time 00:00:18, lr: 0.001000\n",
      "Epoch 69, train_loss: 0.026759, train_acc: 1.000000, valid_acc 0.991216, Time 00:00:19, lr: 0.001000\n",
      "Epoch 70, train_loss: 0.026531, train_acc: 1.000000, valid_acc 0.992568, Time 00:00:18, lr: 0.001000\n",
      "Epoch 71, train_loss: 0.026466, train_acc: 1.000000, valid_acc 0.991892, Time 00:00:19, lr: 0.001000\n",
      "Epoch 72, train_loss: 0.024928, train_acc: 1.000000, valid_acc 0.993243, Time 00:00:19, lr: 0.001000\n",
      "Epoch 73, train_loss: 0.025745, train_acc: 1.000000, valid_acc 0.994595, Time 00:00:18, lr: 0.001000\n",
      "Epoch 74, train_loss: 0.025844, train_acc: 1.000000, valid_acc 0.993919, Time 00:00:19, lr: 0.001000\n",
      "Epoch 75, train_loss: 0.023877, train_acc: 1.000000, valid_acc 0.992568, Time 00:00:19, lr: 0.001000\n",
      "Epoch 76, train_loss: 0.022961, train_acc: 1.000000, valid_acc 0.993243, Time 00:00:19, lr: 0.001000\n",
      "Epoch 77, train_loss: 0.022450, train_acc: 1.000000, valid_acc 0.993919, Time 00:00:18, lr: 0.001000\n",
      "Epoch 78, train_loss: 0.022108, train_acc: 1.000000, valid_acc 0.993243, Time 00:00:19, lr: 0.001000\n",
      "Epoch 79, train_loss: 0.022413, train_acc: 1.000000, valid_acc 0.991892, Time 00:00:18, lr: 0.001000\n",
      "Epoch 80, train_loss: 0.015823, train_acc: 1.000000, valid_acc 0.993243, Time 00:00:18, lr: 0.000300\n",
      "Epoch 81, train_loss: 0.013109, train_acc: 1.000000, valid_acc 0.993243, Time 00:00:19, lr: 0.000300\n",
      "Epoch 82, train_loss: 0.012603, train_acc: 1.000000, valid_acc 0.993243, Time 00:00:19, lr: 0.000300\n"
     ]
    },
    {
     "name": "stdout",
     "output_type": "stream",
     "text": [
      "Epoch 83, train_loss: 0.012631, train_acc: 1.000000, valid_acc 0.993243, Time 00:00:19, lr: 0.000300\n",
      "Epoch 84, train_loss: 0.012816, train_acc: 1.000000, valid_acc 0.993919, Time 00:00:19, lr: 0.000300\n",
      "Epoch 85, train_loss: 0.013277, train_acc: 1.000000, valid_acc 0.993243, Time 00:00:19, lr: 0.000300\n",
      "Epoch 86, train_loss: 0.012880, train_acc: 1.000000, valid_acc 0.993919, Time 00:00:18, lr: 0.000300\n",
      "Epoch 87, train_loss: 0.012545, train_acc: 1.000000, valid_acc 0.993243, Time 00:00:18, lr: 0.000300\n",
      "Epoch 88, train_loss: 0.013071, train_acc: 1.000000, valid_acc 0.993243, Time 00:00:19, lr: 0.000300\n",
      "Epoch 89, train_loss: 0.013534, train_acc: 1.000000, valid_acc 0.993243, Time 00:00:18, lr: 0.000300\n",
      "Epoch 90, train_loss: 0.012788, train_acc: 1.000000, valid_acc 0.993243, Time 00:00:18, lr: 0.000300\n",
      "Epoch 91, train_loss: 0.012998, train_acc: 1.000000, valid_acc 0.993243, Time 00:00:19, lr: 0.000300\n",
      "Epoch 92, train_loss: 0.012928, train_acc: 1.000000, valid_acc 0.993919, Time 00:00:19, lr: 0.000300\n",
      "Epoch 93, train_loss: 0.012325, train_acc: 1.000000, valid_acc 0.993243, Time 00:00:18, lr: 0.000300\n",
      "Epoch 94, train_loss: 0.012520, train_acc: 1.000000, valid_acc 0.993243, Time 00:00:19, lr: 0.000300\n",
      "Epoch 95, train_loss: 0.012048, train_acc: 1.000000, valid_acc 0.993243, Time 00:00:18, lr: 0.000300\n",
      "Epoch 96, train_loss: 0.011820, train_acc: 1.000000, valid_acc 0.993243, Time 00:00:19, lr: 0.000300\n",
      "Epoch 97, train_loss: 0.011236, train_acc: 1.000000, valid_acc 0.993919, Time 00:00:19, lr: 0.000300\n",
      "Epoch 98, train_loss: 0.011589, train_acc: 1.000000, valid_acc 0.993243, Time 00:00:19, lr: 0.000300\n",
      "Epoch 99, train_loss: 0.011447, train_acc: 1.000000, valid_acc 0.993919, Time 00:00:19, lr: 0.000300\n",
      "Epoch 100, train_loss: 0.011281, train_acc: 1.000000, valid_acc 0.993919, Time 00:00:19, lr: 0.000300\n",
      "Epoch 101, train_loss: 0.010957, train_acc: 1.000000, valid_acc 0.993243, Time 00:00:18, lr: 0.000300\n",
      "Epoch 102, train_loss: 0.010933, train_acc: 1.000000, valid_acc 0.994595, Time 00:00:18, lr: 0.000300\n",
      "Epoch 103, train_loss: 0.011091, train_acc: 1.000000, valid_acc 0.993919, Time 00:00:19, lr: 0.000300\n",
      "Epoch 104, train_loss: 0.010737, train_acc: 1.000000, valid_acc 0.992568, Time 00:00:19, lr: 0.000300\n",
      "Epoch 105, train_loss: 0.010431, train_acc: 1.000000, valid_acc 0.993243, Time 00:00:18, lr: 0.000300\n",
      "Epoch 106, train_loss: 0.010045, train_acc: 1.000000, valid_acc 0.993243, Time 00:00:18, lr: 0.000300\n",
      "Epoch 107, train_loss: 0.010049, train_acc: 1.000000, valid_acc 0.993919, Time 00:00:19, lr: 0.000300\n",
      "Epoch 108, train_loss: 0.010123, train_acc: 1.000000, valid_acc 0.993919, Time 00:00:19, lr: 0.000300\n",
      "Epoch 109, train_loss: 0.010038, train_acc: 1.000000, valid_acc 0.993243, Time 00:00:18, lr: 0.000300\n",
      "Epoch 110, train_loss: 0.010018, train_acc: 1.000000, valid_acc 0.993243, Time 00:00:18, lr: 0.000300\n",
      "Epoch 111, train_loss: 0.009443, train_acc: 1.000000, valid_acc 0.993919, Time 00:00:18, lr: 0.000300\n",
      "Epoch 112, train_loss: 0.009122, train_acc: 1.000000, valid_acc 0.992568, Time 00:00:19, lr: 0.000300\n",
      "Epoch 113, train_loss: 0.009091, train_acc: 1.000000, valid_acc 0.993243, Time 00:00:18, lr: 0.000300\n",
      "Epoch 114, train_loss: 0.009127, train_acc: 1.000000, valid_acc 0.993919, Time 00:00:19, lr: 0.000300\n",
      "Epoch 115, train_loss: 0.009224, train_acc: 1.000000, valid_acc 0.993243, Time 00:00:18, lr: 0.000300\n",
      "Epoch 116, train_loss: 0.008770, train_acc: 1.000000, valid_acc 0.993919, Time 00:00:19, lr: 0.000300\n",
      "Epoch 117, train_loss: 0.008541, train_acc: 1.000000, valid_acc 0.994595, Time 00:00:19, lr: 0.000300\n",
      "Epoch 118, train_loss: 0.008488, train_acc: 1.000000, valid_acc 0.993919, Time 00:00:19, lr: 0.000300\n",
      "Epoch 119, train_loss: 0.008721, train_acc: 1.000000, valid_acc 0.993243, Time 00:00:19, lr: 0.000300\n",
      "Epoch 120, train_loss: 0.006804, train_acc: 1.000000, valid_acc 0.993919, Time 00:00:18, lr: 0.000090\n",
      "Epoch 121, train_loss: 0.005920, train_acc: 1.000000, valid_acc 0.993243, Time 00:00:18, lr: 0.000090\n",
      "Epoch 122, train_loss: 0.005786, train_acc: 1.000000, valid_acc 0.993243, Time 00:00:18, lr: 0.000090\n",
      "Epoch 123, train_loss: 0.006064, train_acc: 1.000000, valid_acc 0.993243, Time 00:00:19, lr: 0.000090\n",
      "Epoch 124, train_loss: 0.006235, train_acc: 1.000000, valid_acc 0.993919, Time 00:00:18, lr: 0.000090\n",
      "Epoch 125, train_loss: 0.006208, train_acc: 1.000000, valid_acc 0.993243, Time 00:00:18, lr: 0.000090\n",
      "Epoch 126, train_loss: 0.006293, train_acc: 1.000000, valid_acc 0.993243, Time 00:00:18, lr: 0.000090\n",
      "Epoch 127, train_loss: 0.006285, train_acc: 1.000000, valid_acc 0.993243, Time 00:00:18, lr: 0.000090\n",
      "Epoch 128, train_loss: 0.006235, train_acc: 1.000000, valid_acc 0.993919, Time 00:00:19, lr: 0.000090\n",
      "Epoch 129, train_loss: 0.006387, train_acc: 1.000000, valid_acc 0.993243, Time 00:00:19, lr: 0.000090\n",
      "Epoch 130, train_loss: 0.006411, train_acc: 1.000000, valid_acc 0.993919, Time 00:00:18, lr: 0.000090\n",
      "Epoch 131, train_loss: 0.006304, train_acc: 1.000000, valid_acc 0.993243, Time 00:00:18, lr: 0.000090\n",
      "Epoch 132, train_loss: 0.006506, train_acc: 1.000000, valid_acc 0.993243, Time 00:00:19, lr: 0.000090\n",
      "Epoch 133, train_loss: 0.006162, train_acc: 1.000000, valid_acc 0.993243, Time 00:00:18, lr: 0.000090\n",
      "Epoch 134, train_loss: 0.006162, train_acc: 1.000000, valid_acc 0.993243, Time 00:00:18, lr: 0.000090\n",
      "Epoch 135, train_loss: 0.006048, train_acc: 1.000000, valid_acc 0.993243, Time 00:00:19, lr: 0.000090\n",
      "Epoch 136, train_loss: 0.006050, train_acc: 1.000000, valid_acc 0.993243, Time 00:00:19, lr: 0.000090\n",
      "Epoch 137, train_loss: 0.006000, train_acc: 1.000000, valid_acc 0.993919, Time 00:00:19, lr: 0.000090\n",
      "Epoch 138, train_loss: 0.006218, train_acc: 1.000000, valid_acc 0.993243, Time 00:00:19, lr: 0.000090\n",
      "Epoch 139, train_loss: 0.006183, train_acc: 1.000000, valid_acc 0.993243, Time 00:00:18, lr: 0.000090\n",
      "Epoch 140, train_loss: 0.006126, train_acc: 1.000000, valid_acc 0.993919, Time 00:00:18, lr: 0.000090\n",
      "Epoch 141, train_loss: 0.006115, train_acc: 1.000000, valid_acc 0.993919, Time 00:00:19, lr: 0.000090\n",
      "Epoch 142, train_loss: 0.006121, train_acc: 1.000000, valid_acc 0.993919, Time 00:00:18, lr: 0.000090\n",
      "Epoch 143, train_loss: 0.005728, train_acc: 1.000000, valid_acc 0.993243, Time 00:00:18, lr: 0.000090\n",
      "Epoch 144, train_loss: 0.005933, train_acc: 1.000000, valid_acc 0.993243, Time 00:00:18, lr: 0.000090\n",
      "Epoch 145, train_loss: 0.005803, train_acc: 1.000000, valid_acc 0.993243, Time 00:00:19, lr: 0.000090\n",
      "Epoch 146, train_loss: 0.005713, train_acc: 1.000000, valid_acc 0.993243, Time 00:00:18, lr: 0.000090\n",
      "Epoch 147, train_loss: 0.005757, train_acc: 1.000000, valid_acc 0.993243, Time 00:00:18, lr: 0.000090\n",
      "Epoch 148, train_loss: 0.005718, train_acc: 1.000000, valid_acc 0.993243, Time 00:00:19, lr: 0.000090\n",
      "Epoch 149, train_loss: 0.005789, train_acc: 1.000000, valid_acc 0.993919, Time 00:00:18, lr: 0.000090\n",
      "Epoch 150, train_loss: 0.005666, train_acc: 1.000000, valid_acc 0.993243, Time 00:00:19, lr: 0.000090\n",
      "Epoch 151, train_loss: 0.005635, train_acc: 1.000000, valid_acc 0.993919, Time 00:00:18, lr: 0.000090\n",
      "Epoch 152, train_loss: 0.005693, train_acc: 1.000000, valid_acc 0.994595, Time 00:00:18, lr: 0.000090\n",
      "Epoch 153, train_loss: 0.005698, train_acc: 1.000000, valid_acc 0.993919, Time 00:00:19, lr: 0.000090\n",
      "Epoch 154, train_loss: 0.005576, train_acc: 1.000000, valid_acc 0.993919, Time 00:00:19, lr: 0.000090\n",
      "Epoch 155, train_loss: 0.005565, train_acc: 1.000000, valid_acc 0.993919, Time 00:00:18, lr: 0.000090\n",
      "Epoch 156, train_loss: 0.005715, train_acc: 1.000000, valid_acc 0.993919, Time 00:00:18, lr: 0.000090\n",
      "Epoch 157, train_loss: 0.005630, train_acc: 1.000000, valid_acc 0.993243, Time 00:00:19, lr: 0.000090\n",
      "Epoch 158, train_loss: 0.005413, train_acc: 1.000000, valid_acc 0.993243, Time 00:00:18, lr: 0.000090\n",
      "Epoch 159, train_loss: 0.005466, train_acc: 1.000000, valid_acc 0.993919, Time 00:00:18, lr: 0.000090\n",
      "Epoch 160, train_loss: 0.005333, train_acc: 1.000000, valid_acc 0.993919, Time 00:00:19, lr: 0.000090\n",
      "Epoch 161, train_loss: 0.005423, train_acc: 1.000000, valid_acc 0.994595, Time 00:00:18, lr: 0.000090\n",
      "Epoch 162, train_loss: 0.005496, train_acc: 1.000000, valid_acc 0.993919, Time 00:00:19, lr: 0.000090\n",
      "Epoch 163, train_loss: 0.005432, train_acc: 1.000000, valid_acc 0.993919, Time 00:00:18, lr: 0.000090\n"
     ]
    },
    {
     "name": "stdout",
     "output_type": "stream",
     "text": [
      "Epoch 164, train_loss: 0.005358, train_acc: 1.000000, valid_acc 0.993919, Time 00:00:19, lr: 0.000090\n",
      "Epoch 165, train_loss: 0.005434, train_acc: 1.000000, valid_acc 0.993919, Time 00:00:19, lr: 0.000090\n",
      "Epoch 166, train_loss: 0.005361, train_acc: 1.000000, valid_acc 0.993243, Time 00:00:19, lr: 0.000090\n",
      "Epoch 167, train_loss: 0.005268, train_acc: 1.000000, valid_acc 0.993919, Time 00:00:19, lr: 0.000090\n",
      "Epoch 168, train_loss: 0.005319, train_acc: 1.000000, valid_acc 0.993243, Time 00:00:19, lr: 0.000090\n",
      "Epoch 169, train_loss: 0.005283, train_acc: 1.000000, valid_acc 0.993243, Time 00:00:19, lr: 0.000090\n",
      "Epoch 170, train_loss: 0.005161, train_acc: 1.000000, valid_acc 0.993243, Time 00:00:19, lr: 0.000090\n",
      "Epoch 171, train_loss: 0.005145, train_acc: 1.000000, valid_acc 0.993919, Time 00:00:19, lr: 0.000090\n",
      "Epoch 172, train_loss: 0.005225, train_acc: 1.000000, valid_acc 0.993243, Time 00:00:19, lr: 0.000090\n",
      "Epoch 173, train_loss: 0.005255, train_acc: 1.000000, valid_acc 0.993919, Time 00:00:19, lr: 0.000090\n",
      "Epoch 174, train_loss: 0.005199, train_acc: 1.000000, valid_acc 0.993243, Time 00:00:19, lr: 0.000090\n",
      "Epoch 175, train_loss: 0.005150, train_acc: 1.000000, valid_acc 0.993243, Time 00:00:19, lr: 0.000090\n",
      "Epoch 176, train_loss: 0.005117, train_acc: 1.000000, valid_acc 0.993919, Time 00:00:19, lr: 0.000090\n",
      "Epoch 177, train_loss: 0.005143, train_acc: 1.000000, valid_acc 0.993243, Time 00:00:19, lr: 0.000090\n",
      "Epoch 178, train_loss: 0.004877, train_acc: 1.000000, valid_acc 0.993243, Time 00:00:19, lr: 0.000090\n",
      "Epoch 179, train_loss: 0.005007, train_acc: 1.000000, valid_acc 0.993919, Time 00:00:19, lr: 0.000090\n",
      "Epoch 180, train_loss: 0.004524, train_acc: 1.000000, valid_acc 0.993243, Time 00:00:18, lr: 0.000027\n",
      "Epoch 181, train_loss: 0.004269, train_acc: 1.000000, valid_acc 0.993243, Time 00:00:18, lr: 0.000027\n",
      "Epoch 182, train_loss: 0.004349, train_acc: 1.000000, valid_acc 0.993243, Time 00:00:19, lr: 0.000027\n",
      "Epoch 183, train_loss: 0.004252, train_acc: 1.000000, valid_acc 0.993243, Time 00:00:19, lr: 0.000027\n",
      "Epoch 184, train_loss: 0.004427, train_acc: 1.000000, valid_acc 0.993243, Time 00:00:19, lr: 0.000027\n",
      "Epoch 185, train_loss: 0.004586, train_acc: 1.000000, valid_acc 0.993243, Time 00:00:18, lr: 0.000027\n",
      "Epoch 186, train_loss: 0.004475, train_acc: 1.000000, valid_acc 0.993243, Time 00:00:19, lr: 0.000027\n",
      "Epoch 187, train_loss: 0.004564, train_acc: 1.000000, valid_acc 0.993243, Time 00:00:19, lr: 0.000027\n",
      "Epoch 188, train_loss: 0.004455, train_acc: 1.000000, valid_acc 0.993243, Time 00:00:18, lr: 0.000027\n",
      "Epoch 189, train_loss: 0.004502, train_acc: 1.000000, valid_acc 0.993919, Time 00:00:18, lr: 0.000027\n",
      "Epoch 190, train_loss: 0.004557, train_acc: 1.000000, valid_acc 0.993243, Time 00:00:18, lr: 0.000027\n",
      "Epoch 191, train_loss: 0.004589, train_acc: 1.000000, valid_acc 0.993919, Time 00:00:19, lr: 0.000027\n",
      "Epoch 192, train_loss: 0.004544, train_acc: 1.000000, valid_acc 0.993243, Time 00:00:19, lr: 0.000027\n",
      "Epoch 193, train_loss: 0.004512, train_acc: 1.000000, valid_acc 0.993919, Time 00:00:18, lr: 0.000027\n",
      "Epoch 194, train_loss: 0.004569, train_acc: 1.000000, valid_acc 0.993243, Time 00:00:18, lr: 0.000027\n",
      "Epoch 195, train_loss: 0.004563, train_acc: 1.000000, valid_acc 0.993919, Time 00:00:19, lr: 0.000027\n",
      "Epoch 196, train_loss: 0.004528, train_acc: 1.000000, valid_acc 0.993919, Time 00:00:18, lr: 0.000027\n",
      "Epoch 197, train_loss: 0.004595, train_acc: 1.000000, valid_acc 0.993919, Time 00:00:18, lr: 0.000027\n",
      "Epoch 198, train_loss: 0.004397, train_acc: 1.000000, valid_acc 0.993919, Time 00:00:19, lr: 0.000027\n",
      "Epoch 199, train_loss: 0.004550, train_acc: 1.000000, valid_acc 0.993243, Time 00:00:18, lr: 0.000027\n",
      "Epoch 200, train_loss: 0.004360, train_acc: 1.000000, valid_acc 0.993243, Time 00:00:19, lr: 0.000008\n",
      "Epoch 201, train_loss: 0.004339, train_acc: 1.000000, valid_acc 0.993243, Time 00:00:18, lr: 0.000008\n",
      "Epoch 202, train_loss: 0.004314, train_acc: 1.000000, valid_acc 0.993243, Time 00:00:18, lr: 0.000008\n",
      "Epoch 203, train_loss: 0.004416, train_acc: 1.000000, valid_acc 0.993919, Time 00:00:18, lr: 0.000008\n",
      "Epoch 204, train_loss: 0.004197, train_acc: 1.000000, valid_acc 0.993243, Time 00:00:18, lr: 0.000008\n",
      "Epoch 205, train_loss: 0.004318, train_acc: 1.000000, valid_acc 0.993919, Time 00:00:19, lr: 0.000008\n",
      "Epoch 206, train_loss: 0.004283, train_acc: 1.000000, valid_acc 0.993243, Time 00:00:18, lr: 0.000008\n",
      "Epoch 207, train_loss: 0.004426, train_acc: 1.000000, valid_acc 0.993919, Time 00:00:18, lr: 0.000008\n",
      "Epoch 208, train_loss: 0.004415, train_acc: 1.000000, valid_acc 0.993243, Time 00:00:19, lr: 0.000008\n",
      "Epoch 209, train_loss: 0.004382, train_acc: 1.000000, valid_acc 0.993243, Time 00:00:18, lr: 0.000008\n",
      "Epoch 210, train_loss: 0.004274, train_acc: 1.000000, valid_acc 0.993919, Time 00:00:19, lr: 0.000008\n",
      "Epoch 211, train_loss: 0.004223, train_acc: 1.000000, valid_acc 0.993243, Time 00:00:19, lr: 0.000008\n",
      "Epoch 212, train_loss: 0.004324, train_acc: 1.000000, valid_acc 0.993243, Time 00:00:18, lr: 0.000008\n",
      "Epoch 213, train_loss: 0.004327, train_acc: 1.000000, valid_acc 0.993243, Time 00:00:19, lr: 0.000008\n",
      "Epoch 214, train_loss: 0.004235, train_acc: 1.000000, valid_acc 0.993919, Time 00:00:19, lr: 0.000008\n",
      "Epoch 215, train_loss: 0.004543, train_acc: 1.000000, valid_acc 0.993243, Time 00:00:19, lr: 0.000008\n",
      "Epoch 216, train_loss: 0.004486, train_acc: 1.000000, valid_acc 0.993243, Time 00:00:19, lr: 0.000008\n",
      "Epoch 217, train_loss: 0.004373, train_acc: 1.000000, valid_acc 0.993243, Time 00:00:19, lr: 0.000008\n",
      "Epoch 218, train_loss: 0.004310, train_acc: 1.000000, valid_acc 0.993243, Time 00:00:18, lr: 0.000008\n",
      "Epoch 219, train_loss: 0.004373, train_acc: 1.000000, valid_acc 0.993243, Time 00:00:18, lr: 0.000008\n",
      "Epoch 220, train_loss: 0.004285, train_acc: 1.000000, valid_acc 0.993243, Time 00:00:19, lr: 0.000008\n",
      "Epoch 221, train_loss: 0.004371, train_acc: 1.000000, valid_acc 0.993243, Time 00:00:18, lr: 0.000008\n",
      "Epoch 222, train_loss: 0.004371, train_acc: 1.000000, valid_acc 0.993243, Time 00:00:19, lr: 0.000008\n",
      "Epoch 223, train_loss: 0.004202, train_acc: 1.000000, valid_acc 0.993919, Time 00:00:19, lr: 0.000008\n",
      "Epoch 224, train_loss: 0.004384, train_acc: 1.000000, valid_acc 0.993243, Time 00:00:19, lr: 0.000008\n",
      "Epoch 225, train_loss: 0.004363, train_acc: 1.000000, valid_acc 0.993243, Time 00:00:18, lr: 0.000008\n",
      "Epoch 226, train_loss: 0.004239, train_acc: 1.000000, valid_acc 0.993919, Time 00:00:18, lr: 0.000008\n",
      "Epoch 227, train_loss: 0.004385, train_acc: 1.000000, valid_acc 0.993243, Time 00:00:18, lr: 0.000008\n",
      "Epoch 228, train_loss: 0.004272, train_acc: 1.000000, valid_acc 0.993919, Time 00:00:18, lr: 0.000008\n",
      "Epoch 229, train_loss: 0.004247, train_acc: 1.000000, valid_acc 0.993919, Time 00:00:19, lr: 0.000008\n",
      "Epoch 230, train_loss: 0.004237, train_acc: 1.000000, valid_acc 0.993243, Time 00:00:19, lr: 0.000008\n",
      "Epoch 231, train_loss: 0.004309, train_acc: 1.000000, valid_acc 0.993919, Time 00:00:19, lr: 0.000008\n",
      "Epoch 232, train_loss: 0.004235, train_acc: 1.000000, valid_acc 0.993243, Time 00:00:19, lr: 0.000008\n",
      "Epoch 233, train_loss: 0.004363, train_acc: 1.000000, valid_acc 0.993243, Time 00:00:19, lr: 0.000008\n",
      "Epoch 234, train_loss: 0.004387, train_acc: 1.000000, valid_acc 0.993243, Time 00:00:19, lr: 0.000008\n",
      "Epoch 235, train_loss: 0.004317, train_acc: 1.000000, valid_acc 0.993243, Time 00:00:18, lr: 0.000008\n",
      "Epoch 236, train_loss: 0.004348, train_acc: 1.000000, valid_acc 0.993919, Time 00:00:19, lr: 0.000008\n",
      "Epoch 237, train_loss: 0.004345, train_acc: 1.000000, valid_acc 0.993243, Time 00:00:18, lr: 0.000008\n",
      "Epoch 238, train_loss: 0.004302, train_acc: 1.000000, valid_acc 0.993243, Time 00:00:19, lr: 0.000008\n",
      "Epoch 239, train_loss: 0.004319, train_acc: 1.000000, valid_acc 0.993919, Time 00:00:18, lr: 0.000008\n",
      "Epoch 240, train_loss: 0.004168, train_acc: 1.000000, valid_acc 0.993919, Time 00:00:19, lr: 0.000008\n",
      "Epoch 241, train_loss: 0.004239, train_acc: 1.000000, valid_acc 0.993919, Time 00:00:18, lr: 0.000008\n",
      "Epoch 242, train_loss: 0.004405, train_acc: 1.000000, valid_acc 0.993919, Time 00:00:19, lr: 0.000008\n",
      "Epoch 243, train_loss: 0.004332, train_acc: 1.000000, valid_acc 0.993243, Time 00:00:18, lr: 0.000008\n",
      "Epoch 244, train_loss: 0.004159, train_acc: 1.000000, valid_acc 0.993919, Time 00:00:19, lr: 0.000008\n"
     ]
    },
    {
     "name": "stdout",
     "output_type": "stream",
     "text": [
      "Epoch 245, train_loss: 0.004266, train_acc: 1.000000, valid_acc 0.993919, Time 00:00:19, lr: 0.000008\n",
      "Epoch 246, train_loss: 0.004278, train_acc: 1.000000, valid_acc 0.993243, Time 00:00:18, lr: 0.000008\n",
      "Epoch 247, train_loss: 0.004244, train_acc: 1.000000, valid_acc 0.993919, Time 00:00:19, lr: 0.000008\n",
      "Epoch 248, train_loss: 0.004349, train_acc: 1.000000, valid_acc 0.993243, Time 00:00:19, lr: 0.000008\n",
      "Epoch 249, train_loss: 0.004181, train_acc: 1.000000, valid_acc 0.993243, Time 00:00:19, lr: 0.000008\n",
      "Epoch 250, train_loss: 0.004231, train_acc: 1.000000, valid_acc 0.993919, Time 00:00:18, lr: 0.000008\n"
     ]
    },
    {
     "data": {
      "image/png": "[encoded data removed]",
      "text/plain": [
       "<matplotlib.figure.Figure at 0x7f86713d38d0>"
      ]
     },
     "metadata": {},
     "output_type": "display_data"
    },
    {
     "data": {
      "text/plain": [
       "<matplotlib.figure.Figure at 0x7f867131dcf8>"
      ]
     },
     "metadata": {},
     "output_type": "display_data"
    }
   ],
   "source": [
    "net = get_net(ctx, num_classes=492)\n",
    "net.hybridize()\n",
    "train_center(train_data, valid_data, net, ctx, num_epoches, \n",
    "      learning_rate, lr_decay, lr_period, \n",
    "      momentum, weight_decay, cost_period, \n",
    "      print_cost=True)"
   ]
  },
  {
   "cell_type": "markdown",
   "metadata": {
    "collapsed": true
   },
   "source": [
    "## finetune"
   ]
  },
  {
   "cell_type": "code",
   "execution_count": null,
   "metadata": {
    "collapsed": true
   },
   "outputs": [],
   "source": [
    "pretrained_net = get_net(ctx=mx.gpu(0), num_classes=64)\n",
    "pretrained_net.hybridize()\n",
    "pretrained_net.load_params('fingervein_weight_centerloss_TJ.txt', ctx=mx.gpu(0))"
   ]
  },
  {
   "cell_type": "code",
   "execution_count": null,
   "metadata": {
    "collapsed": true
   },
   "outputs": [],
   "source": [
    "finetune_net = get_net(ctx=mx.gpu(0), num_classes=492)\n",
    "finetune_net.hybridize()\n",
    "finetune_net.features = pretrained_net.features\n",
    "finetune_net.output.initialize(init.Xavier(), ctx=mx.gpu(0))"
   ]
  },
  {
   "cell_type": "code",
   "execution_count": null,
   "metadata": {
    "collapsed": true
   },
   "outputs": [],
   "source": [
    "train_center(train_data, valid_data, finetune_net, ctx, num_epoches, \n",
    "      learning_rate, lr_decay, lr_period, \n",
    "      momentum, weight_decay, cost_period, \n",
    "      print_cost=True)"
   ]
  },
  {
   "cell_type": "code",
   "execution_count": null,
   "metadata": {
    "collapsed": true
   },
   "outputs": [],
   "source": []
  },
  {
   "cell_type": "markdown",
   "metadata": {},
   "source": [
    "## test accuracy softmax"
   ]
  },
  {
   "cell_type": "code",
   "execution_count": 21,
   "metadata": {
    "collapsed": true
   },
   "outputs": [],
   "source": [
    "finetune_net = get_net(ctx, num_classes=492)\n",
    "finetune_net.hybridize()\n",
    "finetune_net.load_params('fingervein_weight_centerloss_USM.txt', ctx = ctx)"
   ]
  },
  {
   "cell_type": "code",
   "execution_count": 22,
   "metadata": {},
   "outputs": [
    {
     "name": "stdout",
     "output_type": "stream",
     "text": [
      "0.994594594595\n"
     ]
    }
   ],
   "source": [
    "valid_acc = 0\n",
    "for data, label in valid_data:\n",
    "    data = data.as_in_context(ctx)\n",
    "    label = label.astype('float32').as_in_context(ctx)\n",
    "    output, features = finetune_net(data)\n",
    "    valid_acc += nd.mean(output.argmax(axis=1) == label).asscalar()\n",
    "print(valid_acc/len(valid_data))"
   ]
  },
  {
   "cell_type": "code",
   "execution_count": null,
   "metadata": {
    "collapsed": true
   },
   "outputs": [],
   "source": []
  },
  {
   "cell_type": "code",
   "execution_count": null,
   "metadata": {
    "collapsed": true
   },
   "outputs": [],
   "source": []
  },
  {
   "cell_type": "code",
   "execution_count": 13,
   "metadata": {
    "collapsed": true
   },
   "outputs": [],
   "source": [
    "transform_train = transforms.Compose([\n",
    "#     transforms.RandomFlipLeftRight(),\n",
    "#     transforms.RandomFlipTopBottom(),\n",
    "#     transforms.RandomBrightness(0.1), \n",
    "#     transforms.RandomContrast(0.1), \n",
    "    transforms.Resize(224), \n",
    "    transforms.ToTensor()\n",
    "])\n",
    "\n",
    "transform_valid = transforms.Compose([\n",
    "    transforms.Resize(224), \n",
    "    transforms.ToTensor()\n",
    "])"
   ]
  },
  {
   "cell_type": "code",
   "execution_count": 14,
   "metadata": {
    "collapsed": true
   },
   "outputs": [],
   "source": [
    "data_dir = './data/FV_USM/'\n",
    "batch_size = 8\n",
    "\n",
    "train_ds = vision.ImageFolderDataset(root=data_dir+'train', flag=1)\n",
    "valid_ds = vision.ImageFolderDataset(root=data_dir+'valid', flag=1)\n",
    "\n",
    "train_data = DataLoader(train_ds.transform_first(transform_train), \n",
    "                        batch_size, shuffle=False, last_batch='keep')\n",
    "valid_data = DataLoader(valid_ds.transform_first(transform_valid), \n",
    "                        batch_size, shuffle=False, last_batch='keep')"
   ]
  },
  {
   "cell_type": "code",
   "execution_count": 15,
   "metadata": {},
   "outputs": [
    {
     "name": "stdout",
     "output_type": "stream",
     "text": [
      "1476\n",
      "185\n",
      "(8, 3, 224, 224) (8,)\n",
      "\n",
      "[0 0 0 1 1 1 2 2]\n",
      "<NDArray 8 @gpu(0)>\n"
     ]
    }
   ],
   "source": [
    "print(len(valid_ds))\n",
    "\n",
    "print(len(valid_data))\n",
    "for data, label in valid_data:\n",
    "    print(data.shape, label.shape)\n",
    "    print(label.as_in_context(mx.gpu(0)))\n",
    "    break"
   ]
  },
  {
   "cell_type": "code",
   "execution_count": 29,
   "metadata": {
    "collapsed": true
   },
   "outputs": [],
   "source": [
    "fingervein_net = get_net(ctx=mx.gpu(0), num_classes=492)\n",
    "fingervein_net.hybridize()\n",
    "fingervein_net.load_params('fingervein_weight_centerloss_USM.txt', ctx=mx.gpu(0))"
   ]
  },
  {
   "cell_type": "code",
   "execution_count": 30,
   "metadata": {
    "collapsed": true
   },
   "outputs": [],
   "source": [
    "tr_features = np.zeros((1476, 1792))\n",
    "tr_labels = np.zeros((1476))\n",
    "i = 0\n",
    "for data, label in train_data:\n",
    "    data = data.as_in_context(mx.gpu(0))\n",
    "#             label = label.as_in_context(ctx)\n",
    "    label = label.astype('float32').as_in_context(mx.gpu(0))\n",
    "    output, features = fingervein_net(data)\n",
    "#     print(features.shape)\n",
    "    features = features.asnumpy()\n",
    "    label = label.asnumpy()\n",
    "#     print(features.shape)\n",
    "    if i+8 > 1476:\n",
    "        tr_features[i:1476, :] = features\n",
    "        tr_labels[i:1476] = label\n",
    "    else:\n",
    "        tr_features[i:i+8, :] = features\n",
    "        tr_labels[i:i+8] = label\n",
    "        i+=8"
   ]
  },
  {
   "cell_type": "code",
   "execution_count": 31,
   "metadata": {},
   "outputs": [
    {
     "name": "stdout",
     "output_type": "stream",
     "text": [
      "213.0\n"
     ]
    }
   ],
   "source": [
    "print(tr_labels[639])"
   ]
  },
  {
   "cell_type": "code",
   "execution_count": 32,
   "metadata": {
    "collapsed": true
   },
   "outputs": [],
   "source": [
    "te_features = np.zeros((1476, 1792))\n",
    "te_labels = np.zeros((1476))\n",
    "i = 0\n",
    "for data, label in valid_data:\n",
    "    data = data.as_in_context(mx.gpu(0))\n",
    "#             label = label.as_in_context(ctx)\n",
    "    label = label.astype('float32').as_in_context(mx.gpu(0))\n",
    "    output, features = fingervein_net(data)\n",
    "#     print(features.shape)\n",
    "    features = features.asnumpy()\n",
    "    label = label.asnumpy()\n",
    "#     print(features.shape)\n",
    "    if i+8 > 1476:\n",
    "        te_features[i:1476, :] = features\n",
    "        te_labels[i:1476] = label\n",
    "    else:\n",
    "        te_features[i:i+8, :] = features\n",
    "        te_labels[i:i+8] = label\n",
    "        i+=8"
   ]
  },
  {
   "cell_type": "code",
   "execution_count": 33,
   "metadata": {},
   "outputs": [
    {
     "name": "stdout",
     "output_type": "stream",
     "text": [
      "(1476, 1792)\n"
     ]
    }
   ],
   "source": [
    "print(te_features.shape)"
   ]
  },
  {
   "cell_type": "code",
   "execution_count": 34,
   "metadata": {
    "collapsed": true
   },
   "outputs": [],
   "source": [
    "def fingervein_dist(f1,f2,w=1):\n",
    "    if w == 1:\n",
    "        w = np.ones(f1.shape)\n",
    "    if len(f1.shape) == len(f2.shape) == 1:\n",
    "        dist = np.linalg.norm((f1-f2)*w)\n",
    "    else:\n",
    "        dist = np.linalg.norm((f1-f2)*w, axis=1)\n",
    "    return dist"
   ]
  },
  {
   "cell_type": "code",
   "execution_count": 35,
   "metadata": {
    "collapsed": true
   },
   "outputs": [],
   "source": [
    "def distance_based_prediction(FingerveinEmbedding, train_Labels, f):\n",
    "    \n",
    "    Dists = fingervein_dist(FingerveinEmbedding, f)\n",
    "    \n",
    "    i = np.argmin(Dists)\n",
    "    \n",
    "    return train_Labels[i]"
   ]
  },
  {
   "cell_type": "code",
   "execution_count": null,
   "metadata": {
    "collapsed": true
   },
   "outputs": [],
   "source": []
  },
  {
   "cell_type": "code",
   "execution_count": 36,
   "metadata": {},
   "outputs": [
    {
     "name": "stdout",
     "output_type": "stream",
     "text": [
      "Fingervein recognition accuracy using purely distance based method: 99.255 %\n"
     ]
    }
   ],
   "source": [
    "# test accuracy\n",
    "nCorrect = 0\n",
    "ntest = te_features.shape[0]\n",
    "for i in range(ntest):\n",
    "    p = distance_based_prediction(tr_features, tr_labels, te_features[i])\n",
    "    if p == te_labels[i]:\n",
    "        nCorrect += 1\n",
    "print('Fingervein recognition accuracy using purely distance based method: %3.3f %%' % (100.*(0.+nCorrect)/ntest))"
   ]
  },
  {
   "cell_type": "code",
   "execution_count": 37,
   "metadata": {},
   "outputs": [
    {
     "name": "stdout",
     "output_type": "stream",
     "text": [
      "1465\n"
     ]
    }
   ],
   "source": [
    "print(nCorrect)"
   ]
  },
  {
   "cell_type": "code",
   "execution_count": 38,
   "metadata": {},
   "outputs": [
    {
     "data": {
      "image/png": "[encoded data removed]",
      "text/plain": [
       "<matplotlib.figure.Figure at 0x7f059810a630>"
      ]
     },
     "metadata": {},
     "output_type": "display_data"
    }
   ],
   "source": [
    "pca = decomposition.PCA(n_components = 2)\n",
    "x_std = StandardScaler().fit_transform(tr_features)\n",
    "x_feature_pca = pca.fit_transform(x_std)\n",
    "plt.scatter(x_feature_pca[:,0],x_feature_pca[:,1],c=tr_labels, cmap='jet')\n",
    "plt.title('feature space')\n",
    "plt.savefig('feature space -center-loss -USM.png')"
   ]
  },
  {
   "cell_type": "code",
   "execution_count": null,
   "metadata": {
    "collapsed": true
   },
   "outputs": [],
   "source": []
  },
  {
   "cell_type": "code",
   "execution_count": 39,
   "metadata": {},
   "outputs": [
    {
     "name": "stderr",
     "output_type": "stream",
     "text": [
      "<input>:28: DeprecationWarning: invalid escape sequence \\-\n",
      "<input>:28: DeprecationWarning: invalid escape sequence \\-\n",
      "<input>:28: DeprecationWarning: invalid escape sequence \\-\n",
      "<input>:28: DeprecationWarning: invalid escape sequence \\-\n",
      "<input>:29: DeprecationWarning: invalid escape sequence \\-\n",
      "<input>:28: DeprecationWarning: invalid escape sequence \\-\n",
      "<input>:29: DeprecationWarning: invalid escape sequence \\-\n",
      "<input>:28: DeprecationWarning: invalid escape sequence \\-\n",
      "<input>:29: DeprecationWarning: invalid escape sequence \\-\n",
      "<ipython-input-39-ffd3f86caf31>:28: DeprecationWarning: invalid escape sequence \\-\n",
      "  print('Cross-class distance = %1.3f +\\- %1.3f' % (Distances_among_class.mean(), Distances_among_class.std()))\n",
      "<ipython-input-39-ffd3f86caf31>:29: DeprecationWarning: invalid escape sequence \\-\n",
      "  print('Same-class distance = %1.3f +\\- %1.3f' % (Distances_within_class.mean(), Distances_within_class.std()))\n"
     ]
    },
    {
     "name": "stdout",
     "output_type": "stream",
     "text": [
      "Cross-class distance = 2.441 +\\- 0.339\n",
      "Same-class distance = 0.326 +\\- 0.214\n"
     ]
    },
    {
     "data": {
      "image/png": "[encoded data removed]",
      "text/plain": [
       "<matplotlib.figure.Figure at 0x7f05980dc6d8>"
      ]
     },
     "metadata": {},
     "output_type": "display_data"
    }
   ],
   "source": [
    "Distances_within_class = []\n",
    "Distances_among_class = []\n",
    "\n",
    "ntrain = tr_features.shape[0]\n",
    "ntest = te_features.shape[0]\n",
    "\n",
    "for i in range(ntest):\n",
    "    for j in range(ntrain):\n",
    "        cur_dist = fingervein_dist(tr_features[j,:],te_features[i,:])\n",
    "        if te_labels[i] == tr_labels[j]:\n",
    "            Distances_within_class.append(cur_dist)\n",
    "        else:\n",
    "            Distances_among_class.append(cur_dist)\n",
    "            \n",
    "Distances_within_class = np.array(Distances_within_class)\n",
    "Distances_among_class = np.array(Distances_among_class)\n",
    "\n",
    "\n",
    "plt.figure()\n",
    "_ = plt.hist(Distances_among_class,bins = 50, label = 'inter-class',normed = True)\n",
    "_ = plt.hist(Distances_within_class,bins = 50, label = 'intra-class', normed = True)\n",
    "plt.title('Distribution of cross-class distance')\n",
    "plt.xlabel('distance')\n",
    "plt.ylabel('percent(%)')\n",
    "plt.legend()\n",
    "plt.savefig('Distribution of cross-class distance center-loss -USM.png')\n",
    "\n",
    "print('Cross-class distance = %1.3f +\\- %1.3f' % (Distances_among_class.mean(), Distances_among_class.std()))\n",
    "print('Same-class distance = %1.3f +\\- %1.3f' % (Distances_within_class.mean(), Distances_within_class.std()))"
   ]
  },
  {
   "cell_type": "code",
   "execution_count": 40,
   "metadata": {},
   "outputs": [
    {
     "name": "stdout",
     "output_type": "stream",
     "text": [
      "EER =  0.192259220623\n",
      "pct of false positive 0.153 %\n",
      "pct of false negative 0.248 %\n",
      "accuracy = 99.847\n"
     ]
    },
    {
     "data": {
      "image/png": "[encoded data removed]",
      "text/plain": [
       "<matplotlib.figure.Figure at 0x7f05981249e8>"
      ]
     },
     "metadata": {},
     "output_type": "display_data"
    }
   ],
   "source": [
    "FP = []\n",
    "FN = []\n",
    "GAR = []\n",
    "EER = 0\n",
    "for threshold in np.arange(0,max(Distances_among_class),0.01):\n",
    "    FP.append(100.0*np.sum(Distances_among_class<threshold)/len(Distances_among_class))\n",
    "    FN.append(100.0*np.sum(Distances_within_class>threshold)/len(Distances_within_class))\n",
    "    if np.abs((100.0*np.sum(Distances_among_class<threshold)/len(Distances_among_class)) - (100.0*np.sum(Distances_within_class>threshold)/len(Distances_within_class))) < 0.025:\n",
    "        print(\"EER = \", 0.5*(100.0*np.sum(Distances_among_class<threshold)/len(Distances_among_class)+100.0*np.sum(Distances_within_class>threshold)/len(Distances_within_class)))\n",
    "GAR = FN\n",
    "for i, value in enumerate(FN):\n",
    "    GAR[i] = 100 - FN[i]\n",
    "                                                                \n",
    "plt.plot(FP,GAR)\n",
    "plt.xlabel('False Acceptance Rate(%)')\n",
    "plt.ylabel('Genuine Acceptance Rate(%)')\n",
    "plt.title('ROC curve of FV-USM')\n",
    "plt.savefig('ROC curve -center-loss -USM.png')\n",
    "threshold = 1.5\n",
    "print('pct of false positive %2.3f %%' % (100.0*np.sum(Distances_among_class<threshold)/len(Distances_among_class)))\n",
    "print('pct of false negative %2.3f %%' % (100.0*np.sum(Distances_within_class>threshold)/len(Distances_within_class)))\n",
    "\n",
    "print('accuracy = %2.3f' % (100.0*(np.sum(Distances_among_class>threshold)+np.sum(Distances_within_class<threshold))/(len(Distances_among_class)+len(Distances_within_class))))"
   ]
  },
  {
   "cell_type": "code",
   "execution_count": null,
   "metadata": {
    "collapsed": true
   },
   "outputs": [],
   "source": [
    "a = [1, 2, 3]\n",
    "for i, value in enumerate(a):\n",
    "    a[i] -= 3"
   ]
  },
  {
   "cell_type": "code",
   "execution_count": null,
   "metadata": {
    "collapsed": true
   },
   "outputs": [],
   "source": [
    "a"
   ]
  },
  {
   "cell_type": "code",
   "execution_count": null,
   "metadata": {
    "collapsed": true
   },
   "outputs": [],
   "source": []
  }
 ],
 "metadata": {
  "kernelspec": {
   "display_name": "Python 3",
   "language": "python",
   "name": "python3"
  },
  "language_info": {
   "codemirror_mode": {
    "name": "ipython",
    "version": 3
   },
   "file_extension": ".py",
   "mimetype": "text/x-python",
   "name": "python",
   "nbconvert_exporter": "python",
   "pygments_lexer": "ipython3",
   "version": "3.6.3"
  }
 },
 "nbformat": 4,
 "nbformat_minor": 2
}
