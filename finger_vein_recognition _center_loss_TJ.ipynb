{
 "cells": [
  {
   "cell_type": "markdown",
   "metadata": {},
   "source": [
    "# 指静脉识别"
   ]
  },
  {
   "cell_type": "markdown",
   "metadata": {},
   "source": [
    "## 导入数据集"
   ]
  },
  {
   "cell_type": "markdown",
   "metadata": {},
   "source": [
    "### 导入包"
   ]
  },
  {
   "cell_type": "code",
   "execution_count": 1,
   "metadata": {},
   "outputs": [
    {
     "name": "stderr",
     "output_type": "stream",
     "text": [
      "/home/dyjng/anaconda3/lib/python3.6/site-packages/urllib3/contrib/pyopenssl.py:46: DeprecationWarning: OpenSSL.rand is deprecated - you should use os.urandom instead\n",
      "  import OpenSSL.SSL\n"
     ]
    }
   ],
   "source": [
    "import mxnet as mx\n",
    "from mxnet import ndarray as nd\n",
    "from mxnet import autograd as ag\n",
    "from mxnet import gluon\n",
    "from mxnet.gluon.data import vision\n",
    "from mxnet.gluon.data.vision import transforms\n",
    "from mxnet.gluon.data import DataLoader\n",
    "from mxnet.gluon.model_zoo import vision as models\n",
    "from mxnet.gluon import nn\n",
    "from mxnet import init\n",
    "%matplotlib inline\n",
    "import matplotlib as mpl\n",
    "mpl.rcParams['figure.dpi'] = 120\n",
    "import matplotlib.pyplot as plt\n",
    "import datetime\n",
    "import numpy as np\n",
    "import os\n",
    "from scipy import misc\n",
    "from sklearn import decomposition\n",
    "from sklearn.preprocessing import StandardScaler"
   ]
  },
  {
   "cell_type": "code",
   "execution_count": 4,
   "metadata": {
    "collapsed": true
   },
   "outputs": [],
   "source": [
    "transform_train = transforms.Compose([\n",
    "#     transforms.RandomFlipLeftRight(),\n",
    "#     transforms.RandomFlipTopBottom(),\n",
    "#     transforms.RandomBrightness(0.1), \n",
    "#     transforms.RandomContrast(0.1), \n",
    "    transforms.Resize(224), \n",
    "    transforms.ToTensor()\n",
    "])\n",
    "\n",
    "transform_valid = transforms.Compose([\n",
    "    transforms.Resize(224), \n",
    "    transforms.ToTensor()\n",
    "])"
   ]
  },
  {
   "cell_type": "code",
   "execution_count": 5,
   "metadata": {
    "collapsed": true
   },
   "outputs": [],
   "source": [
    "# pretrained\n",
    "data_dir = './data/FV_TJ_all/'\n",
    "batch_size = 8\n",
    "\n",
    "train_ds = vision.ImageFolderDataset(root=data_dir, flag=1)\n",
    "\n",
    "train_data = DataLoader(train_ds.transform_first(transform_train), \n",
    "                        batch_size, shuffle=True, last_batch='keep')"
   ]
  },
  {
   "cell_type": "code",
   "execution_count": null,
   "metadata": {
    "collapsed": true
   },
   "outputs": [],
   "source": [
    "# transforms.RandomContrast??"
   ]
  },
  {
   "cell_type": "code",
   "execution_count": 6,
   "metadata": {
    "collapsed": true
   },
   "outputs": [],
   "source": [
    "data_dir = './data/FV_TJ/'\n",
    "batch_size = 8\n",
    "\n",
    "train_ds = vision.ImageFolderDataset(root=data_dir+'train', flag=1)\n",
    "valid_ds = vision.ImageFolderDataset(root=data_dir+'valid', flag=1)\n",
    "\n",
    "train_data = DataLoader(train_ds.transform_first(transform_train), \n",
    "                        batch_size, shuffle=True, last_batch='keep')\n",
    "valid_data = DataLoader(valid_ds.transform_first(transform_valid), \n",
    "                        batch_size, shuffle=False, last_batch='keep')"
   ]
  },
  {
   "cell_type": "code",
   "execution_count": 7,
   "metadata": {},
   "outputs": [
    {
     "name": "stdout",
     "output_type": "stream",
     "text": [
      "320\n",
      "40\n",
      "(8, 3, 224, 224) (8,)\n",
      "\n",
      "[11 44 49  4 27 56 33 49]\n",
      "<NDArray 8 @gpu(0)>\n"
     ]
    }
   ],
   "source": [
    "print(len(train_ds))\n",
    "\n",
    "print(len(train_data))\n",
    "for data, label in train_data:\n",
    "    print(data.shape, label.shape)\n",
    "    print(label.as_in_context(mx.gpu(0)))\n",
    "    break"
   ]
  },
  {
   "cell_type": "markdown",
   "metadata": {},
   "source": [
    "## softmax loss"
   ]
  },
  {
   "cell_type": "code",
   "execution_count": 2,
   "metadata": {
    "collapsed": true
   },
   "outputs": [],
   "source": [
    "softmax_cross_entropy = gluon.loss.SoftmaxCrossEntropyLoss()"
   ]
  },
  {
   "cell_type": "markdown",
   "metadata": {},
   "source": [
    "## center loss"
   ]
  },
  {
   "cell_type": "code",
   "execution_count": 3,
   "metadata": {
    "collapsed": true
   },
   "outputs": [],
   "source": [
    "class CenterLoss(gluon.HybridBlock):\n",
    "    r\"\"\"\n",
    "    Center Loss: A Discriminative Feature Learning Approach for Deep Face Recognition\n",
    "    \"\"\"\n",
    "    def __init__(self, num_classes, feature_size, lmbd, **kwargs):\n",
    "        super(CenterLoss, self).__init__(**kwargs)\n",
    "        self._num_classes = num_classes\n",
    "        self._feature_size = feature_size\n",
    "        self._lmda = lmbd\n",
    "        self.centers = self.params.get('centers', shape=(num_classes, feature_size))\n",
    "\n",
    "    def hybrid_forward(self, F, feature, label, centers):\n",
    "        hist = F.array(np.bincount(label.asnumpy().astype(int)))\n",
    "        centers_count = F.take(hist, label)\n",
    "        centers_selected = F.take(centers, label)\n",
    "        diff = feature - centers_selected\n",
    "        loss = self._lmda * 0.5 * F.sum(F.square(diff), 1) / centers_count\n",
    "        return F.mean(loss, axis=0, exclude=True)"
   ]
  },
  {
   "cell_type": "code",
   "execution_count": 4,
   "metadata": {
    "collapsed": true
   },
   "outputs": [],
   "source": [
    "center_loss = CenterLoss(num_classes=64, feature_size=1792, lmbd=0.2) #lmbd = 0.2 99.4595"
   ]
  },
  {
   "cell_type": "markdown",
   "metadata": {},
   "source": [
    "## triplet loss"
   ]
  },
  {
   "cell_type": "code",
   "execution_count": 11,
   "metadata": {
    "collapsed": true
   },
   "outputs": [],
   "source": [
    "# triplet_loss = gluon.loss.TripletLoss()"
   ]
  },
  {
   "cell_type": "code",
   "execution_count": 12,
   "metadata": {
    "collapsed": true
   },
   "outputs": [],
   "source": [
    "# gluon.loss.TripletLoss??"
   ]
  },
  {
   "cell_type": "markdown",
   "metadata": {},
   "source": [
    "## 定义模型 --FingerveinNet"
   ]
  },
  {
   "cell_type": "code",
   "execution_count": 5,
   "metadata": {
    "collapsed": true
   },
   "outputs": [],
   "source": [
    "class block_35(nn.HybridBlock):\n",
    "    def __init__(self, channels, **kwargs):\n",
    "        super(block_35, self).__init__(**kwargs)\n",
    "        with self.name_scope():\n",
    "            branch_1 = nn.HybridSequential()\n",
    "            branch_1.add(nn.Conv2D(channels=channels[0], kernel_size=1, \n",
    "                                   strides=1, padding=0))\n",
    "            branch_1.add(nn.BatchNorm())\n",
    "            branch_1.add(nn.Activation(activation='relu'))\n",
    "            \n",
    "            branch_2 = nn.HybridSequential()\n",
    "            branch_2.add(nn.Conv2D(channels=channels[1], kernel_size=1, \n",
    "                                   strides=1, padding=0))\n",
    "            branch_2.add(nn.BatchNorm())\n",
    "            branch_2.add(nn.Activation(activation='relu'))\n",
    "            branch_2.add(nn.Conv2D(channels=channels[2], kernel_size=3, \n",
    "                                   strides=1, padding=1))\n",
    "            branch_2.add(nn.BatchNorm())\n",
    "            branch_2.add(nn.Activation(activation='relu'))\n",
    "            \n",
    "            branch_3 = nn.HybridSequential()\n",
    "            branch_3.add(nn.Conv2D(channels=channels[3], kernel_size=1, \n",
    "                                   strides=1, padding=0))\n",
    "            branch_3.add(nn.BatchNorm())\n",
    "            branch_3.add(nn.Activation(activation='relu'))\n",
    "            branch_3.add(nn.Conv2D(channels=channels[4], kernel_size=5, \n",
    "                                   strides=1, padding=2))\n",
    "            branch_3.add(nn.BatchNorm())\n",
    "            branch_3.add(nn.Activation(activation='relu'))\n",
    "            \n",
    "#             branch_4 = nn.HybridSequential()\n",
    "#             branch_4.add(nn.MaxPool2D(pool_size=3, strides=1, padding=1))\n",
    "#             branch_4.add(nn.Conv2D(channels=channels[5], kernel_size=1, \n",
    "#                                    strides=1, padding=0))\n",
    "            \n",
    "            self.up = nn.Conv2D(channels=channels[6], kernel_size=1, \n",
    "                                strides=1, padding=0)\n",
    "            \n",
    "            self.bn = nn.BatchNorm()\n",
    "            \n",
    "        self.branch_1 = branch_1\n",
    "        self.branch_2 = branch_2\n",
    "        self.branch_3 = branch_3\n",
    "#         self.branch_4 = branch_4\n",
    "    \n",
    "    def hybrid_forward(self, F, x):\n",
    "        out1 = out2 = out3 = out4 = x\n",
    "        for layer in self.branch_1:\n",
    "            out1 = layer(out1)\n",
    "        for layer in self.branch_2:\n",
    "            out2 = layer(out2)\n",
    "        for layer in self.branch_3:\n",
    "            out3 = layer(out3)\n",
    "#         for layer in self.branch_4:\n",
    "#             out4 = layer(out4)\n",
    "#         mixed = F.concat(out1, out2, out3, out4, dim=1)\n",
    "        mixed = F.concat(out1, out2, out3, dim=1)\n",
    "        up = self.up(mixed)\n",
    "            \n",
    "        out = F.relu(self.bn(up + x))\n",
    "        \n",
    "        return out"
   ]
  },
  {
   "cell_type": "code",
   "execution_count": 6,
   "metadata": {
    "collapsed": true
   },
   "outputs": [],
   "source": [
    "class block_17(nn.HybridBlock):\n",
    "    def __init__(self, channels, **kwargs):\n",
    "        super(block_17, self).__init__(**kwargs)\n",
    "        with self.name_scope():\n",
    "            branch_1 = nn.HybridSequential()\n",
    "            branch_1.add(nn.Conv2D(channels=channels[0], kernel_size=1, \n",
    "                                   strides=1, padding=0))\n",
    "            branch_1.add(nn.BatchNorm())\n",
    "            branch_1.add(nn.Activation(activation='relu'))\n",
    "            \n",
    "            branch_2 = nn.HybridSequential()\n",
    "            branch_2.add(nn.Conv2D(channels=channels[1], kernel_size=1, \n",
    "                                   strides=1, padding=0))\n",
    "            branch_2.add(nn.BatchNorm())\n",
    "            branch_2.add(nn.Activation(activation='relu'))\n",
    "            branch_2.add(nn.Conv2D(channels=channels[2], kernel_size=(1, 7), \n",
    "                                   strides=1, padding=(0, 3)))\n",
    "            branch_2.add(nn.BatchNorm())\n",
    "            branch_2.add(nn.Activation(activation='relu'))\n",
    "            branch_2.add(nn.Conv2D(channels=channels[3], kernel_size=(7, 1), \n",
    "                                   strides=1, padding=(3, 0)))\n",
    "            branch_2.add(nn.BatchNorm())\n",
    "            branch_2.add(nn.Activation(activation='relu'))\n",
    "            \n",
    "            self.up = nn.Conv2D(channels=channels[4], kernel_size=1, \n",
    "                                strides=1, padding=0)\n",
    "            \n",
    "            self.bn = nn.BatchNorm()\n",
    "            \n",
    "        self.branch_1 = branch_1\n",
    "        self.branch_2 = branch_2\n",
    "    \n",
    "    def hybrid_forward(self, F, x):\n",
    "        out1 = out2 = x\n",
    "        for layer in self.branch_1:\n",
    "            out1 = layer(out1)\n",
    "        for layer in self.branch_2:\n",
    "            out2 = layer(out2)\n",
    "        mixed = F.concat(out1, out2, dim=1)\n",
    "        up = self.up(mixed)\n",
    "            \n",
    "        out = F.relu(self.bn(up + x))\n",
    "        \n",
    "        return out"
   ]
  },
  {
   "cell_type": "code",
   "execution_count": 7,
   "metadata": {
    "collapsed": true
   },
   "outputs": [],
   "source": [
    "class block_13(nn.HybridBlock):\n",
    "    def __init__(self, channels, **kwargs):\n",
    "        super(block_13, self).__init__(**kwargs)\n",
    "        with self.name_scope():\n",
    "            branch_1 = nn.HybridSequential()\n",
    "            branch_1.add(nn.Conv2D(channels=channels[0], kernel_size=1, \n",
    "                                   strides=1, padding=0))\n",
    "            branch_1.add(nn.BatchNorm())\n",
    "            branch_1.add(nn.Activation(activation='relu'))\n",
    "            \n",
    "            branch_2 = nn.HybridSequential()\n",
    "            branch_2.add(nn.Conv2D(channels=channels[1], kernel_size=1, \n",
    "                                   strides=1, padding=0))\n",
    "            branch_2.add(nn.BatchNorm())\n",
    "            branch_2.add(nn.Activation(activation='relu'))\n",
    "            branch_2.add(nn.Conv2D(channels=channels[2], kernel_size=(1, 3), \n",
    "                                   strides=1, padding=(0, 1)))\n",
    "            branch_2.add(nn.BatchNorm())\n",
    "            branch_2.add(nn.Activation(activation='relu'))\n",
    "            branch_2.add(nn.Conv2D(channels=channels[3], kernel_size=(3, 1), \n",
    "                                   strides=1, padding=(1, 0)))\n",
    "            branch_2.add(nn.BatchNorm())\n",
    "            branch_2.add(nn.Activation(activation='relu'))\n",
    "            \n",
    "            self.up = nn.Conv2D(channels=channels[4], kernel_size=1, \n",
    "                                strides=1, padding=0)\n",
    "            \n",
    "            self.bn = nn.BatchNorm()\n",
    "            \n",
    "        self.branch_1 = branch_1\n",
    "        self.branch_2 = branch_2\n",
    "    \n",
    "    def hybrid_forward(self, F, x):\n",
    "        out1 = out2 = x\n",
    "        for layer in self.branch_1:\n",
    "            out1 = layer(out1)\n",
    "        for layer in self.branch_2:\n",
    "            out2 = layer(out2)\n",
    "        mixed = F.concat(out1, out2, dim=1)\n",
    "        up = self.up(mixed)\n",
    "            \n",
    "        out = F.relu(self.bn(up + x))\n",
    "        \n",
    "        return out"
   ]
  },
  {
   "cell_type": "code",
   "execution_count": 8,
   "metadata": {
    "collapsed": true
   },
   "outputs": [],
   "source": [
    "class FingerveinNet(nn.HybridBlock):\n",
    "    def __init__(self, num_classes, verbose=False, **kwargs):\n",
    "        super(FingerveinNet, self).__init__(**kwargs)\n",
    "        self.verbose = verbose\n",
    "        with self.name_scope():\n",
    "            features = nn.HybridSequential()\n",
    "            # Stage 1\n",
    "            features.add(nn.Conv2D(channels=64, kernel_size=3, \n",
    "                              strides=1, padding=1))\n",
    "            features.add(nn.BatchNorm())\n",
    "            features.add(nn.Activation(activation='relu'))\n",
    "            features.add(nn.Conv2D(channels=192, kernel_size=3, \n",
    "                              strides=2, padding=1))\n",
    "            features.add(nn.BatchNorm())\n",
    "            features.add(nn.Activation(activation='relu'))\n",
    "            features.add(nn.MaxPool2D(pool_size=3, strides=2, padding=1))\n",
    "            # Stage 2\n",
    "            features.add(nn.Conv2D(channels=64, kernel_size=1, \n",
    "                              strides=1, padding=0))\n",
    "            features.add(nn.BatchNorm())\n",
    "            features.add(nn.Activation(activation='relu'))\n",
    "            features.add(nn.Conv2D(channels=256, kernel_size=3, \n",
    "                              strides=1, padding=1))\n",
    "            features.add(nn.BatchNorm())\n",
    "            features.add(nn.Activation(activation='relu'))\n",
    "            features.add(nn.MaxPool2D(pool_size=3, strides=2, padding=1))\n",
    "            # Stage 3\n",
    "            features.add(block_35(channels=[32, 32, 32, 32, 32, 32, 256]))\n",
    "#             net.add(block_35(channels=[32, 32, 32, 32, 32, 32, 256]))\n",
    "#             net.add(block_35(channels=[32, 32, 32, 32, 32, 32, 256]))\n",
    "            features.add(nn.Conv2D(channels=896, kernel_size=3, \n",
    "                              strides=1, padding=1))\n",
    "            features.add(nn.BatchNorm())\n",
    "            features.add(nn.Activation(activation='relu'))\n",
    "            features.add(nn.MaxPool2D(pool_size=3, strides=2, padding=1))\n",
    "            # Stage 4\n",
    "            features.add(block_17(channels=[128, 128, 128, 128, 896]))\n",
    "            features.add(block_17(channels=[128, 128, 128, 128, 896]))\n",
    "            features.add(block_17(channels=[128, 128, 128, 128, 896]))\n",
    "#             net.add(block_17(channels=[128, 128, 128, 128, 896]))\n",
    "#             net.add(block_17(channels=[128, 128, 128, 128, 896]))\n",
    "            features.add(nn.Conv2D(channels=1792, kernel_size=3, \n",
    "                              strides=1, padding=1))\n",
    "            features.add(nn.BatchNorm())\n",
    "            features.add(nn.Activation(activation='relu'))\n",
    "            features.add(nn.MaxPool2D(pool_size=3, strides=2, padding=1))\n",
    "            # Stage 5\n",
    "            features.add(block_13(channels=[192, 192, 192, 192, 1792]))\n",
    "#             net.add(block_13(channels=[192, 192, 192, 192, 1792]))\n",
    "#             net.add(block_13(channels=[192, 192, 192, 192, 1792]))\n",
    "            features.add(nn.AvgPool2D(pool_size=7, strides=1, padding=0))\n",
    "            # classification\n",
    "#             net.add(nn.Dropout(0.2))\n",
    "            features.add(nn.Flatten())\n",
    "            \n",
    "            output = nn.Dense(num_classes)\n",
    "        \n",
    "        self.features = features\n",
    "        self.output = output\n",
    "        \n",
    "    def hybrid_forward(self, F, x):\n",
    "        for i, layer in enumerate(self.features):\n",
    "            feat = layer(x)\n",
    "            x = feat\n",
    "            if self.verbose:\n",
    "                print('Block %d, Output: %s' % (i+1, out.shape))\n",
    "        out = self.output(feat)\n",
    "        return out, feat"
   ]
  },
  {
   "cell_type": "code",
   "execution_count": 9,
   "metadata": {
    "collapsed": true
   },
   "outputs": [],
   "source": [
    "def get_net(ctx, num_classes=100):\n",
    "    net = FingerveinNet(num_classes)\n",
    "#     net = ResNet(num_classes)\n",
    "#     net = ResNet50(num_classes)\n",
    "    net.initialize(ctx=ctx, init=init.Xavier())\n",
    "    return net"
   ]
  },
  {
   "cell_type": "code",
   "execution_count": 18,
   "metadata": {},
   "outputs": [
    {
     "data": {
      "text/plain": [
       "FingerveinNet(\n",
       "  (features): HybridSequential(\n",
       "    (0): Conv2D(None -> 64, kernel_size=(3, 3), stride=(1, 1), padding=(1, 1))\n",
       "    (1): BatchNorm(axis=1, eps=1e-05, momentum=0.9, fix_gamma=False, use_global_stats=False, in_channels=None)\n",
       "    (2): Activation(relu)\n",
       "    (3): Conv2D(None -> 192, kernel_size=(3, 3), stride=(2, 2), padding=(1, 1))\n",
       "    (4): BatchNorm(axis=1, eps=1e-05, momentum=0.9, fix_gamma=False, use_global_stats=False, in_channels=None)\n",
       "    (5): Activation(relu)\n",
       "    (6): MaxPool2D(size=(3, 3), stride=(2, 2), padding=(1, 1), ceil_mode=False)\n",
       "    (7): Conv2D(None -> 64, kernel_size=(1, 1), stride=(1, 1))\n",
       "    (8): BatchNorm(axis=1, eps=1e-05, momentum=0.9, fix_gamma=False, use_global_stats=False, in_channels=None)\n",
       "    (9): Activation(relu)\n",
       "    (10): Conv2D(None -> 256, kernel_size=(3, 3), stride=(1, 1), padding=(1, 1))\n",
       "    (11): BatchNorm(axis=1, eps=1e-05, momentum=0.9, fix_gamma=False, use_global_stats=False, in_channels=None)\n",
       "    (12): Activation(relu)\n",
       "    (13): MaxPool2D(size=(3, 3), stride=(2, 2), padding=(1, 1), ceil_mode=False)\n",
       "    (14): block_35(\n",
       "      (up): Conv2D(None -> 256, kernel_size=(1, 1), stride=(1, 1))\n",
       "      (bn): BatchNorm(axis=1, eps=1e-05, momentum=0.9, fix_gamma=False, use_global_stats=False, in_channels=None)\n",
       "      (branch_1): HybridSequential(\n",
       "        (0): Conv2D(None -> 32, kernel_size=(1, 1), stride=(1, 1))\n",
       "        (1): BatchNorm(axis=1, eps=1e-05, momentum=0.9, fix_gamma=False, use_global_stats=False, in_channels=None)\n",
       "        (2): Activation(relu)\n",
       "      )\n",
       "      (branch_2): HybridSequential(\n",
       "        (0): Conv2D(None -> 32, kernel_size=(1, 1), stride=(1, 1))\n",
       "        (1): BatchNorm(axis=1, eps=1e-05, momentum=0.9, fix_gamma=False, use_global_stats=False, in_channels=None)\n",
       "        (2): Activation(relu)\n",
       "        (3): Conv2D(None -> 32, kernel_size=(3, 3), stride=(1, 1), padding=(1, 1))\n",
       "        (4): BatchNorm(axis=1, eps=1e-05, momentum=0.9, fix_gamma=False, use_global_stats=False, in_channels=None)\n",
       "        (5): Activation(relu)\n",
       "      )\n",
       "      (branch_3): HybridSequential(\n",
       "        (0): Conv2D(None -> 32, kernel_size=(1, 1), stride=(1, 1))\n",
       "        (1): BatchNorm(axis=1, eps=1e-05, momentum=0.9, fix_gamma=False, use_global_stats=False, in_channels=None)\n",
       "        (2): Activation(relu)\n",
       "        (3): Conv2D(None -> 32, kernel_size=(5, 5), stride=(1, 1), padding=(2, 2))\n",
       "        (4): BatchNorm(axis=1, eps=1e-05, momentum=0.9, fix_gamma=False, use_global_stats=False, in_channels=None)\n",
       "        (5): Activation(relu)\n",
       "      )\n",
       "    )\n",
       "    (15): Conv2D(None -> 896, kernel_size=(3, 3), stride=(1, 1), padding=(1, 1))\n",
       "    (16): BatchNorm(axis=1, eps=1e-05, momentum=0.9, fix_gamma=False, use_global_stats=False, in_channels=None)\n",
       "    (17): Activation(relu)\n",
       "    (18): MaxPool2D(size=(3, 3), stride=(2, 2), padding=(1, 1), ceil_mode=False)\n",
       "    (19): block_17(\n",
       "      (up): Conv2D(None -> 896, kernel_size=(1, 1), stride=(1, 1))\n",
       "      (bn): BatchNorm(axis=1, eps=1e-05, momentum=0.9, fix_gamma=False, use_global_stats=False, in_channels=None)\n",
       "      (branch_1): HybridSequential(\n",
       "        (0): Conv2D(None -> 128, kernel_size=(1, 1), stride=(1, 1))\n",
       "        (1): BatchNorm(axis=1, eps=1e-05, momentum=0.9, fix_gamma=False, use_global_stats=False, in_channels=None)\n",
       "        (2): Activation(relu)\n",
       "      )\n",
       "      (branch_2): HybridSequential(\n",
       "        (0): Conv2D(None -> 128, kernel_size=(1, 1), stride=(1, 1))\n",
       "        (1): BatchNorm(axis=1, eps=1e-05, momentum=0.9, fix_gamma=False, use_global_stats=False, in_channels=None)\n",
       "        (2): Activation(relu)\n",
       "        (3): Conv2D(None -> 128, kernel_size=(1, 7), stride=(1, 1), padding=(0, 3))\n",
       "        (4): BatchNorm(axis=1, eps=1e-05, momentum=0.9, fix_gamma=False, use_global_stats=False, in_channels=None)\n",
       "        (5): Activation(relu)\n",
       "        (6): Conv2D(None -> 128, kernel_size=(7, 1), stride=(1, 1), padding=(3, 0))\n",
       "        (7): BatchNorm(axis=1, eps=1e-05, momentum=0.9, fix_gamma=False, use_global_stats=False, in_channels=None)\n",
       "        (8): Activation(relu)\n",
       "      )\n",
       "    )\n",
       "    (20): block_17(\n",
       "      (up): Conv2D(None -> 896, kernel_size=(1, 1), stride=(1, 1))\n",
       "      (bn): BatchNorm(axis=1, eps=1e-05, momentum=0.9, fix_gamma=False, use_global_stats=False, in_channels=None)\n",
       "      (branch_1): HybridSequential(\n",
       "        (0): Conv2D(None -> 128, kernel_size=(1, 1), stride=(1, 1))\n",
       "        (1): BatchNorm(axis=1, eps=1e-05, momentum=0.9, fix_gamma=False, use_global_stats=False, in_channels=None)\n",
       "        (2): Activation(relu)\n",
       "      )\n",
       "      (branch_2): HybridSequential(\n",
       "        (0): Conv2D(None -> 128, kernel_size=(1, 1), stride=(1, 1))\n",
       "        (1): BatchNorm(axis=1, eps=1e-05, momentum=0.9, fix_gamma=False, use_global_stats=False, in_channels=None)\n",
       "        (2): Activation(relu)\n",
       "        (3): Conv2D(None -> 128, kernel_size=(1, 7), stride=(1, 1), padding=(0, 3))\n",
       "        (4): BatchNorm(axis=1, eps=1e-05, momentum=0.9, fix_gamma=False, use_global_stats=False, in_channels=None)\n",
       "        (5): Activation(relu)\n",
       "        (6): Conv2D(None -> 128, kernel_size=(7, 1), stride=(1, 1), padding=(3, 0))\n",
       "        (7): BatchNorm(axis=1, eps=1e-05, momentum=0.9, fix_gamma=False, use_global_stats=False, in_channels=None)\n",
       "        (8): Activation(relu)\n",
       "      )\n",
       "    )\n",
       "    (21): block_17(\n",
       "      (up): Conv2D(None -> 896, kernel_size=(1, 1), stride=(1, 1))\n",
       "      (bn): BatchNorm(axis=1, eps=1e-05, momentum=0.9, fix_gamma=False, use_global_stats=False, in_channels=None)\n",
       "      (branch_1): HybridSequential(\n",
       "        (0): Conv2D(None -> 128, kernel_size=(1, 1), stride=(1, 1))\n",
       "        (1): BatchNorm(axis=1, eps=1e-05, momentum=0.9, fix_gamma=False, use_global_stats=False, in_channels=None)\n",
       "        (2): Activation(relu)\n",
       "      )\n",
       "      (branch_2): HybridSequential(\n",
       "        (0): Conv2D(None -> 128, kernel_size=(1, 1), stride=(1, 1))\n",
       "        (1): BatchNorm(axis=1, eps=1e-05, momentum=0.9, fix_gamma=False, use_global_stats=False, in_channels=None)\n",
       "        (2): Activation(relu)\n",
       "        (3): Conv2D(None -> 128, kernel_size=(1, 7), stride=(1, 1), padding=(0, 3))\n",
       "        (4): BatchNorm(axis=1, eps=1e-05, momentum=0.9, fix_gamma=False, use_global_stats=False, in_channels=None)\n",
       "        (5): Activation(relu)\n",
       "        (6): Conv2D(None -> 128, kernel_size=(7, 1), stride=(1, 1), padding=(3, 0))\n",
       "        (7): BatchNorm(axis=1, eps=1e-05, momentum=0.9, fix_gamma=False, use_global_stats=False, in_channels=None)\n",
       "        (8): Activation(relu)\n",
       "      )\n",
       "    )\n",
       "    (22): Conv2D(None -> 1792, kernel_size=(3, 3), stride=(1, 1), padding=(1, 1))\n",
       "    (23): BatchNorm(axis=1, eps=1e-05, momentum=0.9, fix_gamma=False, use_global_stats=False, in_channels=None)\n",
       "    (24): Activation(relu)\n",
       "    (25): MaxPool2D(size=(3, 3), stride=(2, 2), padding=(1, 1), ceil_mode=False)\n",
       "    (26): block_13(\n",
       "      (up): Conv2D(None -> 1792, kernel_size=(1, 1), stride=(1, 1))\n",
       "      (bn): BatchNorm(axis=1, eps=1e-05, momentum=0.9, fix_gamma=False, use_global_stats=False, in_channels=None)\n",
       "      (branch_1): HybridSequential(\n",
       "        (0): Conv2D(None -> 192, kernel_size=(1, 1), stride=(1, 1))\n",
       "        (1): BatchNorm(axis=1, eps=1e-05, momentum=0.9, fix_gamma=False, use_global_stats=False, in_channels=None)\n",
       "        (2): Activation(relu)\n",
       "      )\n",
       "      (branch_2): HybridSequential(\n",
       "        (0): Conv2D(None -> 192, kernel_size=(1, 1), stride=(1, 1))\n",
       "        (1): BatchNorm(axis=1, eps=1e-05, momentum=0.9, fix_gamma=False, use_global_stats=False, in_channels=None)\n",
       "        (2): Activation(relu)\n",
       "        (3): Conv2D(None -> 192, kernel_size=(1, 3), stride=(1, 1), padding=(0, 1))\n",
       "        (4): BatchNorm(axis=1, eps=1e-05, momentum=0.9, fix_gamma=False, use_global_stats=False, in_channels=None)\n",
       "        (5): Activation(relu)\n",
       "        (6): Conv2D(None -> 192, kernel_size=(3, 1), stride=(1, 1), padding=(1, 0))\n",
       "        (7): BatchNorm(axis=1, eps=1e-05, momentum=0.9, fix_gamma=False, use_global_stats=False, in_channels=None)\n",
       "        (8): Activation(relu)\n",
       "      )\n",
       "    )\n",
       "    (27): AvgPool2D(size=(7, 7), stride=(1, 1), padding=(0, 0), ceil_mode=False)\n",
       "    (28): Flatten\n",
       "  )\n",
       "  (output): Dense(None -> 64, linear)\n",
       ")"
      ]
     },
     "execution_count": 18,
     "metadata": {},
     "output_type": "execute_result"
    }
   ],
   "source": [
    "FingerveinNet(num_classes=64, verbose=True)"
   ]
  },
  {
   "cell_type": "markdown",
   "metadata": {},
   "source": [
    "## softmax loss trainning"
   ]
  },
  {
   "cell_type": "code",
   "execution_count": 19,
   "metadata": {
    "collapsed": true
   },
   "outputs": [],
   "source": [
    "\n",
    "def train_softmax(train_data, valid_data, net, ctx, num_epoches, \n",
    "          learning_rate=0.01, lr_decay=0.1, lr_period=50, \n",
    "          momentum = 0.9, weight_decay=0, cost_period = 10, \n",
    "          print_cost=False):\n",
    "    costs = []\n",
    "    max_acc = 0\n",
    "#     trainer = gluon.Trainer(net.collect_params(), 'sgd', \n",
    "#                             {'learning_rate': learning_rate, \n",
    "#                              'momentum': momentum, \n",
    "#                              'wd': weight_decay})\n",
    "    trainer = gluon.Trainer(net.collect_params(), 'adam', \n",
    "                            {'learning_rate': learning_rate})\n",
    "    pre_time = datetime.datetime.now()\n",
    "#     moving_loss = 0\n",
    "#     niter = 0\n",
    "    for epoch in range(num_epoches):\n",
    "        train_loss = 0\n",
    "        train_acc = 0\n",
    "        if (epoch+1) in lr_period:\n",
    "            trainer.set_learning_rate(trainer.learning_rate * lr_decay)\n",
    "        for data, label in train_data:\n",
    "            data = data.as_in_context(ctx)\n",
    "#             label = label.as_in_context(ctx)\n",
    "            label = label.astype('float32').as_in_context(ctx)\n",
    "            with ag.record():\n",
    "                output, features = net(data)\n",
    "                loss = softmax_cross_entropy(output, label)\n",
    "            loss.backward()\n",
    "            trainer.step(batch_size)\n",
    "            train_loss += nd.mean(loss).asscalar()\n",
    "#             print(output.argmax(axis=1).astype(np.int64), label)\n",
    "            train_acc += nd.mean(output.argmax(axis=1) == label).asscalar()\n",
    "#             train_acc += nd.mean(output.argmax(axis=1).astype(np.int64) == label).asscalar()\n",
    "#             niter += 1\n",
    "#             cur_loss = nd.mean(loss).asscalar()\n",
    "#             moving_loss = 0.9 * moving_loss + 0.1 * cur_loss\n",
    "#             corr_loss = moving_loss / (1 - pow(0.9, niter))\n",
    "        cur_time = datetime.datetime.now()\n",
    "        h, remainder = divmod((cur_time - pre_time).seconds, 3600)\n",
    "        m, s = divmod(remainder, 60)\n",
    "        time_str = \"Time %02d:%02d:%02d\" % (h, m, s)\n",
    "        if valid_data is not None:\n",
    "            valid_acc = 0\n",
    "            for data, label in valid_data:\n",
    "                data = data.as_in_context(ctx)\n",
    "#                 label = label.as_in_context(ctx)\n",
    "                label = label.astype('float32').as_in_context(ctx)\n",
    "                output, features = net(data)\n",
    "#                 valid_acc += nd.mean(output.argmax(axis=1).astype(np.int64) == label).asscalar()\n",
    "                valid_acc += nd.mean(output.argmax(axis=1) == label).asscalar()\n",
    "            if valid_acc > max_acc:\n",
    "                net.save_params('fingervein_weight_softmax_TJ.txt')\n",
    "                max_acc = valid_acc\n",
    "            epoch_str = \"Epoch %d, train_loss: %f, train_acc: %f, valid_acc %f, \" % (epoch+1, \n",
    "                                                                                   train_loss/len(train_data), \n",
    "                                                                                   train_acc/len(train_data), \n",
    "                                                                                   valid_acc/len(valid_data))\n",
    "        else:\n",
    "            epoch_str = \"Epoch %d, train_loss: %f, train_acc: %f, \" % (epoch+1, \n",
    "                                                                     train_loss/len(train_data), \n",
    "                                                                     train_acc/len(train_data))\n",
    "        if print_cost and (epoch+1) % cost_period == 0:\n",
    "#             costs.append(corr_loss)\n",
    "            costs.append(train_loss/len(train_data))\n",
    "        print(epoch_str + time_str + ', lr: %f' % trainer.learning_rate)\n",
    "        pre_time = cur_time\n",
    "    if print_cost:\n",
    "        x_axis = np.linspace(0, num_epoches, len(costs), endpoint = True)\n",
    "        plt.semilogy(x_axis, costs)\n",
    "        plt.xlabel('epoch')\n",
    "        plt.ylabel('loss')\n",
    "        plt.show()\n",
    "        plt.savefig('train_softmax_loss_TJ.png')"
   ]
  },
  {
   "cell_type": "markdown",
   "metadata": {},
   "source": [
    "## center loss trainning"
   ]
  },
  {
   "cell_type": "code",
   "execution_count": 20,
   "metadata": {
    "collapsed": true
   },
   "outputs": [],
   "source": [
    "def train_center(train_data, valid_data, net, ctx, num_epoches, \n",
    "          learning_rate=0.01, lr_decay=0.1, lr_period=50, \n",
    "          momentum = 0.9, weight_decay=0, cost_period = 10, \n",
    "          print_cost=False):\n",
    "    costs = []\n",
    "    max_acc = 0\n",
    "#     trainer = gluon.Trainer(net.collect_params(), 'sgd', \n",
    "#                             {'learning_rate': learning_rate, \n",
    "#                              'momentum': momentum, \n",
    "#                              'wd': weight_decay})\n",
    "    \n",
    "    center_loss.initialize(mx.init.Xavier(), ctx=ctx)\n",
    "    trainer_center = gluon.Trainer(center_loss.collect_params(), 'adam', \n",
    "                                   {'learning_rate': learning_rate})\n",
    "    trainer = gluon.Trainer(net.collect_params(), 'adam', \n",
    "                            {'learning_rate': learning_rate})\n",
    "    pre_time = datetime.datetime.now()\n",
    "#     moving_loss = 0\n",
    "#     niter = 0\n",
    "    for epoch in range(num_epoches):\n",
    "        train_loss = 0\n",
    "        train_acc = 0\n",
    "        if (epoch+1) in lr_period:\n",
    "            trainer.set_learning_rate(trainer.learning_rate * lr_decay)\n",
    "        for data, label in train_data:\n",
    "            data = data.as_in_context(ctx)\n",
    "#             label = label.as_in_context(ctx)\n",
    "            label = label.astype('float32').as_in_context(ctx)\n",
    "            with ag.record():\n",
    "                output, features = net(data)\n",
    "#                 loss = softmax_cross_entropy(output, label)\n",
    "                loss_softmax = softmax_cross_entropy(output, label)\n",
    "                loss_center = center_loss(features, label)\n",
    "                loss = loss_softmax + loss_center\n",
    "            loss.backward()\n",
    "            trainer.step(batch_size)\n",
    "            trainer_center.step(batch_size)\n",
    "#             loss.backward()\n",
    "#             trainer.step(batch_size)\n",
    "            train_loss += nd.mean(loss).asscalar()\n",
    "#             print(output.argmax(axis=1).astype(np.int64), label)\n",
    "            train_acc += nd.mean(output.argmax(axis=1) == label).asscalar()\n",
    "#             train_acc += nd.mean(output.argmax(axis=1).astype(np.int64) == label).asscalar()\n",
    "#             niter += 1\n",
    "#             cur_loss = nd.mean(loss).asscalar()\n",
    "#             moving_loss = 0.9 * moving_loss + 0.1 * cur_loss\n",
    "#             corr_loss = moving_loss / (1 - pow(0.9, niter))\n",
    "        cur_time = datetime.datetime.now()\n",
    "        h, remainder = divmod((cur_time - pre_time).seconds, 3600)\n",
    "        m, s = divmod(remainder, 60)\n",
    "        time_str = \"Time %02d:%02d:%02d\" % (h, m, s)\n",
    "        if valid_data is not None:\n",
    "            valid_acc = 0\n",
    "            for data, label in valid_data:\n",
    "                data = data.as_in_context(ctx)\n",
    "#                 label = label.as_in_context(ctx)\n",
    "                label = label.astype('float32').as_in_context(ctx)\n",
    "                output, features = net(data)\n",
    "#                 valid_acc += nd.mean(output.argmax(axis=1).astype(np.int64) == label).asscalar()\n",
    "                valid_acc += nd.mean(output.argmax(axis=1) == label).asscalar()\n",
    "            if valid_acc >= max_acc:\n",
    "                net.save_params('fingervein_weight_centerloss_TJ1.txt')\n",
    "                max_acc = valid_acc\n",
    "            epoch_str = \"Epoch %d, train_loss: %f, train_acc: %f, valid_acc %f, \" % (epoch+1, \n",
    "                                                                                   train_loss/len(train_data), \n",
    "                                                                                   train_acc/len(train_data), \n",
    "                                                                                   valid_acc/len(valid_data))\n",
    "        else:\n",
    "            epoch_str = \"Epoch %d, train_loss: %f, train_acc: %f, \" % (epoch+1, \n",
    "                                                                     train_loss/len(train_data), \n",
    "                                                                     train_acc/len(train_data))\n",
    "        if print_cost and (epoch+1) % cost_period == 0:\n",
    "#             costs.append(corr_loss)\n",
    "            costs.append(train_loss/len(train_data))\n",
    "        print(epoch_str + time_str + ', lr: %f' % trainer.learning_rate)\n",
    "        pre_time = cur_time\n",
    "    if print_cost:\n",
    "        x_axis = np.linspace(0, num_epoches, len(costs), endpoint = True)\n",
    "        plt.semilogy(x_axis, costs)\n",
    "        plt.xlabel('epoch')\n",
    "        plt.ylabel('loss')\n",
    "        plt.savefig('train_center_loss_TJ.png')\n",
    "        plt.show()"
   ]
  },
  {
   "cell_type": "code",
   "execution_count": 23,
   "metadata": {
    "collapsed": true
   },
   "outputs": [],
   "source": [
    "# valid_data = None\n",
    "ctx = mx.gpu(0)\n",
    "num_epoches = 200\n",
    "learning_rate = 0.001\n",
    "lr_decay = 0.1\n",
    "# lr_period = [80, 130, 180, 200]\n",
    "lr_period = [50, 100, 150, 200]\n",
    "momentum = 0.9\n",
    "weight_decay = 5e-4\n",
    "cost_period = 10"
   ]
  },
  {
   "cell_type": "code",
   "execution_count": 24,
   "metadata": {
    "scrolled": false
   },
   "outputs": [
    {
     "name": "stderr",
     "output_type": "stream",
     "text": [
      "/home/dyjng/anaconda3/lib/python3.6/site-packages/mxnet/gluon/parameter.py:320: UserWarning: Parameter centerloss0_centers is already initialized, ignoring. Set force_reinit=True to re-initialize.\n",
      "  \"Set force_reinit=True to re-initialize.\"%self.name)\n"
     ]
    },
    {
     "name": "stdout",
     "output_type": "stream",
     "text": [
      "Epoch 1, train_loss: 7.485114, train_acc: 0.012500, valid_acc 0.031250, Time 00:00:03, lr: 0.001000\n",
      "Epoch 2, train_loss: 4.693250, train_acc: 0.062500, valid_acc 0.350000, Time 00:00:05, lr: 0.001000\n",
      "Epoch 3, train_loss: 4.094478, train_acc: 0.268750, valid_acc 0.671875, Time 00:00:05, lr: 0.001000\n",
      "Epoch 4, train_loss: 3.397757, train_acc: 0.603125, valid_acc 0.860938, Time 00:00:05, lr: 0.001000\n",
      "Epoch 5, train_loss: 2.647129, train_acc: 0.840625, valid_acc 0.970313, Time 00:00:05, lr: 0.001000\n",
      "Epoch 6, train_loss: 1.822844, train_acc: 0.975000, valid_acc 0.982812, Time 00:00:05, lr: 0.001000\n",
      "Epoch 7, train_loss: 1.323262, train_acc: 0.984375, valid_acc 0.992188, Time 00:00:05, lr: 0.001000\n",
      "Epoch 8, train_loss: 0.954795, train_acc: 0.996875, valid_acc 0.992188, Time 00:00:05, lr: 0.001000\n",
      "Epoch 9, train_loss: 0.685231, train_acc: 1.000000, valid_acc 0.996875, Time 00:00:05, lr: 0.001000\n",
      "Epoch 10, train_loss: 0.620468, train_acc: 1.000000, valid_acc 0.992188, Time 00:00:05, lr: 0.001000\n",
      "Epoch 11, train_loss: 0.561425, train_acc: 1.000000, valid_acc 0.996875, Time 00:00:05, lr: 0.001000\n",
      "Epoch 12, train_loss: 0.377487, train_acc: 1.000000, valid_acc 0.996875, Time 00:00:05, lr: 0.001000\n",
      "Epoch 13, train_loss: 0.327572, train_acc: 1.000000, valid_acc 0.998437, Time 00:00:05, lr: 0.001000\n",
      "Epoch 14, train_loss: 0.263199, train_acc: 1.000000, valid_acc 0.996875, Time 00:00:05, lr: 0.001000\n",
      "Epoch 15, train_loss: 0.277882, train_acc: 1.000000, valid_acc 0.996875, Time 00:00:05, lr: 0.001000\n",
      "Epoch 16, train_loss: 0.245777, train_acc: 1.000000, valid_acc 0.996875, Time 00:00:05, lr: 0.001000\n",
      "Epoch 17, train_loss: 0.189774, train_acc: 1.000000, valid_acc 0.996875, Time 00:00:05, lr: 0.001000\n",
      "Epoch 18, train_loss: 0.182075, train_acc: 1.000000, valid_acc 1.000000, Time 00:00:05, lr: 0.001000\n",
      "Epoch 19, train_loss: 0.153315, train_acc: 1.000000, valid_acc 0.996875, Time 00:00:05, lr: 0.001000\n",
      "Epoch 20, train_loss: 0.139483, train_acc: 1.000000, valid_acc 1.000000, Time 00:00:05, lr: 0.001000\n",
      "Epoch 21, train_loss: 0.138893, train_acc: 1.000000, valid_acc 0.996875, Time 00:00:05, lr: 0.001000\n",
      "Epoch 22, train_loss: 0.122177, train_acc: 1.000000, valid_acc 0.998437, Time 00:00:05, lr: 0.001000\n",
      "Epoch 23, train_loss: 0.143494, train_acc: 1.000000, valid_acc 0.996875, Time 00:00:05, lr: 0.001000\n",
      "Epoch 24, train_loss: 0.109842, train_acc: 1.000000, valid_acc 0.996875, Time 00:00:05, lr: 0.001000\n",
      "Epoch 25, train_loss: 0.112424, train_acc: 1.000000, valid_acc 0.996875, Time 00:00:05, lr: 0.001000\n",
      "Epoch 26, train_loss: 0.105385, train_acc: 1.000000, valid_acc 0.996875, Time 00:00:05, lr: 0.001000\n",
      "Epoch 27, train_loss: 0.098461, train_acc: 1.000000, valid_acc 0.998437, Time 00:00:05, lr: 0.001000\n",
      "Epoch 28, train_loss: 0.093169, train_acc: 1.000000, valid_acc 0.996875, Time 00:00:05, lr: 0.001000\n",
      "Epoch 29, train_loss: 0.083366, train_acc: 1.000000, valid_acc 0.996875, Time 00:00:05, lr: 0.001000\n",
      "Epoch 30, train_loss: 0.080523, train_acc: 1.000000, valid_acc 0.998437, Time 00:00:05, lr: 0.001000\n",
      "Epoch 31, train_loss: 0.080454, train_acc: 1.000000, valid_acc 0.998437, Time 00:00:05, lr: 0.001000\n",
      "Epoch 32, train_loss: 0.075230, train_acc: 1.000000, valid_acc 0.996875, Time 00:00:05, lr: 0.001000\n",
      "Epoch 33, train_loss: 0.071082, train_acc: 1.000000, valid_acc 0.996875, Time 00:00:05, lr: 0.001000\n",
      "Epoch 34, train_loss: 0.067310, train_acc: 1.000000, valid_acc 1.000000, Time 00:00:05, lr: 0.001000\n",
      "Epoch 35, train_loss: 0.073857, train_acc: 1.000000, valid_acc 0.996875, Time 00:00:05, lr: 0.001000\n",
      "Epoch 36, train_loss: 0.077054, train_acc: 1.000000, valid_acc 0.998437, Time 00:00:05, lr: 0.001000\n",
      "Epoch 37, train_loss: 0.068275, train_acc: 1.000000, valid_acc 0.998437, Time 00:00:05, lr: 0.001000\n",
      "Epoch 38, train_loss: 0.063055, train_acc: 1.000000, valid_acc 0.998437, Time 00:00:05, lr: 0.001000\n",
      "Epoch 39, train_loss: 0.059178, train_acc: 1.000000, valid_acc 0.998437, Time 00:00:05, lr: 0.001000\n",
      "Epoch 40, train_loss: 0.058077, train_acc: 1.000000, valid_acc 1.000000, Time 00:00:05, lr: 0.001000\n",
      "Epoch 41, train_loss: 0.055909, train_acc: 1.000000, valid_acc 0.998437, Time 00:00:05, lr: 0.001000\n",
      "Epoch 42, train_loss: 0.054144, train_acc: 1.000000, valid_acc 0.998437, Time 00:00:05, lr: 0.001000\n",
      "Epoch 43, train_loss: 0.057901, train_acc: 1.000000, valid_acc 0.998437, Time 00:00:05, lr: 0.001000\n",
      "Epoch 44, train_loss: 0.050990, train_acc: 1.000000, valid_acc 1.000000, Time 00:00:05, lr: 0.001000\n",
      "Epoch 45, train_loss: 0.047794, train_acc: 1.000000, valid_acc 1.000000, Time 00:00:05, lr: 0.001000\n",
      "Epoch 46, train_loss: 0.048216, train_acc: 1.000000, valid_acc 0.998437, Time 00:00:05, lr: 0.001000\n",
      "Epoch 47, train_loss: 0.046802, train_acc: 1.000000, valid_acc 0.996875, Time 00:00:05, lr: 0.001000\n",
      "Epoch 48, train_loss: 0.054277, train_acc: 1.000000, valid_acc 0.998437, Time 00:00:05, lr: 0.001000\n",
      "Epoch 49, train_loss: 0.047072, train_acc: 1.000000, valid_acc 1.000000, Time 00:00:05, lr: 0.001000\n",
      "Epoch 50, train_loss: 0.038873, train_acc: 1.000000, valid_acc 0.998437, Time 00:00:05, lr: 0.000100\n",
      "Epoch 51, train_loss: 0.031667, train_acc: 1.000000, valid_acc 0.998437, Time 00:00:05, lr: 0.000100\n",
      "Epoch 52, train_loss: 0.031320, train_acc: 1.000000, valid_acc 0.998437, Time 00:00:05, lr: 0.000100\n",
      "Epoch 53, train_loss: 0.030906, train_acc: 1.000000, valid_acc 1.000000, Time 00:00:05, lr: 0.000100\n",
      "Epoch 54, train_loss: 0.029880, train_acc: 1.000000, valid_acc 1.000000, Time 00:00:05, lr: 0.000100\n",
      "Epoch 55, train_loss: 0.030197, train_acc: 1.000000, valid_acc 0.998437, Time 00:00:05, lr: 0.000100\n",
      "Epoch 56, train_loss: 0.029295, train_acc: 1.000000, valid_acc 0.998437, Time 00:00:05, lr: 0.000100\n",
      "Epoch 57, train_loss: 0.029344, train_acc: 1.000000, valid_acc 0.998437, Time 00:00:05, lr: 0.000100\n",
      "Epoch 58, train_loss: 0.029216, train_acc: 1.000000, valid_acc 1.000000, Time 00:00:05, lr: 0.000100\n",
      "Epoch 59, train_loss: 0.028340, train_acc: 1.000000, valid_acc 0.998437, Time 00:00:05, lr: 0.000100\n",
      "Epoch 60, train_loss: 0.029223, train_acc: 1.000000, valid_acc 0.998437, Time 00:00:05, lr: 0.000100\n",
      "Epoch 61, train_loss: 0.027910, train_acc: 1.000000, valid_acc 0.998437, Time 00:00:05, lr: 0.000100\n",
      "Epoch 62, train_loss: 0.027870, train_acc: 1.000000, valid_acc 1.000000, Time 00:00:05, lr: 0.000100\n",
      "Epoch 63, train_loss: 0.028091, train_acc: 1.000000, valid_acc 0.998437, Time 00:00:05, lr: 0.000100\n",
      "Epoch 64, train_loss: 0.029077, train_acc: 1.000000, valid_acc 0.998437, Time 00:00:05, lr: 0.000100\n",
      "Epoch 65, train_loss: 0.027507, train_acc: 1.000000, valid_acc 1.000000, Time 00:00:05, lr: 0.000100\n",
      "Epoch 66, train_loss: 0.027127, train_acc: 1.000000, valid_acc 1.000000, Time 00:00:05, lr: 0.000100\n",
      "Epoch 67, train_loss: 0.027777, train_acc: 1.000000, valid_acc 1.000000, Time 00:00:05, lr: 0.000100\n",
      "Epoch 68, train_loss: 0.028842, train_acc: 1.000000, valid_acc 1.000000, Time 00:00:05, lr: 0.000100\n",
      "Epoch 69, train_loss: 0.026995, train_acc: 1.000000, valid_acc 1.000000, Time 00:00:05, lr: 0.000100\n",
      "Epoch 70, train_loss: 0.027831, train_acc: 1.000000, valid_acc 1.000000, Time 00:00:05, lr: 0.000100\n",
      "Epoch 71, train_loss: 0.026679, train_acc: 1.000000, valid_acc 0.998437, Time 00:00:05, lr: 0.000100\n",
      "Epoch 72, train_loss: 0.026425, train_acc: 1.000000, valid_acc 1.000000, Time 00:00:05, lr: 0.000100\n",
      "Epoch 73, train_loss: 0.026807, train_acc: 1.000000, valid_acc 1.000000, Time 00:00:05, lr: 0.000100\n",
      "Epoch 74, train_loss: 0.026556, train_acc: 1.000000, valid_acc 1.000000, Time 00:00:05, lr: 0.000100\n",
      "Epoch 75, train_loss: 0.027079, train_acc: 1.000000, valid_acc 1.000000, Time 00:00:05, lr: 0.000100\n",
      "Epoch 76, train_loss: 0.027747, train_acc: 1.000000, valid_acc 1.000000, Time 00:00:05, lr: 0.000100\n",
      "Epoch 77, train_loss: 0.026613, train_acc: 1.000000, valid_acc 1.000000, Time 00:00:05, lr: 0.000100\n",
      "Epoch 78, train_loss: 0.025861, train_acc: 1.000000, valid_acc 1.000000, Time 00:00:05, lr: 0.000100\n",
      "Epoch 79, train_loss: 0.026137, train_acc: 1.000000, valid_acc 1.000000, Time 00:00:05, lr: 0.000100\n",
      "Epoch 80, train_loss: 0.026242, train_acc: 1.000000, valid_acc 1.000000, Time 00:00:05, lr: 0.000100\n",
      "Epoch 81, train_loss: 0.025371, train_acc: 1.000000, valid_acc 1.000000, Time 00:00:05, lr: 0.000100\n",
      "Epoch 82, train_loss: 0.025701, train_acc: 1.000000, valid_acc 1.000000, Time 00:00:05, lr: 0.000100\n"
     ]
    },
    {
     "name": "stdout",
     "output_type": "stream",
     "text": [
      "Epoch 83, train_loss: 0.025929, train_acc: 1.000000, valid_acc 1.000000, Time 00:00:05, lr: 0.000100\n",
      "Epoch 84, train_loss: 0.025862, train_acc: 1.000000, valid_acc 1.000000, Time 00:00:05, lr: 0.000100\n",
      "Epoch 85, train_loss: 0.024511, train_acc: 1.000000, valid_acc 1.000000, Time 00:00:05, lr: 0.000100\n",
      "Epoch 86, train_loss: 0.025293, train_acc: 1.000000, valid_acc 1.000000, Time 00:00:05, lr: 0.000100\n",
      "Epoch 87, train_loss: 0.024752, train_acc: 1.000000, valid_acc 1.000000, Time 00:00:05, lr: 0.000100\n",
      "Epoch 88, train_loss: 0.025187, train_acc: 1.000000, valid_acc 1.000000, Time 00:00:05, lr: 0.000100\n",
      "Epoch 89, train_loss: 0.023376, train_acc: 1.000000, valid_acc 1.000000, Time 00:00:05, lr: 0.000100\n",
      "Epoch 90, train_loss: 0.023468, train_acc: 1.000000, valid_acc 1.000000, Time 00:00:05, lr: 0.000100\n",
      "Epoch 91, train_loss: 0.024723, train_acc: 1.000000, valid_acc 1.000000, Time 00:00:05, lr: 0.000100\n",
      "Epoch 92, train_loss: 0.023538, train_acc: 1.000000, valid_acc 1.000000, Time 00:00:05, lr: 0.000100\n",
      "Epoch 93, train_loss: 0.023171, train_acc: 1.000000, valid_acc 1.000000, Time 00:00:05, lr: 0.000100\n",
      "Epoch 94, train_loss: 0.023785, train_acc: 1.000000, valid_acc 1.000000, Time 00:00:05, lr: 0.000100\n",
      "Epoch 95, train_loss: 0.022427, train_acc: 1.000000, valid_acc 1.000000, Time 00:00:05, lr: 0.000100\n",
      "Epoch 96, train_loss: 0.022702, train_acc: 1.000000, valid_acc 1.000000, Time 00:00:05, lr: 0.000100\n",
      "Epoch 97, train_loss: 0.023206, train_acc: 1.000000, valid_acc 1.000000, Time 00:00:05, lr: 0.000100\n",
      "Epoch 98, train_loss: 0.022777, train_acc: 1.000000, valid_acc 1.000000, Time 00:00:05, lr: 0.000100\n",
      "Epoch 99, train_loss: 0.022304, train_acc: 1.000000, valid_acc 1.000000, Time 00:00:05, lr: 0.000100\n",
      "Epoch 100, train_loss: 0.021722, train_acc: 1.000000, valid_acc 1.000000, Time 00:00:05, lr: 0.000010\n",
      "Epoch 101, train_loss: 0.020181, train_acc: 1.000000, valid_acc 1.000000, Time 00:00:05, lr: 0.000010\n",
      "Epoch 102, train_loss: 0.020190, train_acc: 1.000000, valid_acc 1.000000, Time 00:00:05, lr: 0.000010\n",
      "Epoch 103, train_loss: 0.020355, train_acc: 1.000000, valid_acc 1.000000, Time 00:00:05, lr: 0.000010\n",
      "Epoch 104, train_loss: 0.019996, train_acc: 1.000000, valid_acc 1.000000, Time 00:00:06, lr: 0.000010\n",
      "Epoch 105, train_loss: 0.020780, train_acc: 1.000000, valid_acc 1.000000, Time 00:00:05, lr: 0.000010\n",
      "Epoch 106, train_loss: 0.021156, train_acc: 1.000000, valid_acc 1.000000, Time 00:00:05, lr: 0.000010\n",
      "Epoch 107, train_loss: 0.019517, train_acc: 1.000000, valid_acc 1.000000, Time 00:00:05, lr: 0.000010\n",
      "Epoch 108, train_loss: 0.020461, train_acc: 1.000000, valid_acc 1.000000, Time 00:00:05, lr: 0.000010\n",
      "Epoch 109, train_loss: 0.020260, train_acc: 1.000000, valid_acc 1.000000, Time 00:00:06, lr: 0.000010\n",
      "Epoch 110, train_loss: 0.020098, train_acc: 1.000000, valid_acc 1.000000, Time 00:00:05, lr: 0.000010\n",
      "Epoch 111, train_loss: 0.020441, train_acc: 1.000000, valid_acc 1.000000, Time 00:00:05, lr: 0.000010\n",
      "Epoch 112, train_loss: 0.020215, train_acc: 1.000000, valid_acc 1.000000, Time 00:00:05, lr: 0.000010\n",
      "Epoch 113, train_loss: 0.019677, train_acc: 1.000000, valid_acc 1.000000, Time 00:00:05, lr: 0.000010\n",
      "Epoch 114, train_loss: 0.020370, train_acc: 1.000000, valid_acc 1.000000, Time 00:00:05, lr: 0.000010\n",
      "Epoch 115, train_loss: 0.020912, train_acc: 1.000000, valid_acc 1.000000, Time 00:00:05, lr: 0.000010\n",
      "Epoch 116, train_loss: 0.020255, train_acc: 1.000000, valid_acc 1.000000, Time 00:00:05, lr: 0.000010\n",
      "Epoch 117, train_loss: 0.020412, train_acc: 1.000000, valid_acc 1.000000, Time 00:00:05, lr: 0.000010\n",
      "Epoch 118, train_loss: 0.020564, train_acc: 1.000000, valid_acc 1.000000, Time 00:00:05, lr: 0.000010\n",
      "Epoch 119, train_loss: 0.020308, train_acc: 1.000000, valid_acc 1.000000, Time 00:00:05, lr: 0.000010\n",
      "Epoch 120, train_loss: 0.020445, train_acc: 1.000000, valid_acc 1.000000, Time 00:00:05, lr: 0.000010\n",
      "Epoch 121, train_loss: 0.021493, train_acc: 1.000000, valid_acc 1.000000, Time 00:00:05, lr: 0.000010\n",
      "Epoch 122, train_loss: 0.021012, train_acc: 1.000000, valid_acc 1.000000, Time 00:00:05, lr: 0.000010\n",
      "Epoch 123, train_loss: 0.020027, train_acc: 1.000000, valid_acc 1.000000, Time 00:00:05, lr: 0.000010\n",
      "Epoch 124, train_loss: 0.020469, train_acc: 1.000000, valid_acc 0.998437, Time 00:00:05, lr: 0.000010\n",
      "Epoch 125, train_loss: 0.020322, train_acc: 1.000000, valid_acc 1.000000, Time 00:00:05, lr: 0.000010\n",
      "Epoch 126, train_loss: 0.019531, train_acc: 1.000000, valid_acc 1.000000, Time 00:00:05, lr: 0.000010\n",
      "Epoch 127, train_loss: 0.019599, train_acc: 1.000000, valid_acc 1.000000, Time 00:00:05, lr: 0.000010\n",
      "Epoch 128, train_loss: 0.019690, train_acc: 1.000000, valid_acc 1.000000, Time 00:00:05, lr: 0.000010\n",
      "Epoch 129, train_loss: 0.020096, train_acc: 1.000000, valid_acc 1.000000, Time 00:00:05, lr: 0.000010\n",
      "Epoch 130, train_loss: 0.020445, train_acc: 1.000000, valid_acc 1.000000, Time 00:00:05, lr: 0.000010\n",
      "Epoch 131, train_loss: 0.020130, train_acc: 1.000000, valid_acc 1.000000, Time 00:00:05, lr: 0.000010\n",
      "Epoch 132, train_loss: 0.019671, train_acc: 1.000000, valid_acc 1.000000, Time 00:00:05, lr: 0.000010\n",
      "Epoch 133, train_loss: 0.021258, train_acc: 1.000000, valid_acc 1.000000, Time 00:00:05, lr: 0.000010\n",
      "Epoch 134, train_loss: 0.020212, train_acc: 1.000000, valid_acc 1.000000, Time 00:00:05, lr: 0.000010\n",
      "Epoch 135, train_loss: 0.020140, train_acc: 1.000000, valid_acc 1.000000, Time 00:00:05, lr: 0.000010\n",
      "Epoch 136, train_loss: 0.020066, train_acc: 1.000000, valid_acc 1.000000, Time 00:00:05, lr: 0.000010\n",
      "Epoch 137, train_loss: 0.020094, train_acc: 1.000000, valid_acc 1.000000, Time 00:00:05, lr: 0.000010\n",
      "Epoch 138, train_loss: 0.020099, train_acc: 1.000000, valid_acc 1.000000, Time 00:00:05, lr: 0.000010\n",
      "Epoch 139, train_loss: 0.019070, train_acc: 1.000000, valid_acc 1.000000, Time 00:00:05, lr: 0.000010\n",
      "Epoch 140, train_loss: 0.019918, train_acc: 1.000000, valid_acc 1.000000, Time 00:00:05, lr: 0.000010\n",
      "Epoch 141, train_loss: 0.019289, train_acc: 1.000000, valid_acc 1.000000, Time 00:00:05, lr: 0.000010\n",
      "Epoch 142, train_loss: 0.019568, train_acc: 1.000000, valid_acc 1.000000, Time 00:00:05, lr: 0.000010\n",
      "Epoch 143, train_loss: 0.019941, train_acc: 1.000000, valid_acc 1.000000, Time 00:00:05, lr: 0.000010\n",
      "Epoch 144, train_loss: 0.019983, train_acc: 1.000000, valid_acc 1.000000, Time 00:00:05, lr: 0.000010\n",
      "Epoch 145, train_loss: 0.020361, train_acc: 1.000000, valid_acc 1.000000, Time 00:00:05, lr: 0.000010\n",
      "Epoch 146, train_loss: 0.019295, train_acc: 1.000000, valid_acc 1.000000, Time 00:00:05, lr: 0.000010\n",
      "Epoch 147, train_loss: 0.019569, train_acc: 1.000000, valid_acc 0.998437, Time 00:00:06, lr: 0.000010\n",
      "Epoch 148, train_loss: 0.020219, train_acc: 1.000000, valid_acc 1.000000, Time 00:00:05, lr: 0.000010\n",
      "Epoch 149, train_loss: 0.019604, train_acc: 1.000000, valid_acc 1.000000, Time 00:00:05, lr: 0.000010\n",
      "Epoch 150, train_loss: 0.019088, train_acc: 1.000000, valid_acc 1.000000, Time 00:00:05, lr: 0.000001\n",
      "Epoch 151, train_loss: 0.019630, train_acc: 1.000000, valid_acc 1.000000, Time 00:00:05, lr: 0.000001\n",
      "Epoch 152, train_loss: 0.019332, train_acc: 1.000000, valid_acc 1.000000, Time 00:00:05, lr: 0.000001\n",
      "Epoch 153, train_loss: 0.019132, train_acc: 1.000000, valid_acc 1.000000, Time 00:00:05, lr: 0.000001\n",
      "Epoch 154, train_loss: 0.018953, train_acc: 1.000000, valid_acc 1.000000, Time 00:00:05, lr: 0.000001\n",
      "Epoch 155, train_loss: 0.019190, train_acc: 1.000000, valid_acc 1.000000, Time 00:00:05, lr: 0.000001\n",
      "Epoch 156, train_loss: 0.019477, train_acc: 1.000000, valid_acc 1.000000, Time 00:00:05, lr: 0.000001\n",
      "Epoch 157, train_loss: 0.019235, train_acc: 1.000000, valid_acc 1.000000, Time 00:00:05, lr: 0.000001\n",
      "Epoch 158, train_loss: 0.019195, train_acc: 1.000000, valid_acc 1.000000, Time 00:00:05, lr: 0.000001\n",
      "Epoch 159, train_loss: 0.019378, train_acc: 1.000000, valid_acc 1.000000, Time 00:00:05, lr: 0.000001\n",
      "Epoch 160, train_loss: 0.018873, train_acc: 1.000000, valid_acc 1.000000, Time 00:00:05, lr: 0.000001\n",
      "Epoch 161, train_loss: 0.019132, train_acc: 1.000000, valid_acc 1.000000, Time 00:00:05, lr: 0.000001\n",
      "Epoch 162, train_loss: 0.018717, train_acc: 1.000000, valid_acc 1.000000, Time 00:00:05, lr: 0.000001\n",
      "Epoch 163, train_loss: 0.019534, train_acc: 1.000000, valid_acc 1.000000, Time 00:00:05, lr: 0.000001\n"
     ]
    },
    {
     "name": "stdout",
     "output_type": "stream",
     "text": [
      "Epoch 164, train_loss: 0.019078, train_acc: 1.000000, valid_acc 1.000000, Time 00:00:05, lr: 0.000001\n",
      "Epoch 165, train_loss: 0.019059, train_acc: 1.000000, valid_acc 0.998437, Time 00:00:05, lr: 0.000001\n",
      "Epoch 166, train_loss: 0.018962, train_acc: 1.000000, valid_acc 1.000000, Time 00:00:05, lr: 0.000001\n",
      "Epoch 167, train_loss: 0.018820, train_acc: 1.000000, valid_acc 1.000000, Time 00:00:05, lr: 0.000001\n",
      "Epoch 168, train_loss: 0.018585, train_acc: 1.000000, valid_acc 1.000000, Time 00:00:06, lr: 0.000001\n",
      "Epoch 169, train_loss: 0.018912, train_acc: 1.000000, valid_acc 1.000000, Time 00:00:05, lr: 0.000001\n",
      "Epoch 170, train_loss: 0.020020, train_acc: 1.000000, valid_acc 1.000000, Time 00:00:05, lr: 0.000001\n",
      "Epoch 171, train_loss: 0.019133, train_acc: 1.000000, valid_acc 1.000000, Time 00:00:05, lr: 0.000001\n",
      "Epoch 172, train_loss: 0.018801, train_acc: 1.000000, valid_acc 1.000000, Time 00:00:05, lr: 0.000001\n",
      "Epoch 173, train_loss: 0.019259, train_acc: 1.000000, valid_acc 1.000000, Time 00:00:05, lr: 0.000001\n",
      "Epoch 174, train_loss: 0.019404, train_acc: 1.000000, valid_acc 0.998437, Time 00:00:05, lr: 0.000001\n",
      "Epoch 175, train_loss: 0.019397, train_acc: 1.000000, valid_acc 1.000000, Time 00:00:05, lr: 0.000001\n",
      "Epoch 176, train_loss: 0.019087, train_acc: 1.000000, valid_acc 1.000000, Time 00:00:05, lr: 0.000001\n",
      "Epoch 177, train_loss: 0.019016, train_acc: 1.000000, valid_acc 1.000000, Time 00:00:05, lr: 0.000001\n",
      "Epoch 178, train_loss: 0.018853, train_acc: 1.000000, valid_acc 1.000000, Time 00:00:05, lr: 0.000001\n",
      "Epoch 179, train_loss: 0.019069, train_acc: 1.000000, valid_acc 1.000000, Time 00:00:05, lr: 0.000001\n",
      "Epoch 180, train_loss: 0.019242, train_acc: 1.000000, valid_acc 1.000000, Time 00:00:05, lr: 0.000001\n",
      "Epoch 181, train_loss: 0.018730, train_acc: 1.000000, valid_acc 0.998437, Time 00:00:05, lr: 0.000001\n",
      "Epoch 182, train_loss: 0.019056, train_acc: 1.000000, valid_acc 1.000000, Time 00:00:05, lr: 0.000001\n",
      "Epoch 183, train_loss: 0.019274, train_acc: 1.000000, valid_acc 1.000000, Time 00:00:05, lr: 0.000001\n",
      "Epoch 184, train_loss: 0.019560, train_acc: 1.000000, valid_acc 1.000000, Time 00:00:05, lr: 0.000001\n",
      "Epoch 185, train_loss: 0.018914, train_acc: 1.000000, valid_acc 1.000000, Time 00:00:05, lr: 0.000001\n",
      "Epoch 186, train_loss: 0.019007, train_acc: 1.000000, valid_acc 1.000000, Time 00:00:05, lr: 0.000001\n",
      "Epoch 187, train_loss: 0.019410, train_acc: 1.000000, valid_acc 1.000000, Time 00:00:05, lr: 0.000001\n",
      "Epoch 188, train_loss: 0.018899, train_acc: 1.000000, valid_acc 1.000000, Time 00:00:05, lr: 0.000001\n",
      "Epoch 189, train_loss: 0.018657, train_acc: 1.000000, valid_acc 1.000000, Time 00:00:05, lr: 0.000001\n",
      "Epoch 190, train_loss: 0.018918, train_acc: 1.000000, valid_acc 1.000000, Time 00:00:05, lr: 0.000001\n",
      "Epoch 191, train_loss: 0.018944, train_acc: 1.000000, valid_acc 1.000000, Time 00:00:05, lr: 0.000001\n",
      "Epoch 192, train_loss: 0.019690, train_acc: 1.000000, valid_acc 1.000000, Time 00:00:05, lr: 0.000001\n",
      "Epoch 193, train_loss: 0.019186, train_acc: 1.000000, valid_acc 0.998437, Time 00:00:05, lr: 0.000001\n",
      "Epoch 194, train_loss: 0.019345, train_acc: 1.000000, valid_acc 1.000000, Time 00:00:05, lr: 0.000001\n",
      "Epoch 195, train_loss: 0.018882, train_acc: 1.000000, valid_acc 1.000000, Time 00:00:05, lr: 0.000001\n",
      "Epoch 196, train_loss: 0.019056, train_acc: 1.000000, valid_acc 1.000000, Time 00:00:05, lr: 0.000001\n",
      "Epoch 197, train_loss: 0.019113, train_acc: 1.000000, valid_acc 1.000000, Time 00:00:05, lr: 0.000001\n",
      "Epoch 198, train_loss: 0.019116, train_acc: 1.000000, valid_acc 1.000000, Time 00:00:05, lr: 0.000001\n",
      "Epoch 199, train_loss: 0.019648, train_acc: 1.000000, valid_acc 1.000000, Time 00:00:05, lr: 0.000001\n",
      "Epoch 200, train_loss: 0.018422, train_acc: 1.000000, valid_acc 1.000000, Time 00:00:05, lr: 0.000000\n"
     ]
    },
    {
     "data": {
      "image/png": "[encoded data removed]",
      "text/plain": [
       "<matplotlib.figure.Figure at 0x7f6104083fd0>"
      ]
     },
     "metadata": {},
     "output_type": "display_data"
    }
   ],
   "source": [
    "net = get_net(ctx, num_classes=64)\n",
    "net.hybridize()\n",
    "train_center(train_data, valid_data, net, ctx, num_epoches, \n",
    "      learning_rate, lr_decay, lr_period, \n",
    "      momentum, weight_decay, cost_period, \n",
    "      print_cost=True)"
   ]
  },
  {
   "cell_type": "code",
   "execution_count": null,
   "metadata": {
    "collapsed": true
   },
   "outputs": [],
   "source": []
  },
  {
   "cell_type": "code",
   "execution_count": null,
   "metadata": {
    "collapsed": true
   },
   "outputs": [],
   "source": []
  },
  {
   "cell_type": "code",
   "execution_count": 10,
   "metadata": {
    "collapsed": true
   },
   "outputs": [],
   "source": [
    "transform_train = transforms.Compose([\n",
    "#     transforms.RandomFlipLeftRight(),\n",
    "#     transforms.RandomFlipTopBottom(),\n",
    "#     transforms.RandomBrightness(0.1), \n",
    "#     transforms.RandomContrast(0.1), \n",
    "    transforms.Resize(224), \n",
    "    transforms.ToTensor()\n",
    "])\n",
    "\n",
    "transform_valid = transforms.Compose([\n",
    "    transforms.Resize(224), \n",
    "    transforms.ToTensor()\n",
    "])"
   ]
  },
  {
   "cell_type": "code",
   "execution_count": 11,
   "metadata": {
    "collapsed": true
   },
   "outputs": [],
   "source": [
    "data_dir = './data/FV_TJ/'\n",
    "batch_size = 8\n",
    "\n",
    "train_ds = vision.ImageFolderDataset(root=data_dir+'train', flag=1)\n",
    "valid_ds = vision.ImageFolderDataset(root=data_dir+'valid', flag=1)\n",
    "\n",
    "train_data = DataLoader(train_ds.transform_first(transform_train), \n",
    "                        batch_size, shuffle=False, last_batch='keep')\n",
    "valid_data = DataLoader(valid_ds.transform_first(transform_valid), \n",
    "                        batch_size, shuffle=False, last_batch='keep')"
   ]
  },
  {
   "cell_type": "code",
   "execution_count": 12,
   "metadata": {},
   "outputs": [
    {
     "name": "stdout",
     "output_type": "stream",
     "text": [
      "640\n",
      "80\n",
      "(8, 3, 224, 224) (8,)\n",
      "\n",
      "[0 0 0 0 0 0 0 0]\n",
      "<NDArray 8 @gpu(0)>\n"
     ]
    }
   ],
   "source": [
    "print(len(valid_ds))\n",
    "\n",
    "print(len(valid_data))\n",
    "for data, label in valid_data:\n",
    "    print(data.shape, label.shape)\n",
    "    print(label.as_in_context(mx.gpu(0)))\n",
    "    break"
   ]
  },
  {
   "cell_type": "code",
   "execution_count": null,
   "metadata": {
    "collapsed": true
   },
   "outputs": [],
   "source": []
  },
  {
   "cell_type": "code",
   "execution_count": 13,
   "metadata": {
    "collapsed": true
   },
   "outputs": [],
   "source": [
    "fingervein_net = get_net(ctx=mx.gpu(0), num_classes=64)\n",
    "fingervein_net.hybridize()\n",
    "fingervein_net.load_params('fingervein_weight_centerloss_TJ.txt', ctx=mx.gpu(0))"
   ]
  },
  {
   "cell_type": "code",
   "execution_count": 14,
   "metadata": {
    "collapsed": true
   },
   "outputs": [],
   "source": [
    "tr_features = np.zeros((320, 1792))\n",
    "tr_labels = np.zeros((320))\n",
    "i = 0\n",
    "for data, label in train_data:\n",
    "    data = data.as_in_context(mx.gpu(0))\n",
    "#             label = label.as_in_context(ctx)\n",
    "    label = label.astype('float32').as_in_context(mx.gpu(0))\n",
    "    output, features = fingervein_net(data)\n",
    "#     print(features.shape)\n",
    "    features = features.asnumpy()\n",
    "    label = label.asnumpy()\n",
    "#     print(features.shape)\n",
    "    if i+8 > 320:\n",
    "        tr_features[i:320, :] = features\n",
    "        tr_labels[i:320] = label\n",
    "    else:\n",
    "        tr_features[i:i+8, :] = features\n",
    "        tr_labels[i:i+8] = label\n",
    "        i+=8"
   ]
  },
  {
   "cell_type": "code",
   "execution_count": 15,
   "metadata": {},
   "outputs": [
    {
     "name": "stdout",
     "output_type": "stream",
     "text": [
      "63.0\n"
     ]
    }
   ],
   "source": [
    "print(tr_labels[319])"
   ]
  },
  {
   "cell_type": "code",
   "execution_count": 16,
   "metadata": {
    "collapsed": true
   },
   "outputs": [],
   "source": [
    "te_features = np.zeros((640, 1792))\n",
    "te_labels = np.zeros((640))\n",
    "i = 0\n",
    "for data, label in valid_data:\n",
    "    data = data.as_in_context(mx.gpu(0))\n",
    "#             label = label.as_in_context(ctx)\n",
    "    label = label.astype('float32').as_in_context(mx.gpu(0))\n",
    "    output, features = fingervein_net(data)\n",
    "#     print(features.shape)\n",
    "    features = features.asnumpy()\n",
    "    label = label.asnumpy()\n",
    "#     print(features.shape)\n",
    "    if i+8 > 640:\n",
    "        te_features[i:640, :] = features\n",
    "        te_labels[i:640] = label\n",
    "    else:\n",
    "        te_features[i:i+8, :] = features\n",
    "        te_labels[i:i+8] = label\n",
    "        i+=8"
   ]
  },
  {
   "cell_type": "code",
   "execution_count": 17,
   "metadata": {},
   "outputs": [
    {
     "name": "stdout",
     "output_type": "stream",
     "text": [
      "(640, 1792)\n"
     ]
    }
   ],
   "source": [
    "print(te_features.shape)"
   ]
  },
  {
   "cell_type": "code",
   "execution_count": 18,
   "metadata": {
    "collapsed": true
   },
   "outputs": [],
   "source": [
    "def fingervein_dist(f1,f2,w=1):\n",
    "    if w == 1:\n",
    "        w = np.ones(f1.shape)\n",
    "    if len(f1.shape) == len(f2.shape) == 1:\n",
    "        dist = np.linalg.norm((f1-f2)*w)\n",
    "    else:\n",
    "        dist = np.linalg.norm((f1-f2)*w, axis=1)\n",
    "    return dist"
   ]
  },
  {
   "cell_type": "code",
   "execution_count": 19,
   "metadata": {
    "collapsed": true
   },
   "outputs": [],
   "source": [
    "def distance_based_prediction(FingerveinEmbedding, train_Labels, f):\n",
    "    \n",
    "    Dists = fingervein_dist(FingerveinEmbedding, f)\n",
    "    \n",
    "    i = np.argmin(Dists)\n",
    "    \n",
    "    return train_Labels[i]"
   ]
  },
  {
   "cell_type": "code",
   "execution_count": null,
   "metadata": {
    "collapsed": true
   },
   "outputs": [],
   "source": []
  },
  {
   "cell_type": "code",
   "execution_count": 20,
   "metadata": {},
   "outputs": [
    {
     "name": "stdout",
     "output_type": "stream",
     "text": [
      "Fingervein recognition accuracy using purely distance based method: 100.000 %\n"
     ]
    }
   ],
   "source": [
    "# test accuracy\n",
    "nCorrect = 0\n",
    "ntest = te_features.shape[0]\n",
    "for i in range(ntest):\n",
    "    p = distance_based_prediction(tr_features, tr_labels, te_features[i])\n",
    "    if p == te_labels[i]:\n",
    "        nCorrect += 1\n",
    "print('Fingervein recognition accuracy using purely distance based method: %3.3f %%' % (100.*(0.+nCorrect)/ntest))"
   ]
  },
  {
   "cell_type": "code",
   "execution_count": 21,
   "metadata": {},
   "outputs": [
    {
     "name": "stdout",
     "output_type": "stream",
     "text": [
      "640\n"
     ]
    }
   ],
   "source": [
    "print(nCorrect)"
   ]
  },
  {
   "cell_type": "code",
   "execution_count": 22,
   "metadata": {},
   "outputs": [
    {
     "data": {
      "image/png": "[encoded data removed]",
      "text/plain": [
       "<matplotlib.figure.Figure at 0x7f0ef80645f8>"
      ]
     },
     "metadata": {},
     "output_type": "display_data"
    }
   ],
   "source": [
    "pca = decomposition.PCA(n_components = 2)\n",
    "x_std = StandardScaler().fit_transform(tr_features)\n",
    "x_feature_pca = pca.fit_transform(x_std)\n",
    "plt.scatter(x_feature_pca[:,0],x_feature_pca[:,1],c=tr_labels, cmap='jet')\n",
    "plt.title('feature space')\n",
    "plt.savefig('feature space -centerloss -TJ.png')"
   ]
  },
  {
   "cell_type": "code",
   "execution_count": null,
   "metadata": {
    "collapsed": true
   },
   "outputs": [],
   "source": []
  },
  {
   "cell_type": "code",
   "execution_count": 23,
   "metadata": {},
   "outputs": [
    {
     "name": "stderr",
     "output_type": "stream",
     "text": [
      "<input>:28: DeprecationWarning: invalid escape sequence \\-\n",
      "<input>:28: DeprecationWarning: invalid escape sequence \\-\n",
      "<input>:28: DeprecationWarning: invalid escape sequence \\-\n",
      "<input>:28: DeprecationWarning: invalid escape sequence \\-\n",
      "<input>:29: DeprecationWarning: invalid escape sequence \\-\n",
      "<input>:28: DeprecationWarning: invalid escape sequence \\-\n",
      "<input>:29: DeprecationWarning: invalid escape sequence \\-\n",
      "<input>:28: DeprecationWarning: invalid escape sequence \\-\n",
      "<input>:29: DeprecationWarning: invalid escape sequence \\-\n",
      "<ipython-input-23-8002f426b3eb>:28: DeprecationWarning: invalid escape sequence \\-\n",
      "  print('Cross-class distance = %1.3f +\\- %1.3f' % (Distances_among_class.mean(), Distances_among_class.std()))\n",
      "<ipython-input-23-8002f426b3eb>:29: DeprecationWarning: invalid escape sequence \\-\n",
      "  print('Same-class distance = %1.3f +\\- %1.3f' % (Distances_within_class.mean(), Distances_within_class.std()))\n"
     ]
    },
    {
     "name": "stdout",
     "output_type": "stream",
     "text": [
      "Cross-class distance = 4.686 +\\- 0.349\n",
      "Same-class distance = 0.327 +\\- 0.382\n"
     ]
    },
    {
     "data": {
      "image/png": "[encoded data removed]",
      "text/plain": [
       "<matplotlib.figure.Figure at 0x7f0ef3fc2b38>"
      ]
     },
     "metadata": {},
     "output_type": "display_data"
    }
   ],
   "source": [
    "Distances_within_class = []\n",
    "Distances_among_class = []\n",
    "\n",
    "ntrain = tr_features.shape[0]\n",
    "ntest = te_features.shape[0]\n",
    "\n",
    "for i in range(ntest):\n",
    "    for j in range(ntrain):\n",
    "        cur_dist = fingervein_dist(tr_features[j,:],te_features[i,:])\n",
    "        if te_labels[i] == tr_labels[j]:\n",
    "            Distances_within_class.append(cur_dist)\n",
    "        else:\n",
    "            Distances_among_class.append(cur_dist)\n",
    "            \n",
    "Distances_within_class = np.array(Distances_within_class)\n",
    "Distances_among_class = np.array(Distances_among_class)\n",
    "\n",
    "\n",
    "plt.figure()\n",
    "_ = plt.hist(Distances_among_class,bins = 50, label = 'inter-class',normed = True)\n",
    "_ = plt.hist(Distances_within_class,bins = 50, label = 'intra-class', normed = True)\n",
    "plt.title('Distribution of cross-class distance')\n",
    "plt.xlabel('distance')\n",
    "plt.ylabel('percent(%)')\n",
    "plt.legend()\n",
    "plt.savefig('Distribution of cross-class distance center-loss -TJ.png')\n",
    "\n",
    "print('Cross-class distance = %1.3f +\\- %1.3f' % (Distances_among_class.mean(), Distances_among_class.std()))\n",
    "print('Same-class distance = %1.3f +\\- %1.3f' % (Distances_within_class.mean(), Distances_within_class.std()))"
   ]
  },
  {
   "cell_type": "code",
   "execution_count": 24,
   "metadata": {},
   "outputs": [
    {
     "name": "stdout",
     "output_type": "stream",
     "text": [
      "EER =  0.0\n",
      "EER =  0.0\n",
      "EER =  0.0\n",
      "EER =  0.0\n",
      "pct of false positive 0.004 %\n",
      "pct of false negative 0.000 %\n",
      "accuracy = 99.996\n"
     ]
    },
    {
     "data": {
      "image/png": "[encoded data removed]",
      "text/plain": [
       "<matplotlib.figure.Figure at 0x7f0ef3baaa58>"
      ]
     },
     "metadata": {},
     "output_type": "display_data"
    }
   ],
   "source": [
    "FP = []\n",
    "FN = []\n",
    "GAR = []\n",
    "EER = 0\n",
    "for threshold in np.arange(0,max(Distances_among_class),0.01):\n",
    "    FP.append(100.0*np.sum(Distances_among_class<threshold)/len(Distances_among_class))\n",
    "    FN.append(100.0*np.sum(Distances_within_class>threshold)/len(Distances_within_class))\n",
    "    if np.abs((100.0*np.sum(Distances_among_class<threshold)/len(Distances_among_class)) - (100.0*np.sum(Distances_within_class>threshold)/len(Distances_within_class))) < 0.0001:\n",
    "        print(\"EER = \", 0.5*(100.0*np.sum(Distances_among_class<threshold)/len(Distances_among_class)+100.0*np.sum(Distances_within_class>threshold)/len(Distances_within_class)))\n",
    "GAR = FN\n",
    "for i, value in enumerate(FN):\n",
    "    GAR[i] = 100 - FN[i]\n",
    "                                                                \n",
    "plt.plot(FP,GAR)\n",
    "plt.xlabel('False Acceptance Rate(%)')\n",
    "plt.ylabel('Genuine Acceptance Rate(%)')\n",
    "plt.title('ROC curve of FV-TJ')\n",
    "plt.savefig('ROC curve -center-loss -TJ.png')\n",
    "threshold = 3.1\n",
    "print('pct of false positive %2.3f %%' % (100.0*np.sum(Distances_among_class<threshold)/len(Distances_among_class)))\n",
    "print('pct of false negative %2.3f %%' % (100.0*np.sum(Distances_within_class>threshold)/len(Distances_within_class)))\n",
    "\n",
    "print('accuracy = %2.3f' % (100.0*(np.sum(Distances_among_class>threshold)+np.sum(Distances_within_class<threshold))/(len(Distances_among_class)+len(Distances_within_class))))"
   ]
  },
  {
   "cell_type": "code",
   "execution_count": 53,
   "metadata": {
    "collapsed": true
   },
   "outputs": [],
   "source": [
    "a = [1, 2, 3]\n",
    "for i, value in enumerate(a):\n",
    "    a[i] -= 3"
   ]
  },
  {
   "cell_type": "code",
   "execution_count": 54,
   "metadata": {},
   "outputs": [
    {
     "data": {
      "text/plain": [
       "[-2, -1, 0]"
      ]
     },
     "execution_count": 54,
     "metadata": {},
     "output_type": "execute_result"
    }
   ],
   "source": [
    "a"
   ]
  },
  {
   "cell_type": "code",
   "execution_count": null,
   "metadata": {
    "collapsed": true
   },
   "outputs": [],
   "source": []
  }
 ],
 "metadata": {
  "kernelspec": {
   "display_name": "Python 3",
   "language": "python",
   "name": "python3"
  },
  "language_info": {
   "codemirror_mode": {
    "name": "ipython",
    "version": 3
   },
   "file_extension": ".py",
   "mimetype": "text/x-python",
   "name": "python",
   "nbconvert_exporter": "python",
   "pygments_lexer": "ipython3",
   "version": "3.6.3"
  }
 },
 "nbformat": 4,
 "nbformat_minor": 2
}
